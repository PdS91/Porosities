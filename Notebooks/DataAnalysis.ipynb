{
 "cells": [
  {
   "cell_type": "code",
   "execution_count": null,
   "metadata": {
    "executionInfo": {
     "elapsed": 19,
     "status": "ok",
     "timestamp": 1741689992575,
     "user": {
      "displayName": "Pietro del Sorbo",
      "userId": "01555363494258854793"
     },
     "user_tz": -60
    },
    "id": "M-BI1EkZVGld"
   },
   "outputs": [],
   "source": [
    "import numpy as np\n",
    "import pandas as pd\n",
    "import matplotlib.pyplot as plt\n",
    "import seaborn as sns\n",
    "import plotly.express as px\n",
    "import os\n",
    "import re\n",
    "import torch\n",
    "from torch.utils.data import Dataset, random_split, DataLoader\n",
    "import numpy as np\n",
    "import os"
   ]
  },
  {
   "cell_type": "markdown",
   "metadata": {
    "id": "n6iMq-h0oi6D"
   },
   "source": [
    "The problem ask to identify the spatial distribution of porosities given a certain density. This problem can be modeled as finding conditioned distribution p(x|c) where c is the density of the microstructure and x is the 30e3 vector of the porosities."
   ]
  },
  {
   "cell_type": "code",
   "execution_count": null,
   "metadata": {
    "executionInfo": {
     "elapsed": 2,
     "status": "ok",
     "timestamp": 1741689992579,
     "user": {
      "displayName": "Pietro del Sorbo",
      "userId": "01555363494258854793"
     },
     "user_tz": -60
    },
    "id": "IKXN-I8vTJiV"
   },
   "outputs": [],
   "source": [
    "path = '/gpfs/data/ssa/users/d602145/Workspace/scratch/Porosity/ETH/'\n",
    "os.chdir(path)"
   ]
  },
  {
   "cell_type": "markdown",
   "metadata": {
    "id": "edjV7_sVmpUv"
   },
   "source": [
    "Start with a standard data analysis before deciding which kind of strategy to apply to the problem\n"
   ]
  },
  {
   "cell_type": "markdown",
   "metadata": {
    "id": "h6D56_cCm1Iw"
   },
   "source": [
    "First We build a class to perform standard operations over the samples. Each sample is seen as a 3D distribution that we can plot in 3D. This is useful to understand the evolution of the spatial distribution of porosities. We want to check if some clusters appear increasing the level of porosity density. This imply that porosities are not issued from a random distribution, but there is a hidden criteria behind."
   ]
  },
  {
   "cell_type": "code",
   "execution_count": null,
   "metadata": {
    "executionInfo": {
     "elapsed": 3,
     "status": "ok",
     "timestamp": 1741689992584,
     "user": {
      "displayName": "Pietro del Sorbo",
      "userId": "01555363494258854793"
     },
     "user_tz": -60
    },
    "id": "vmtMHymnbew-"
   },
   "outputs": [],
   "source": [
    "from Lib.Data import PorosityDistribution\n",
    "\n"
   ]
  },
  {
   "cell_type": "markdown",
   "metadata": {
    "id": "FCzMRtaHotHF"
   },
   "source": [
    "We build then 2 functions to extract datas. First one is used to create a dictionary of samples, where each sample is a microstructure. Second one create a dataframe with all the porosities of all the samples. This 2 will be used for different stats"
   ]
  },
  {
   "cell_type": "code",
   "execution_count": null,
   "metadata": {
    "executionInfo": {
     "elapsed": 3,
     "status": "ok",
     "timestamp": 1741689992589,
     "user": {
      "displayName": "Pietro del Sorbo",
      "userId": "01555363494258854793"
     },
     "user_tz": -60
    },
    "id": "6eGXu9aWToWA"
   },
   "outputs": [],
   "source": [
    "from Lib.Data import extract_microstructures,extract_porosities_points"
   ]
  },
  {
   "cell_type": "code",
   "execution_count": null,
   "metadata": {},
   "outputs": [],
   "source": [
    "sample_path = os.getcwd()+'/Job_Assignment_Data/Job_Assignment_Data/'"
   ]
  },
  {
   "cell_type": "code",
   "execution_count": null,
   "metadata": {
    "executionInfo": {
     "elapsed": 8259,
     "status": "ok",
     "timestamp": 1741690000851,
     "user": {
      "displayName": "Pietro del Sorbo",
      "userId": "01555363494258854793"
     },
     "user_tz": -60
    },
    "id": "51ZOTrkyVRTM"
   },
   "outputs": [],
   "source": [
    "extracted_distributions = extract_microstructures(sample_path)\n",
    "extracted_porosities, density_set = extract_porosities_points(sample_path)"
   ]
  },
  {
   "cell_type": "markdown",
   "metadata": {
    "id": "p7CmwtNupZwG"
   },
   "source": [
    "Let's check the microstructures first"
   ]
  },
  {
   "cell_type": "code",
   "execution_count": null,
   "metadata": {
    "colab": {
     "base_uri": "https://localhost:8080/",
     "height": 542
    },
    "executionInfo": {
     "elapsed": 196,
     "status": "ok",
     "timestamp": 1741690001052,
     "user": {
      "displayName": "Pietro del Sorbo",
      "userId": "01555363494258854793"
     },
     "user_tz": -60
    },
    "id": "1zGgUatQijKr",
    "outputId": "a4c4625e-5ca4-4c78-cb3a-5f853456dfc3"
   },
   "outputs": [],
   "source": [
    "extracted_distributions[0].plot_porosity_distribution()"
   ]
  },
  {
   "cell_type": "code",
   "execution_count": null,
   "metadata": {
    "colab": {
     "base_uri": "https://localhost:8080/",
     "height": 542
    },
    "executionInfo": {
     "elapsed": 59,
     "status": "ok",
     "timestamp": 1741690001126,
     "user": {
      "displayName": "Pietro del Sorbo",
      "userId": "01555363494258854793"
     },
     "user_tz": -60
    },
    "id": "fAYgx6X7iyYY",
    "outputId": "3600f2b6-82e6-4c58-ce3e-32f98d0dd515"
   },
   "outputs": [],
   "source": [
    "extracted_distributions[0].plot_porosity_histogram()"
   ]
  },
  {
   "cell_type": "code",
   "execution_count": null,
   "metadata": {
    "colab": {
     "base_uri": "https://localhost:8080/",
     "height": 542
    },
    "executionInfo": {
     "elapsed": 139,
     "status": "ok",
     "timestamp": 1741690001267,
     "user": {
      "displayName": "Pietro del Sorbo",
      "userId": "01555363494258854793"
     },
     "user_tz": -60
    },
    "id": "6ivd4d0Oj2Rm",
    "outputId": "585f1433-bc7e-4c72-8eff-2a8af075d6f7"
   },
   "outputs": [],
   "source": [
    "extracted_distributions[7].plot_porosity_distribution()"
   ]
  },
  {
   "cell_type": "code",
   "execution_count": null,
   "metadata": {
    "colab": {
     "base_uri": "https://localhost:8080/",
     "height": 542
    },
    "executionInfo": {
     "elapsed": 10,
     "status": "ok",
     "timestamp": 1741690001281,
     "user": {
      "displayName": "Pietro del Sorbo",
      "userId": "01555363494258854793"
     },
     "user_tz": -60
    },
    "id": "pFsDqL61o5NO",
    "outputId": "e0bbce35-2e1f-4b08-e6a1-276e0bbf2d88"
   },
   "outputs": [],
   "source": [
    "extracted_distributions[7].plot_porosity_histogram()"
   ]
  },
  {
   "cell_type": "code",
   "execution_count": null,
   "metadata": {
    "colab": {
     "base_uri": "https://localhost:8080/",
     "height": 542
    },
    "executionInfo": {
     "elapsed": 9,
     "status": "ok",
     "timestamp": 1741690001292,
     "user": {
      "displayName": "Pietro del Sorbo",
      "userId": "01555363494258854793"
     },
     "user_tz": -60
    },
    "id": "88ICnpipo_vX",
    "outputId": "bc575843-be45-42b4-d133-bf1e4a70d035"
   },
   "outputs": [],
   "source": [
    "\n",
    "extracted_distributions[15].plot_porosity_distribution()"
   ]
  },
  {
   "cell_type": "code",
   "execution_count": null,
   "metadata": {
    "colab": {
     "base_uri": "https://localhost:8080/",
     "height": 542
    },
    "executionInfo": {
     "elapsed": 118,
     "status": "ok",
     "timestamp": 1741690001411,
     "user": {
      "displayName": "Pietro del Sorbo",
      "userId": "01555363494258854793"
     },
     "user_tz": -60
    },
    "id": "dBgxUzB2pNo6",
    "outputId": "ad684df9-168f-440f-9d01-5de9290ee516"
   },
   "outputs": [],
   "source": [
    "extracted_distributions[15].plot_porosity_histogram()"
   ]
  },
  {
   "cell_type": "code",
   "execution_count": null,
   "metadata": {
    "colab": {
     "base_uri": "https://localhost:8080/",
     "height": 752
    },
    "executionInfo": {
     "elapsed": 13199,
     "status": "ok",
     "timestamp": 1741690014612,
     "user": {
      "displayName": "Pietro del Sorbo",
      "userId": "01555363494258854793"
     },
     "user_tz": -60
    },
    "id": "n5vi6fKe-_Vi",
    "outputId": "d547685c-482c-4bad-e09b-bd7e10296d8c"
   },
   "outputs": [],
   "source": [
    "por = extracted_distributions[0].plot_porosity_pairgrid()"
   ]
  },
  {
   "cell_type": "markdown",
   "metadata": {
    "id": "DgWja2JmqgWw"
   },
   "source": [
    "As we can oberve the density is proportional to the number of porosities within the structure. Cluster appears as the radius of porosities get bigger. The porosity are not uniformly distributed within the cluster."
   ]
  },
  {
   "cell_type": "code",
   "execution_count": null,
   "metadata": {
    "colab": {
     "base_uri": "https://localhost:8080/",
     "height": 424
    },
    "executionInfo": {
     "elapsed": 14,
     "status": "ok",
     "timestamp": 1741690014619,
     "user": {
      "displayName": "Pietro del Sorbo",
      "userId": "01555363494258854793"
     },
     "user_tz": -60
    },
    "id": "EKHbUc677CNa",
    "outputId": "451c2bf8-47e7-47eb-ec02-abe6473eb70d"
   },
   "outputs": [],
   "source": [
    "extracted_distributions[0].as_dataframe()"
   ]
  },
  {
   "cell_type": "code",
   "execution_count": null,
   "metadata": {
    "colab": {
     "base_uri": "https://localhost:8080/",
     "height": 424
    },
    "executionInfo": {
     "elapsed": 18,
     "status": "ok",
     "timestamp": 1741690014628,
     "user": {
      "displayName": "Pietro del Sorbo",
      "userId": "01555363494258854793"
     },
     "user_tz": -60
    },
    "id": "Lpa296trc1gn",
    "outputId": "724e29f2-7201-42ca-c8e6-755c1b7d7741"
   },
   "outputs": [],
   "source": [
    "extracted_distributions[10].as_dataframe()"
   ]
  },
  {
   "cell_type": "code",
   "execution_count": null,
   "metadata": {
    "colab": {
     "base_uri": "https://localhost:8080/",
     "height": 424
    },
    "executionInfo": {
     "elapsed": 10,
     "status": "ok",
     "timestamp": 1741690014637,
     "user": {
      "displayName": "Pietro del Sorbo",
      "userId": "01555363494258854793"
     },
     "user_tz": -60
    },
    "id": "l2otrDQidHq6",
    "outputId": "b8015d1a-c6d8-4ccf-a9d6-c3d0396736b8"
   },
   "outputs": [],
   "source": [
    "extracted_distributions[15].as_dataframe()"
   ]
  },
  {
   "cell_type": "markdown",
   "metadata": {
    "id": "UvL6cd3LrI3o"
   },
   "source": [
    "As specified in the pdf the grid is equally spaced and porosities are given in a constant 3D grid among the samples"
   ]
  },
  {
   "cell_type": "markdown",
   "metadata": {
    "id": "aJFPF9Ikreco"
   },
   "source": [
    "Lets check the macro trend of the density against the porosity mean within the samples"
   ]
  },
  {
   "cell_type": "code",
   "execution_count": null,
   "metadata": {
    "colab": {
     "base_uri": "https://localhost:8080/",
     "height": 542
    },
    "executionInfo": {
     "elapsed": 305,
     "status": "ok",
     "timestamp": 1741690014946,
     "user": {
      "displayName": "Pietro del Sorbo",
      "userId": "01555363494258854793"
     },
     "user_tz": -60
    },
    "id": "Ilq0eJTmjBlh",
    "outputId": "a83281d6-af79-4fcb-ee61-6cc94b62038e"
   },
   "outputs": [],
   "source": [
    "import plotly.express as px\n",
    "\n",
    "porosity_means = []\n",
    "density_means = []\n",
    "sample_numbers = []  # To store sample numbers for hover data\n",
    "\n",
    "for key, distribution in extracted_distributions.items():\n",
    "    df = distribution.as_dataframe()\n",
    "    porosity_means.append(df['porosity'].mean())\n",
    "    density_means.append(df['density'].mean())\n",
    "    sample_numbers.append(key)  # Store the sample number\n",
    "\n",
    "# Create the scatter plot\n",
    "fig = px.scatter(x=density_means, y=porosity_means,\n",
    "                 hover_data={'Sample Number': sample_numbers},  # Add hover data\n",
    "                 title=\"Scatter Plot of Density Mean vs. Porosity Mean\")\n",
    "fig.update_xaxes(title_text=\"Density Mean\")\n",
    "fig.update_yaxes(title_text=\"Porosity Mean\")\n",
    "fig.show()"
   ]
  },
  {
   "cell_type": "markdown",
   "metadata": {
    "id": "vT2EWE1IvxHI"
   },
   "source": [
    "We can see a clear trend (looks like a quadratic or exponential curve with appropriate scaling). It's interesting to see that for higher desity values there is more dispersion. I would expect more structures could be associated to one density value. like a one t many problem\n"
   ]
  },
  {
   "cell_type": "code",
   "execution_count": null,
   "metadata": {
    "colab": {
     "base_uri": "https://localhost:8080/",
     "height": 424
    },
    "executionInfo": {
     "elapsed": 18,
     "status": "ok",
     "timestamp": 1741690014966,
     "user": {
      "displayName": "Pietro del Sorbo",
      "userId": "01555363494258854793"
     },
     "user_tz": -60
    },
    "id": "5UgVeEG4rqcv",
    "outputId": "c2784dde-29a8-4d03-850f-1dd21828463f"
   },
   "outputs": [],
   "source": [
    "extracted_porosities"
   ]
  },
  {
   "cell_type": "markdown",
   "metadata": {
    "id": "gqMSnQVuvq6G"
   },
   "source": [
    "It could be interesting to asses if there are more samples associated to the value of density and check if their microstructures are different"
   ]
  },
  {
   "cell_type": "code",
   "execution_count": null,
   "metadata": {
    "colab": {
     "base_uri": "https://localhost:8080/",
     "height": 272
    },
    "executionInfo": {
     "elapsed": 9,
     "status": "ok",
     "timestamp": 1741690014976,
     "user": {
      "displayName": "Pietro del Sorbo",
      "userId": "01555363494258854793"
     },
     "user_tz": -60
    },
    "id": "MPGkdwTIh9Fy",
    "outputId": "e33df50c-e5c8-45d6-fd93-3d24cbf3614b"
   },
   "outputs": [],
   "source": [
    "density_set.value_counts().value_counts()"
   ]
  },
  {
   "cell_type": "code",
   "execution_count": null,
   "metadata": {
    "colab": {
     "base_uri": "https://localhost:8080/",
     "height": 490
    },
    "executionInfo": {
     "elapsed": 69,
     "status": "ok",
     "timestamp": 1741690051635,
     "user": {
      "displayName": "Pietro del Sorbo",
      "userId": "01555363494258854793"
     },
     "user_tz": -60
    },
    "id": "HNfFtIIfiBwE",
    "outputId": "6dd89cb1-fd9f-437b-c638-5758554668f1"
   },
   "outputs": [],
   "source": [
    "density_set.value_counts()"
   ]
  },
  {
   "cell_type": "code",
   "execution_count": null,
   "metadata": {
    "colab": {
     "base_uri": "https://localhost:8080/",
     "height": 238
    },
    "executionInfo": {
     "elapsed": 142,
     "status": "ok",
     "timestamp": 1741690113747,
     "user": {
      "displayName": "Pietro del Sorbo",
      "userId": "01555363494258854793"
     },
     "user_tz": -60
    },
    "id": "CDW-pYtLw5-f",
    "outputId": "19c89802-f756-42e2-b9cf-f5c3bacc5c8f"
   },
   "outputs": [],
   "source": [
    "density_set[density_set['density']==0.192]"
   ]
  },
  {
   "cell_type": "code",
   "execution_count": null,
   "metadata": {
    "colab": {
     "base_uri": "https://localhost:8080/",
     "height": 542
    },
    "executionInfo": {
     "elapsed": 424,
     "status": "ok",
     "timestamp": 1741690211547,
     "user": {
      "displayName": "Pietro del Sorbo",
      "userId": "01555363494258854793"
     },
     "user_tz": -60
    },
    "id": "ujo8q9I-00rB",
    "outputId": "5b0fd168-2c18-4a84-be29-a44b1ea173ad"
   },
   "outputs": [],
   "source": [
    "extracted_distributions[225].plot_porosity_distribution()"
   ]
  },
  {
   "cell_type": "code",
   "execution_count": null,
   "metadata": {
    "colab": {
     "base_uri": "https://localhost:8080/",
     "height": 542
    },
    "executionInfo": {
     "elapsed": 471,
     "status": "ok",
     "timestamp": 1741690122034,
     "user": {
      "displayName": "Pietro del Sorbo",
      "userId": "01555363494258854793"
     },
     "user_tz": -60
    },
    "id": "HlDAzZapxGKb",
    "outputId": "d49e4942-78c6-43cf-a81a-43740e36ecba"
   },
   "outputs": [],
   "source": [
    "extracted_distributions[225].plot_porosity_histogram()"
   ]
  },
  {
   "cell_type": "code",
   "execution_count": null,
   "metadata": {
    "colab": {
     "base_uri": "https://localhost:8080/",
     "height": 542
    },
    "executionInfo": {
     "elapsed": 244,
     "status": "ok",
     "timestamp": 1741690273206,
     "user": {
      "displayName": "Pietro del Sorbo",
      "userId": "01555363494258854793"
     },
     "user_tz": -60
    },
    "id": "jhs4_Xz70-2x",
    "outputId": "353f301a-112d-43bd-c423-d2ab683aa5a8"
   },
   "outputs": [],
   "source": [
    "extracted_distributions[208].plot_porosity_distribution()"
   ]
  },
  {
   "cell_type": "code",
   "execution_count": null,
   "metadata": {
    "colab": {
     "base_uri": "https://localhost:8080/",
     "height": 542
    },
    "executionInfo": {
     "elapsed": 602,
     "status": "ok",
     "timestamp": 1741690136307,
     "user": {
      "displayName": "Pietro del Sorbo",
      "userId": "01555363494258854793"
     },
     "user_tz": -60
    },
    "id": "yyhkwNwQxzGF",
    "outputId": "c433673a-5cee-42de-af20-60327ad834f1"
   },
   "outputs": [],
   "source": [
    "extracted_distributions[208].plot_porosity_histogram()"
   ]
  },
  {
   "cell_type": "code",
   "execution_count": null,
   "metadata": {
    "colab": {
     "base_uri": "https://localhost:8080/",
     "height": 206
    },
    "executionInfo": {
     "elapsed": 225,
     "status": "ok",
     "timestamp": 1741690406039,
     "user": {
      "displayName": "Pietro del Sorbo",
      "userId": "01555363494258854793"
     },
     "user_tz": -60
    },
    "id": "iVwFpcnD0tDz",
    "outputId": "26213b13-08cb-488d-a1ba-32d03f2435a7"
   },
   "outputs": [],
   "source": [
    "density_set[density_set['density']==0.647]"
   ]
  },
  {
   "cell_type": "code",
   "execution_count": null,
   "metadata": {
    "colab": {
     "base_uri": "https://localhost:8080/",
     "height": 542
    },
    "executionInfo": {
     "elapsed": 370,
     "status": "ok",
     "timestamp": 1741690421974,
     "user": {
      "displayName": "Pietro del Sorbo",
      "userId": "01555363494258854793"
     },
     "user_tz": -60
    },
    "id": "t04db0Ed1oKA",
    "outputId": "997f4230-b539-41d7-eedf-bac1f50e2cd9"
   },
   "outputs": [],
   "source": [
    "extracted_distributions[197].plot_porosity_histogram()\n",
    "extracted_distributions[277].plot_porosity_histogram()\n",
    "extracted_distributions[295].plot_porosity_histogram()"
   ]
  },
  {
   "cell_type": "code",
   "execution_count": null,
   "metadata": {
    "colab": {
     "base_uri": "https://localhost:8080/",
     "height": 542
    },
    "executionInfo": {
     "elapsed": 331,
     "status": "ok",
     "timestamp": 1741690842688,
     "user": {
      "displayName": "Pietro del Sorbo",
      "userId": "01555363494258854793"
     },
     "user_tz": -60
    },
    "id": "IoCVuGaF3CXf",
    "outputId": "f295e2a3-93ad-4334-e90f-ca7f230faf12"
   },
   "outputs": [],
   "source": [
    "extracted_distributions[24].plot_porosity_histogram()\n",
    "extracted_distributions[229].plot_porosity_histogram()\n",
    "extracted_distributions[115].plot_porosity_histogram()"
   ]
  },
  {
   "cell_type": "code",
   "execution_count": null,
   "metadata": {},
   "outputs": [],
   "source": [
    "extracted_porosities.shape"
   ]
  },
  {
   "cell_type": "code",
   "execution_count": null,
   "metadata": {
    "id": "ickVqZQx4Bxr"
   },
   "outputs": [],
   "source": [
    "filt_extracted_distributions = extract_microstructures(sample_path,keep_density_doubles=False)\n",
    "filt_extracted_porosities, density_set = extract_porosities_points(sample_path,keep_density_doubles=False)"
   ]
  },
  {
   "cell_type": "code",
   "execution_count": null,
   "metadata": {},
   "outputs": [],
   "source": [
    "filt_extracted_porosities.shape"
   ]
  },
  {
   "cell_type": "code",
   "execution_count": null,
   "metadata": {},
   "outputs": [],
   "source": [
    "filt_extracted_porosities.sort_values(by='density',inplace=True)\n",
    "filt_extracted_porosities['density'].value_counts"
   ]
  },
  {
   "cell_type": "code",
   "execution_count": null,
   "metadata": {},
   "outputs": [],
   "source": [
    "density_set.sort_values(by='density',inplace=True)"
   ]
  },
  {
   "cell_type": "code",
   "execution_count": null,
   "metadata": {},
   "outputs": [],
   "source": [
    "density_set"
   ]
  },
  {
   "cell_type": "code",
   "execution_count": null,
   "metadata": {},
   "outputs": [],
   "source": [
    "px.histogram(density_set,nbins=50)"
   ]
  },
  {
   "cell_type": "code",
   "execution_count": null,
   "metadata": {},
   "outputs": [],
   "source": [
    "filt_extracted_porosities.head()"
   ]
  },
  {
   "cell_type": "code",
   "execution_count": null,
   "metadata": {},
   "outputs": [],
   "source": [
    "filt_extracted_porosities.groupby(by='density').count()"
   ]
  },
  {
   "cell_type": "code",
   "execution_count": null,
   "metadata": {},
   "outputs": [],
   "source": [
    "px.scatter(filt_extracted_porosities.groupby(by='density').count())"
   ]
  },
  {
   "cell_type": "code",
   "execution_count": null,
   "metadata": {},
   "outputs": [],
   "source": [
    "filt_extracted_porosities"
   ]
  },
  {
   "cell_type": "code",
   "execution_count": null,
   "metadata": {},
   "outputs": [],
   "source": [
    "from Lib.Tools import conditioned_random_sampling"
   ]
  },
  {
   "cell_type": "code",
   "execution_count": null,
   "metadata": {},
   "outputs": [],
   "source": [
    "balanced_porosities = conditioned_random_sampling(filt_extracted_porosities,n_samples=3000)"
   ]
  },
  {
   "cell_type": "code",
   "execution_count": null,
   "metadata": {},
   "outputs": [],
   "source": [
    "balanced_porosities.shape"
   ]
  },
  {
   "cell_type": "code",
   "execution_count": null,
   "metadata": {},
   "outputs": [],
   "source": [
    "px.scatter(balanced_porosities.groupby(by='density').count())"
   ]
  },
  {
   "cell_type": "code",
   "execution_count": null,
   "metadata": {},
   "outputs": [],
   "source": [
    "balanced_porosities['density'].unique()"
   ]
  },
  {
   "cell_type": "code",
   "execution_count": null,
   "metadata": {},
   "outputs": [],
   "source": [
    "fig = px.histogram(balanced_porosities[balanced_porosities['density']==0.975].iloc[:,:3],facet_col='variable',histnorm='probability',nbins=100)\n",
    "fig.show()\n",
    "fig = px.histogram(filt_extracted_porosities[filt_extracted_porosities['density']==0.975].iloc[:,:3],facet_col='variable',histnorm='probability',nbins=100)\n",
    "fig.show()"
   ]
  },
  {
   "cell_type": "code",
   "execution_count": null,
   "metadata": {},
   "outputs": [],
   "source": [
    "fig = px.histogram(balanced_porosities[balanced_porosities['density']==0.536].iloc[:,:3],facet_col='variable',histnorm='probability',nbins=100)\n",
    "fig.show()\n",
    "fig = px.histogram(filt_extracted_porosities[filt_extracted_porosities['density']==0.536].iloc[:,:3],facet_col='variable',histnorm='probability',nbins=100)\n",
    "fig.show()"
   ]
  },
  {
   "cell_type": "code",
   "execution_count": null,
   "metadata": {},
   "outputs": [],
   "source": [
    "fig = px.histogram(balanced_porosities[balanced_porosities['density']==0.231].iloc[:,:3],facet_col='variable',histnorm='probability',nbins=100)\n",
    "fig.show()\n",
    "fig = px.histogram(filt_extracted_porosities[filt_extracted_porosities['density']==0.231].iloc[:,:3],facet_col='variable',histnorm='probability',nbins=100)\n",
    "fig.show()"
   ]
  },
  {
   "cell_type": "code",
   "execution_count": null,
   "metadata": {},
   "outputs": [],
   "source": [
    "balanced_porosities.head()"
   ]
  },
  {
   "cell_type": "code",
   "execution_count": null,
   "metadata": {},
   "outputs": [],
   "source": [
    "porosities = np.zeros((512,27000))\n",
    "density = np.zeros((512,1))"
   ]
  },
  {
   "cell_type": "code",
   "execution_count": null,
   "metadata": {},
   "outputs": [],
   "source": [
    "for i in range(porosities.shape[0]):\n",
    "    \n",
    "    porosities[i,:] = extracted_distributions[i].as_dataframe()['porosity'].values\n",
    "    density[i,0] = extracted_distributions[i].density"
   ]
  },
  {
   "cell_type": "code",
   "execution_count": null,
   "metadata": {},
   "outputs": [],
   "source": [
    "porosities"
   ]
  },
  {
   "cell_type": "code",
   "execution_count": null,
   "metadata": {},
   "outputs": [],
   "source": [
    "from sklearn.decomposition import PCA\n",
    "\n",
    "pca_comp = 500\n",
    "\n",
    "pca = PCA(n_components=500)\n",
    "\n",
    "pca.fit(porosities)"
   ]
  },
  {
   "cell_type": "code",
   "execution_count": null,
   "metadata": {},
   "outputs": [],
   "source": [
    "pca.explained_variance_ratio_.cumsum()"
   ]
  },
  {
   "cell_type": "code",
   "execution_count": null,
   "metadata": {},
   "outputs": [],
   "source": [
    "px.scatter(pca.explained_variance_ratio_)"
   ]
  },
  {
   "cell_type": "code",
   "execution_count": null,
   "metadata": {},
   "outputs": [],
   "source": [
    "reduced = pca.transform(porosities)"
   ]
  },
  {
   "cell_type": "code",
   "execution_count": null,
   "metadata": {},
   "outputs": [],
   "source": [
    "df_reduced = pd.DataFrame(reduced, columns=[i for i in range(pca_comp)])"
   ]
  },
  {
   "cell_type": "code",
   "execution_count": null,
   "metadata": {},
   "outputs": [],
   "source": [
    "df_reduced['density'] = density"
   ]
  },
  {
   "cell_type": "code",
   "execution_count": null,
   "metadata": {},
   "outputs": [],
   "source": [
    "df_reduced.head()"
   ]
  },
  {
   "cell_type": "code",
   "execution_count": null,
   "metadata": {},
   "outputs": [],
   "source": [
    "sns.heatmap(df_reduced.corr())"
   ]
  },
  {
   "cell_type": "code",
   "execution_count": null,
   "metadata": {},
   "outputs": [],
   "source": [
    "\n",
    "g = sns.PairGrid(df_reduced.iloc[:200,::50], diag_sharey=False)\n",
    "g.map_upper(sns.scatterplot, s=5)\n",
    "g.map_lower(sns.kdeplot)\n",
    "g.map_diag(sns.histplot,bins=30)"
   ]
  },
  {
   "cell_type": "code",
   "execution_count": null,
   "metadata": {},
   "outputs": [],
   "source": [
    "from sklearn.preprocessing import StandardScaler\n",
    "\n",
    "st_sc = StandardScaler()\n",
    "\n",
    "sc_df = st_sc.fit_transform(df_reduced.values)\n",
    "\n"
   ]
  },
  {
   "cell_type": "code",
   "execution_count": null,
   "metadata": {},
   "outputs": [],
   "source": [
    "sc_df = pd.DataFrame(sc_df,columns = df_reduced.columns)"
   ]
  },
  {
   "cell_type": "code",
   "execution_count": null,
   "metadata": {},
   "outputs": [],
   "source": [
    "g = sns.PairGrid(sc_df.iloc[:200,::50], diag_sharey=False)\n",
    "g.map_upper(sns.scatterplot, s=5)\n",
    "g.map_lower(sns.kdeplot)\n",
    "g.map_diag(sns.histplot,bins=30)"
   ]
  },
  {
   "cell_type": "code",
   "execution_count": null,
   "metadata": {},
   "outputs": [],
   "source": [
    "train_split = 0.8\n",
    "y_train,X_train = df_reduced.iloc[:int(train_split*df_reduced.shape[0]),:-1].values,df_reduced.iloc[:int(train_split*df_reduced.shape[0]),-1].values.reshape(-1,1)\n",
    "y_test,X_test = df_reduced.iloc[int(train_split*df_reduced.shape[0]):,:-1].values,df_reduced.iloc[int(train_split*df_reduced.shape[0]):,-1].values.reshape(-1,1)"
   ]
  },
  {
   "cell_type": "code",
   "execution_count": null,
   "metadata": {},
   "outputs": [],
   "source": [
    "print(X_train.shape,y_train.shape,X_test.shape,y_test.shape)"
   ]
  },
  {
   "cell_type": "code",
   "execution_count": null,
   "metadata": {},
   "outputs": [],
   "source": [
    "from sklearn.gaussian_process import GaussianProcessRegressor\n",
    "from sklearn.gaussian_process.kernels import RBF\n",
    "\n",
    "kernel = 1 * RBF(length_scale=1.0, length_scale_bounds=(1e-2, 1e2))\n",
    "gaussian_process = GaussianProcessRegressor(kernel=kernel, n_restarts_optimizer=9)\n",
    "gaussian_process.fit(X_train, y_train)\n",
    "gaussian_process.kernel_"
   ]
  },
  {
   "cell_type": "code",
   "execution_count": null,
   "metadata": {},
   "outputs": [],
   "source": [
    "mean_prediction, std_prediction = gaussian_process.predict(X_train, return_std=True)\n"
   ]
  },
  {
   "cell_type": "code",
   "execution_count": null,
   "metadata": {},
   "outputs": [],
   "source": []
  },
  {
   "cell_type": "code",
   "execution_count": null,
   "metadata": {},
   "outputs": [],
   "source": [
    "mean_prediction"
   ]
  },
  {
   "cell_type": "code",
   "execution_count": null,
   "metadata": {},
   "outputs": [],
   "source": [
    "import numpy as np"
   ]
  },
  {
   "cell_type": "code",
   "execution_count": null,
   "metadata": {},
   "outputs": [],
   "source": [
    "results = np.ones((mean_prediction.shape[0],3))"
   ]
  },
  {
   "cell_type": "code",
   "execution_count": null,
   "metadata": {},
   "outputs": [],
   "source": [
    "results[:,0] = mean_prediction[:,10]\n",
    "results[:,1] = std_prediction[:,10]\n",
    "results[:,2] = X_train"
   ]
  },
  {
   "cell_type": "code",
   "execution_count": null,
   "metadata": {},
   "outputs": [],
   "source": []
  }
 ],
 "metadata": {
  "colab": {
   "authorship_tag": "ABX9TyNSima0KcEyXu9oKkCRH7gE",
   "provenance": [
    {
     "file_id": "1Kc2aZZvLQha0Y4R3eNMnC0oT6dTpNpIz",
     "timestamp": 1741684782109
    }
   ]
  },
  "kernelspec": {
   "display_name": "Test",
   "language": "python",
   "name": "python3"
  },
  "language_info": {
   "codemirror_mode": {
    "name": "ipython",
    "version": 3
   },
   "file_extension": ".py",
   "mimetype": "text/x-python",
   "name": "python",
   "nbconvert_exporter": "python",
   "pygments_lexer": "ipython3",
   "version": "-1.-1.-1"
  }
 },
 "nbformat": 4,
 "nbformat_minor": 0
}
