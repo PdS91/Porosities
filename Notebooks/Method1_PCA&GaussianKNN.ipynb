{
 "cells": [
  {
   "cell_type": "markdown",
   "metadata": {},
   "source": [
    "Simplest approach to solve the following problem.\n",
    "The distribution we want to model is p(x|c) where x is the porosity vector of the microstructure (size 27000).\n",
    "\n",
    "Using a PCA we can find some structure within the latent dimensions. We can see that the first pca component of the microstructure is related to the density. The other components explain part of microstructure variance but they look independent among each other. We can than make this hypothesis and model the marginal distribution p(x|c) over the remaining pca components as independent gaussians.\n",
    "\n",
    "Given c, we can than identify the first pca component using a simple deterministic regression and the statistics of the gaussians using another model.\n",
    "\n",
    "At inference the first pca component is deterministically identified while gaussians can be sampled by inferred statistics. "
   ]
  },
  {
   "cell_type": "code",
   "execution_count": null,
   "metadata": {
    "executionInfo": {
     "elapsed": 19,
     "status": "ok",
     "timestamp": 1741689992575,
     "user": {
      "displayName": "Pietro del Sorbo",
      "userId": "01555363494258854793"
     },
     "user_tz": -60
    },
    "id": "M-BI1EkZVGld"
   },
   "outputs": [],
   "source": [
    "import numpy as np\n",
    "import pandas as pd\n",
    "import matplotlib.pyplot as plt\n",
    "import seaborn as sns\n",
    "import plotly.express as px\n",
    "import os\n",
    "import re\n",
    "import torch\n",
    "from torch.utils.data import Dataset, random_split, DataLoader\n",
    "import numpy as np\n",
    "import os"
   ]
  },
  {
   "cell_type": "code",
   "execution_count": null,
   "metadata": {
    "executionInfo": {
     "elapsed": 2,
     "status": "ok",
     "timestamp": 1741689992579,
     "user": {
      "displayName": "Pietro del Sorbo",
      "userId": "01555363494258854793"
     },
     "user_tz": -60
    },
    "id": "IKXN-I8vTJiV"
   },
   "outputs": [],
   "source": [
    "path = 'c:/Users/Pietro/Desktop/Porosities/Porosities/'\n",
    "os.chdir(path)"
   ]
  },
  {
   "cell_type": "code",
   "execution_count": null,
   "metadata": {
    "executionInfo": {
     "elapsed": 3,
     "status": "ok",
     "timestamp": 1741689992584,
     "user": {
      "displayName": "Pietro del Sorbo",
      "userId": "01555363494258854793"
     },
     "user_tz": -60
    },
    "id": "vmtMHymnbew-"
   },
   "outputs": [],
   "source": [
    "from Lib.Data import PorosityDistribution\n",
    "\n"
   ]
  },
  {
   "cell_type": "code",
   "execution_count": null,
   "metadata": {
    "executionInfo": {
     "elapsed": 3,
     "status": "ok",
     "timestamp": 1741689992589,
     "user": {
      "displayName": "Pietro del Sorbo",
      "userId": "01555363494258854793"
     },
     "user_tz": -60
    },
    "id": "6eGXu9aWToWA"
   },
   "outputs": [],
   "source": [
    "from Lib.Data import extract_microstructures,extract_porosities_points"
   ]
  },
  {
   "cell_type": "code",
   "execution_count": null,
   "metadata": {},
   "outputs": [],
   "source": [
    "sample_path = os.getcwd()+'/Job_Assignment_Data/'"
   ]
  },
  {
   "cell_type": "code",
   "execution_count": null,
   "metadata": {
    "executionInfo": {
     "elapsed": 8259,
     "status": "ok",
     "timestamp": 1741690000851,
     "user": {
      "displayName": "Pietro del Sorbo",
      "userId": "01555363494258854793"
     },
     "user_tz": -60
    },
    "id": "51ZOTrkyVRTM"
   },
   "outputs": [],
   "source": [
    "extracted_distributions = extract_microstructures(sample_path)\n",
    "extracted_porosities, density_set = extract_porosities_points(sample_path)"
   ]
  },
  {
   "cell_type": "code",
   "execution_count": null,
   "metadata": {},
   "outputs": [],
   "source": [
    "len(extracted_distributions.keys())\n",
    "train_split = 0.8\n",
    "\n",
    "train_keys = list(extracted_distributions.keys())[:int(train_split*len(extracted_distributions.keys()))]\n",
    "test_keys = list(extracted_distributions.keys())[int(train_split*len(extracted_distributions.keys())):]"
   ]
  },
  {
   "cell_type": "code",
   "execution_count": null,
   "metadata": {},
   "outputs": [],
   "source": [
    "def get_porosities_per_sample(keys,extracted_distributions):\n",
    "    porosities = np.zeros((len(keys),extracted_distributions[0].distribution.shape[0]))\n",
    "    densities = np.zeros((len(keys),1))\n",
    "    for id,key in enumerate(keys):\n",
    "        porosities[id,:] = extracted_distributions[key].as_dataframe()['porosity'].values\n",
    "        densities[id,0] = extracted_distributions[key].density\n",
    "        \n",
    "    return porosities,densities"
   ]
  },
  {
   "cell_type": "code",
   "execution_count": null,
   "metadata": {},
   "outputs": [],
   "source": [
    "porosities,densities = get_porosities_per_sample(train_keys,extracted_distributions)"
   ]
  },
  {
   "cell_type": "code",
   "execution_count": null,
   "metadata": {},
   "outputs": [],
   "source": [
    "porosities.shape"
   ]
  },
  {
   "cell_type": "code",
   "execution_count": null,
   "metadata": {},
   "outputs": [],
   "source": [
    "from sklearn.decomposition import PCA\n",
    "\n",
    "pca_comp = 400\n",
    "\n",
    "pca = PCA(n_components=400)\n",
    "\n",
    "pca.fit(porosities)"
   ]
  },
  {
   "cell_type": "code",
   "execution_count": null,
   "metadata": {},
   "outputs": [],
   "source": [
    "pca.explained_variance_ratio_.cumsum()[pca.explained_variance_ratio_.cumsum()<=0.99].shape"
   ]
  },
  {
   "cell_type": "code",
   "execution_count": null,
   "metadata": {},
   "outputs": [],
   "source": [
    "px.scatter(pca.explained_variance_ratio_)"
   ]
  },
  {
   "cell_type": "code",
   "execution_count": null,
   "metadata": {},
   "outputs": [],
   "source": [
    "from sklearn.decomposition import PCA\n",
    "from sklearn.preprocessing import StandardScaler\n",
    "\n",
    "pca_comp = 20\n",
    "\n",
    "pca = PCA(n_components=pca_comp)\n",
    "scaler_components = StandardScaler()\n",
    "scaler_density = StandardScaler()\n",
    "\n",
    "pc_components_porosities = pca.fit_transform(porosities)\n",
    "scld_pc_components = scaler_components.fit_transform(pc_components_porosities)\n",
    "\n",
    "data = pd.DataFrame(scld_pc_components, columns=[i for i in range(pca_comp)])\n",
    "\n",
    "data['density'] = scaler_density.fit_transform(densities)\n",
    "\n",
    "X, y =  data['density'].values.reshape(-1,1), data[0].values.reshape(-1,1),"
   ]
  },
  {
   "cell_type": "code",
   "execution_count": null,
   "metadata": {},
   "outputs": [],
   "source": [
    "data.head()"
   ]
  },
  {
   "cell_type": "code",
   "execution_count": null,
   "metadata": {},
   "outputs": [],
   "source": [
    "sns.heatmap(data.corr())"
   ]
  },
  {
   "cell_type": "code",
   "execution_count": null,
   "metadata": {},
   "outputs": [],
   "source": [
    "\n",
    "g = sns.PairGrid(data.iloc[:20,::2], diag_sharey=False)\n",
    "g.map_upper(sns.scatterplot, s=5)\n",
    "g.map_lower(sns.kdeplot)\n",
    "g.map_diag(sns.histplot,bins=30)"
   ]
  },
  {
   "cell_type": "code",
   "execution_count": null,
   "metadata": {},
   "outputs": [],
   "source": [
    "g = sns.PairGrid(data.iloc[:20,-5::], diag_sharey=False)\n",
    "g.map_upper(sns.scatterplot, s=5)\n",
    "g.map_lower(sns.kdeplot)\n",
    "g.map_diag(sns.histplot,bins=30)"
   ]
  },
  {
   "cell_type": "code",
   "execution_count": null,
   "metadata": {},
   "outputs": [],
   "source": [
    "px.scatter(data,x='density',y=0)"
   ]
  },
  {
   "cell_type": "code",
   "execution_count": null,
   "metadata": {},
   "outputs": [],
   "source": [
    "from sklearn.linear_model import LinearRegression\n",
    "from sklearn.preprocessing import PolynomialFeatures\n",
    "\n",
    "\n",
    "poly_feat = PolynomialFeatures(3)\n",
    "\n",
    "X = data['density'].values.reshape(-1,1)\n",
    "y = data[0].values.reshape(-1,1)\n",
    "X_poly = poly_feat.fit_transform(X)\n",
    "\n",
    "deterministic_regressor = LinearRegression()\n",
    "deterministic_regressor.fit(X_poly,y)\n",
    "\n",
    "y_pred = deterministic_regressor.predict(X_poly)\n",
    "\n",
    "data['0_rec'] = y_pred.reshape(-1)\n",
    "\n"
   ]
  },
  {
   "cell_type": "code",
   "execution_count": null,
   "metadata": {},
   "outputs": [],
   "source": [
    "data.head()"
   ]
  },
  {
   "cell_type": "code",
   "execution_count": null,
   "metadata": {},
   "outputs": [],
   "source": [
    "X.shape"
   ]
  },
  {
   "cell_type": "code",
   "execution_count": null,
   "metadata": {},
   "outputs": [],
   "source": [
    "\n",
    "fig = px.scatter(x=X.reshape(-1), y=y.reshape(-1),\n",
    "                 opacity=0.5,  # Set opacity for better visualization\n",
    "                 title=\"Regression Plot: Actual vs. Predicted First Principal Component\")\n",
    "\n",
    "fig.add_scatter(x=X.reshape(-1), y=y_pred.reshape(-1),\n",
    "                 opacity=0.5, mode='markers')  # Set opacity for better visualization)\n",
    "\n",
    "fig.show()"
   ]
  },
  {
   "cell_type": "code",
   "execution_count": null,
   "metadata": {},
   "outputs": [],
   "source": [
    "fig = px.scatter(data,x=0, y='0_rec',\n",
    "                 opacity=0.5,  # Set opacity for better visualization\n",
    "                 trendline=\"ols\",  # Add trendline using Ordinary Least Squares\n",
    "                 title=\"Regression Plot: Actual vs. Predicted Density\")\n",
    "\n",
    "# Add ideal line (y = x)\n",
    "x_range = np.linspace(data[0].min(), data['0_rec'].max(), 100)\n",
    "fig.add_scatter(x=x_range, y=x_range, mode='lines',\n",
    "                line=dict(color='red', dash='dash'),\n",
    "                name='Ideal Line (y = x)')\n",
    "\n",
    "fig.update_layout(\n",
    "    xaxis_title=\"Actual Density\",\n",
    "    yaxis_title=\"Predicted Density\"\n",
    ")\n",
    "\n",
    "fig.show()"
   ]
  },
  {
   "cell_type": "code",
   "execution_count": null,
   "metadata": {},
   "outputs": [],
   "source": [
    "stochastic_dimensions = [i for i in range(1,pca_comp)]\n",
    "stochastic_dimensions.append('density')\n",
    "stochastic_df = data[stochastic_dimensions].copy()\n",
    "\n"
   ]
  },
  {
   "cell_type": "code",
   "execution_count": null,
   "metadata": {},
   "outputs": [],
   "source": [
    "stochastic_df.head()"
   ]
  },
  {
   "cell_type": "code",
   "execution_count": null,
   "metadata": {},
   "outputs": [],
   "source": [
    "density_bins=30\n",
    "stochastic_df['density_bins'] = pd.cut(stochastic_df['density'],bins=density_bins)\n",
    "\n",
    "means = stochastic_df.groupby(['density_bins']).mean()\n",
    "stds = stochastic_df.groupby(['density_bins']).std()"
   ]
  },
  {
   "cell_type": "code",
   "execution_count": null,
   "metadata": {},
   "outputs": [],
   "source": [
    "means.head()"
   ]
  },
  {
   "cell_type": "code",
   "execution_count": null,
   "metadata": {},
   "outputs": [],
   "source": [
    "dim_means = means.iloc[:,:-1]\n",
    "dim_stds = stds.iloc[:,:-1]\n",
    "\n",
    "densities = np.zeros_like(dim_stds.values)\n",
    "dim_coord = np.zeros_like(densities)\n",
    "\n",
    "for i in range(densities.shape[0]):\n",
    "    densities[i,:] = means['density'].iloc[i]\n",
    "    dim_coord[i,:] = dim_stds.columns.values\n",
    "    \n",
    "densities = pd.DataFrame(densities,columns=dim_means.columns,index=dim_means.index)\n",
    "dim_coord = pd.DataFrame(dim_coord,columns=dim_means.columns,index=dim_means.index)"
   ]
  },
  {
   "cell_type": "code",
   "execution_count": null,
   "metadata": {},
   "outputs": [],
   "source": [
    "dim_means.head()"
   ]
  },
  {
   "cell_type": "code",
   "execution_count": null,
   "metadata": {},
   "outputs": [],
   "source": [
    "dim_stds.head()"
   ]
  },
  {
   "cell_type": "code",
   "execution_count": null,
   "metadata": {},
   "outputs": [],
   "source": [
    "densities.head()"
   ]
  },
  {
   "cell_type": "code",
   "execution_count": null,
   "metadata": {},
   "outputs": [],
   "source": [
    "dim_coord.head()"
   ]
  },
  {
   "cell_type": "code",
   "execution_count": null,
   "metadata": {},
   "outputs": [],
   "source": [
    "X = np.zeros((densities.shape[0],densities.shape[1],4))\n",
    "X[:,:,0] = dim_means.values\n",
    "X[:,:,1] = dim_stds.values\n",
    "X[:,:,2] = densities.values\n",
    "X[:,:,3] = dim_coord.values\n",
    "\n",
    "gaussian_parameters = pd.DataFrame(X.reshape(densities.shape[0]*densities.shape[1],4),columns=['dim_mean','dim_std','density','dim'])"
   ]
  },
  {
   "cell_type": "code",
   "execution_count": null,
   "metadata": {},
   "outputs": [],
   "source": [
    "gaussian_parameters.head()"
   ]
  },
  {
   "cell_type": "code",
   "execution_count": null,
   "metadata": {},
   "outputs": [],
   "source": [
    "px.scatter_3d(gaussian_parameters,x='density',y='dim',z='dim_std',color='dim_std')"
   ]
  },
  {
   "cell_type": "code",
   "execution_count": null,
   "metadata": {},
   "outputs": [],
   "source": [
    "px.scatter_3d(gaussian_parameters,x='density',y='dim',z='dim_mean',color='dim_mean')"
   ]
  },
  {
   "cell_type": "code",
   "execution_count": null,
   "metadata": {},
   "outputs": [],
   "source": []
  },
  {
   "cell_type": "code",
   "execution_count": null,
   "metadata": {},
   "outputs": [],
   "source": [
    "gaussian_parameters.head()"
   ]
  },
  {
   "cell_type": "code",
   "execution_count": null,
   "metadata": {},
   "outputs": [],
   "source": [
    "X_test = np.random.rand(500,2)"
   ]
  },
  {
   "cell_type": "code",
   "execution_count": null,
   "metadata": {},
   "outputs": [],
   "source": [
    "from sklearn.neighbors import KNeighborsRegressor\n",
    "\n",
    "X = gaussian_parameters[['density','dim']].values\n",
    "y = gaussian_parameters[['dim_mean','dim_std']].values\n",
    "\n",
    "statistics_regressor = KNeighborsRegressor(n_neighbors=4)\n",
    "\n",
    "statistics_regressor.fit(X,y)\n",
    "\n",
    "y_pred = statistics_regressor.predict(X)"
   ]
  },
  {
   "cell_type": "code",
   "execution_count": null,
   "metadata": {},
   "outputs": [],
   "source": [
    "gaussian_parameters['rec_mean'] = y_pred[:,0]\n",
    "gaussian_parameters['rec_std'] = y_pred[:,1]"
   ]
  },
  {
   "cell_type": "code",
   "execution_count": null,
   "metadata": {},
   "outputs": [],
   "source": [
    "px.scatter_3d(gaussian_parameters,x='density',y='dim',z='rec_std',color='rec_std')"
   ]
  },
  {
   "cell_type": "code",
   "execution_count": null,
   "metadata": {},
   "outputs": [],
   "source": [
    "px.scatter_3d(gaussian_parameters,x='density',y='dim',z='rec_mean',color='rec_mean')"
   ]
  },
  {
   "cell_type": "code",
   "execution_count": null,
   "metadata": {},
   "outputs": [],
   "source": [
    "X_dim_test = np.random.randint(1,pca_comp-1,size=1000)\n",
    "X_density_test = np.random.rand(1000)\n",
    "X_test = np.zeros((1000,2))\n",
    "res = np.zeros((1000,4))\n",
    "\n",
    "X_test[:,0] = X_density_test\n",
    "X_test[:,1] = X_dim_test\n",
    "res[:,0] = X_density_test\n",
    "res[:,1] = X_dim_test"
   ]
  },
  {
   "cell_type": "code",
   "execution_count": null,
   "metadata": {},
   "outputs": [],
   "source": [
    "y_test = statistics_regressor.predict(X_test)\n",
    "res[:,2:] = y_test"
   ]
  },
  {
   "cell_type": "code",
   "execution_count": null,
   "metadata": {},
   "outputs": [],
   "source": [
    "res = pd.DataFrame(res, columns=['density','dim','rec_mean','rec_std'])\n",
    "\n"
   ]
  },
  {
   "cell_type": "code",
   "execution_count": null,
   "metadata": {},
   "outputs": [],
   "source": [
    "px.scatter_3d(res,x='density',y='dim',z='rec_mean',color='rec_mean')"
   ]
  },
  {
   "cell_type": "code",
   "execution_count": null,
   "metadata": {},
   "outputs": [],
   "source": [
    "px.scatter_3d(res,x='density',y='dim',z='rec_std',color='rec_std')"
   ]
  },
  {
   "cell_type": "code",
   "execution_count": null,
   "metadata": {},
   "outputs": [],
   "source": [
    "import numpy as np\n",
    "\n",
    "def generate(samples, density,deterministic=True):\n",
    "\n",
    "    components = np.zeros((samples,pca_comp))\n",
    "    sc_density = scaler_density.transform(np.array([[density]]))\n",
    "\n",
    "    principal = deterministic_regressor.predict(poly_feat.transform(sc_density))\n",
    "    components[:,0]=principal\n",
    "    sc_density = sc_density[0,0]\n",
    "\n",
    "    for dimension in range(1,pca_comp):\n",
    "        \n",
    "        X = np.array([[sc_density,dimension]])\n",
    "        \n",
    "        statistics = statistics_regressor.predict(X)\n",
    "        #print(statistics,dimension)\n",
    "        mean_dimension = statistics[0,0]\n",
    "        std_dimensions = statistics[0,1]\n",
    "        \n",
    "        components[:,dimension] = np.random.normal(loc = mean_dimension, scale = std_dimensions,size=samples)\n",
    "        if deterministic:\n",
    "            components[:,dimension] = mean_dimension\n",
    "        \n",
    "    porosities = pca.inverse_transform(scaler_components.inverse_transform(components))\n",
    "\n",
    "    #print(porosities.shape)\n",
    "        \n",
    "    return porosities\n",
    "    "
   ]
  },
  {
   "cell_type": "code",
   "execution_count": null,
   "metadata": {},
   "outputs": [],
   "source": [
    "porosities = generate(100,0.2)"
   ]
  },
  {
   "cell_type": "code",
   "execution_count": null,
   "metadata": {},
   "outputs": [],
   "source": [
    "porosities"
   ]
  },
  {
   "cell_type": "code",
   "execution_count": null,
   "metadata": {},
   "outputs": [],
   "source": [
    "density = 0.8\n",
    "porosities = generate(100,density)\n",
    "\n",
    "\n",
    "template = np.load(os.path.join(sample_path, 'distribution_000_0.821.npy'))\n",
    "\n",
    "array_data = template\n",
    "array_data[:,3] = porosities[0,:]\n",
    "# Store in the dictionary\n",
    "sample = PorosityDistribution(array_data, density=density)\n",
    "sample.plot_porosity_distribution(porosity=0.035)"
   ]
  },
  {
   "cell_type": "code",
   "execution_count": null,
   "metadata": {},
   "outputs": [],
   "source": []
  },
  {
   "cell_type": "code",
   "execution_count": null,
   "metadata": {},
   "outputs": [],
   "source": []
  }
 ],
 "metadata": {
  "colab": {
   "authorship_tag": "ABX9TyNSima0KcEyXu9oKkCRH7gE",
   "provenance": [
    {
     "file_id": "1Kc2aZZvLQha0Y4R3eNMnC0oT6dTpNpIz",
     "timestamp": 1741684782109
    }
   ]
  },
  "kernelspec": {
   "display_name": "pds_standard",
   "language": "python",
   "name": "python3"
  },
  "language_info": {
   "codemirror_mode": {
    "name": "ipython",
    "version": 3
   },
   "file_extension": ".py",
   "mimetype": "text/x-python",
   "name": "python",
   "nbconvert_exporter": "python",
   "pygments_lexer": "ipython3",
   "version": "3.12.9"
  }
 },
 "nbformat": 4,
 "nbformat_minor": 0
}
