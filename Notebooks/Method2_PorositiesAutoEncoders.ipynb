{
 "cells": [
  {
   "cell_type": "code",
   "execution_count": 61,
   "metadata": {
    "executionInfo": {
     "elapsed": 26,
     "status": "ok",
     "timestamp": 1741770953211,
     "user": {
      "displayName": "Pietro del Sorbo",
      "userId": "01555363494258854793"
     },
     "user_tz": -60
    },
    "id": "M-BI1EkZVGld"
   },
   "outputs": [],
   "source": [
    "import numpy as np\n",
    "import pandas as pd\n",
    "import matplotlib.pyplot as plt\n",
    "import seaborn as sns\n",
    "import plotly.express as px\n",
    "import os\n",
    "import re\n",
    "import torch\n",
    "from torch.utils.data import Dataset, random_split, DataLoader\n",
    "import numpy as np\n",
    "import os\n",
    "\n"
   ]
  },
  {
   "cell_type": "code",
   "execution_count": 62,
   "metadata": {},
   "outputs": [],
   "source": [
    "path = 'c:/Users/Pietro/Desktop/Porosities/Porosities/'\n",
    "os.chdir(path)"
   ]
  },
  {
   "cell_type": "code",
   "execution_count": 63,
   "metadata": {},
   "outputs": [],
   "source": [
    "from Lib.Data import PorosityDistribution, extract_microstructures\n",
    "from Lib.Datasets import  PorosityDataset"
   ]
  },
  {
   "cell_type": "code",
   "execution_count": 64,
   "metadata": {},
   "outputs": [
    {
     "name": "stdout",
     "output_type": "stream",
     "text": [
      "Using device: cpu\n"
     ]
    }
   ],
   "source": [
    "device = torch.device('cuda' if torch.cuda.is_available() else 'cpu')\n",
    "print(f'Using device: {device}')"
   ]
  },
  {
   "cell_type": "code",
   "execution_count": null,
   "metadata": {},
   "outputs": [],
   "source": [
    "sample_path = os.getcwd()+'/Job_Assignment_Data/'"
   ]
  },
  {
   "cell_type": "code",
   "execution_count": 66,
   "metadata": {
    "executionInfo": {
     "elapsed": 9175,
     "status": "ok",
     "timestamp": 1741770967018,
     "user": {
      "displayName": "Pietro del Sorbo",
      "userId": "01555363494258854793"
     },
     "user_tz": -60
    },
    "id": "fXWLTsoGk5In"
   },
   "outputs": [],
   "source": [
    "# Create train, validation, and test datasets\n",
    "train_dataset = PorosityDataset(sample_path, train=True, val=False, test=False,keep_doubles=False,device=device)\n",
    "val_dataset = PorosityDataset(sample_path, train=False, val=True, test=False,keep_doubles=False,device=device)\n",
    "test_dataset = PorosityDataset(sample_path, train=False, val=False, test=True,keep_doubles=False,device=device)\n",
    "\n",
    "# Create DataLoaders\n",
    "train_dataloader = DataLoader(train_dataset, batch_size=1280, shuffle=True)\n",
    "val_dataloader = DataLoader(val_dataset, batch_size=1280, shuffle=False)\n",
    "test_dataloader = DataLoader(test_dataset, batch_size=1280, shuffle=False)"
   ]
  },
  {
   "cell_type": "code",
   "execution_count": 67,
   "metadata": {},
   "outputs": [
    {
     "name": "stdout",
     "output_type": "stream",
     "text": [
      "297600\n"
     ]
    }
   ],
   "source": [
    "print(train_dataset.__len__())"
   ]
  },
  {
   "cell_type": "code",
   "execution_count": 68,
   "metadata": {},
   "outputs": [],
   "source": [
    "import torch.nn as nn"
   ]
  },
  {
   "cell_type": "code",
   "execution_count": 69,
   "metadata": {},
   "outputs": [],
   "source": [
    "class ResidualModuleBlock(nn.Module):\n",
    "    def __init__(self, dim, steps, dropout=0.1, residual=False, batch_norm=True):\n",
    "        super(ResidualModuleBlock,self).__init__()\n",
    "        self.layers = nn.ModuleList()\n",
    "        self.residual = residual\n",
    "        \n",
    "        for i in range(steps):\n",
    "            self.layers.append(nn.Linear(dim, dim))\n",
    "            if batch_norm:\n",
    "                self.layers.append(nn.BatchNorm1d(dim))\n",
    "            self.layers.append(nn.SiLU())\n",
    "            self.layers.append(nn.Dropout(dropout))\n",
    "            \n",
    "    def forward(self,x):\n",
    "        residual = x\n",
    "        for layer in self.layers:\n",
    "            x = layer(x)\n",
    "        if self.residual:\n",
    "            x += residual\n",
    "        return x\n",
    "        \n",
    "class LinearModuleBlock(nn.Module):\n",
    "    def __init__(self, dims, dropout=0.1, batch_norm=True):\n",
    "        super(LinearModuleBlock,self).__init__()\n",
    "        self.layers = nn.ModuleList()\n",
    "        \n",
    "        for i in range(len(dims)-1):\n",
    "            self.layers.append(nn.Linear(dims[i], dims[i+1]))\n",
    "            if batch_norm:\n",
    "                self.layers.append(nn.BatchNorm1d(dims[i+1]))\n",
    "            self.layers.append(nn.SiLU())\n",
    "            self.layers.append(nn.Dropout(dropout))\n",
    "            \n",
    "    def forward(self,x):\n",
    "        for layer in self.layers:\n",
    "            x = layer(x)\n",
    "        return x"
   ]
  },
  {
   "cell_type": "code",
   "execution_count": null,
   "metadata": {},
   "outputs": [],
   "source": []
  },
  {
   "cell_type": "code",
   "execution_count": 70,
   "metadata": {
    "executionInfo": {
     "elapsed": 4,
     "status": "ok",
     "timestamp": 1741770967052,
     "user": {
      "displayName": "Pietro del Sorbo",
      "userId": "01555363494258854793"
     },
     "user_tz": -60
    },
    "id": "xw-JG-JCm1g2"
   },
   "outputs": [],
   "source": [
    "import torch.nn as nn\n",
    "\n",
    "class Encoder(nn.Module):\n",
    "    def __init__(self,scale=1,condition_dim=0):\n",
    "        super(Encoder, self).__init__()\n",
    "        self.scale = scale\n",
    "\n",
    "        # Linear Layers with Dropout\n",
    "        \n",
    "        self.input_block = LinearModuleBlock([3+condition_dim,scale*8,scale*16])\n",
    "        self.deep_block = ResidualModuleBlock(scale*16,2,residual=True)\n",
    "\n",
    "\n",
    "    def forward(self, x):\n",
    "        x = self.input_block(x)\n",
    "        x = self.deep_block(x)\n",
    "\n",
    "        return x\n",
    "\n",
    "class Decoder(nn.Module):\n",
    "    def __init__(self, scale=1):\n",
    "        super(Decoder, self).__init__()\n",
    "        self.scale = scale\n",
    "        # Linear Layers with Dropout\n",
    "        \n",
    "        self.linproj = nn.Linear(scale*8,3)\n",
    "        self.output_block = LinearModuleBlock([scale*16,scale*8])\n",
    "        self.deep_block = ResidualModuleBlock(scale*16,4,residual=False)\n",
    "\n",
    "\n",
    "    def forward(self, x):\n",
    "        \n",
    "        x = self.deep_block(x)\n",
    "        x = self.output_block(x)\n",
    "        \n",
    "        return self.linproj(x)"
   ]
  },
  {
   "cell_type": "code",
   "execution_count": 71,
   "metadata": {},
   "outputs": [
    {
     "name": "stdout",
     "output_type": "stream",
     "text": [
      "torch.Size([1280, 3]) torch.Size([1280])\n"
     ]
    }
   ],
   "source": [
    "(X,y) = next(iter(train_dataloader))\n",
    "print(X.shape,y.shape)"
   ]
  },
  {
   "cell_type": "code",
   "execution_count": 72,
   "metadata": {},
   "outputs": [],
   "source": [
    "encoder = Encoder().to(device)\n",
    "decoder = Decoder().to(device)"
   ]
  },
  {
   "cell_type": "code",
   "execution_count": 73,
   "metadata": {},
   "outputs": [
    {
     "data": {
      "text/plain": [
       "torch.Size([1280, 3])"
      ]
     },
     "execution_count": 73,
     "metadata": {},
     "output_type": "execute_result"
    }
   ],
   "source": [
    "X.shape"
   ]
  },
  {
   "cell_type": "code",
   "execution_count": 74,
   "metadata": {},
   "outputs": [
    {
     "data": {
      "text/plain": [
       "torch.Size([1280, 3])"
      ]
     },
     "execution_count": 74,
     "metadata": {},
     "output_type": "execute_result"
    }
   ],
   "source": [
    "hidden = encoder(X)\n",
    "out = decoder(hidden)\n",
    "out.shape"
   ]
  },
  {
   "cell_type": "code",
   "execution_count": 75,
   "metadata": {
    "executionInfo": {
     "elapsed": 3,
     "status": "ok",
     "timestamp": 1741770967068,
     "user": {
      "displayName": "Pietro del Sorbo",
      "userId": "01555363494258854793"
     },
     "user_tz": -60
    },
    "id": "FwcOa_eYIOnk"
   },
   "outputs": [],
   "source": [
    "import torch.nn as nn\n",
    "\n",
    "class ConditionedVAE(nn.Module):\n",
    "    def __init__(self, scale=1):\n",
    "        super(ConditionedVAE, self).__init__()\n",
    "        self.scale = scale\n",
    "        self.encoder = Encoder(scale=scale)\n",
    "        self.decoder = Decoder(scale=scale)\n",
    "        \n",
    "        self.condition_encoder = LinearModuleBlock([1,scale*8,scale*16])\n",
    "        # Add layers for mean and variance of the latent space\n",
    "        self.fc_mu =nn.Linear(scale*16,scale*16)\n",
    "        self.fc_logvar = nn.Linear(scale*16,scale*16)  # Output dimension for log variance\n",
    "\n",
    "\n",
    "    def reparameterize(self, mu, logvar):\n",
    "        \"\"\"Reparameterization trick to sample from the latent space.\"\"\"\n",
    "        std = torch.exp(0.5 * logvar)\n",
    "        eps = torch.randn_like(std)\n",
    "        return eps * std + mu\n",
    "\n",
    "    def forward(self, x, y):\n",
    "\n",
    "        # Encode the input\n",
    "        h = self.encoder(x)\n",
    "\n",
    "        # Get mean and log variance\n",
    "        mu = self.fc_mu(h)\n",
    "        logvar = self.fc_logvar(h)\n",
    "\n",
    "        # Sample from the latent space\n",
    "        z = self.reparameterize(mu, logvar)\n",
    "        \n",
    "        # Add Conditioning\n",
    "        \n",
    "        \n",
    "        z += z + self.condition_encoder(y.view(-1,1))\n",
    "        \n",
    "        # Decode the latent representation\n",
    "        x_recon = self.decoder(z)\n",
    "\n",
    "        return x_recon, mu, logvar\n",
    "    \n",
    "    def sample(self,num_samples,density,device):\n",
    "        \n",
    "        z = torch.randn(num_samples,16*self.scale).to(device)\n",
    "        y = density*torch.ones(num_samples,1).to(device)\n",
    "        \n",
    "        z += z + self.condition_encoder(y)\n",
    "        samples = self.decoder(z)\n",
    "        return samples"
   ]
  },
  {
   "cell_type": "code",
   "execution_count": 76,
   "metadata": {},
   "outputs": [],
   "source": [
    "import torch.nn as nn\n",
    "\n",
    "class ConditionedVAE2(nn.Module):\n",
    "    def __init__(self, scale=1):\n",
    "        super(ConditionedVAE2, self).__init__()\n",
    "        self.scale = scale\n",
    "        self.encoder = Encoder(scale=scale)\n",
    "        self.decoder = Decoder(scale=2*scale)\n",
    "        \n",
    "        self.condition_encoder = LinearModuleBlock([1,8,8])\n",
    "        self.condition_decoder = LinearModuleBlock([1,scale*8,scale*16])\n",
    "        # Add layers for mean and variance of the latent space\n",
    "        self.fc_mu =nn.Linear(scale*16,scale*16)\n",
    "        self.fc_logvar = nn.Linear(scale*16,scale*16)\n",
    "\n",
    "\n",
    "    def reparameterize(self, mu, logvar):\n",
    "        \"\"\"Reparameterization trick to sample from the latent space.\"\"\"\n",
    "        std = torch.exp(0.5 * logvar)\n",
    "        eps = torch.randn_like(std)\n",
    "        return eps * std + mu\n",
    "\n",
    "    def forward(self, x, y):\n",
    "\n",
    "        # Encode the input\n",
    "        \n",
    "        h = self.encoder(x)\n",
    "\n",
    "        # Get mean and log variance\n",
    "        mu = self.fc_mu(h)\n",
    "        logvar = self.fc_logvar(h)\n",
    "\n",
    "        # Sample from the latent space\n",
    "        z = self.reparameterize(mu, logvar)\n",
    "        \n",
    "        # Add Conditioning\n",
    "        \n",
    "        \n",
    "        z = torch.cat((z,self.condition_decoder(y.view(-1,1))),dim=-1)\n",
    "        \n",
    "        # Decode the latent representation\n",
    "        x_recon = self.decoder(z)\n",
    "\n",
    "        return x_recon, mu, logvar\n",
    "    \n",
    "    def sample(self,num_samples,density,device):\n",
    "        \n",
    "        z = torch.randn(num_samples,16*self.scale).to(device)\n",
    "        y = density*torch.ones(num_samples,1).to(device)\n",
    "        \n",
    "        z  = torch.cat((z,self.condition_decoder(y)),dim=-1)\n",
    "        samples = self.decoder(z)\n",
    "        return samples"
   ]
  },
  {
   "cell_type": "code",
   "execution_count": 77,
   "metadata": {},
   "outputs": [
    {
     "name": "stdout",
     "output_type": "stream",
     "text": [
      "torch.Size([1280, 3]) torch.Size([1280])\n"
     ]
    }
   ],
   "source": [
    "(X,y) = next(iter(train_dataloader))\n",
    "print(X.shape,y.shape)"
   ]
  },
  {
   "cell_type": "code",
   "execution_count": 78,
   "metadata": {},
   "outputs": [
    {
     "data": {
      "text/plain": [
       "torch.Size([1280, 4])"
      ]
     },
     "execution_count": 78,
     "metadata": {},
     "output_type": "execute_result"
    }
   ],
   "source": [
    "torch.cat((X,y.view(-1,1)),dim=1).shape"
   ]
  },
  {
   "cell_type": "code",
   "execution_count": 79,
   "metadata": {},
   "outputs": [
    {
     "name": "stdout",
     "output_type": "stream",
     "text": [
      "tensor([0.1724, 0.3103, 0.8621]) tensor(0.1860)\n"
     ]
    }
   ],
   "source": [
    "print(X[0],y[0])"
   ]
  },
  {
   "cell_type": "code",
   "execution_count": 80,
   "metadata": {
    "colab": {
     "base_uri": "https://localhost:8080/"
    },
    "executionInfo": {
     "elapsed": 744,
     "status": "ok",
     "timestamp": 1741770967820,
     "user": {
      "displayName": "Pietro del Sorbo",
      "userId": "01555363494258854793"
     },
     "user_tz": -60
    },
    "id": "vvWVSQQVnPbV",
    "outputId": "51b6378d-8f1a-4914-dda3-0e6cd29c65b4"
   },
   "outputs": [
    {
     "data": {
      "text/plain": [
       "(tensor([[ 0.2566, -0.1790, -0.1915],\n",
       "         [ 0.9318,  1.1031,  0.4529],\n",
       "         [-0.2388, -0.3216, -0.2226],\n",
       "         ...,\n",
       "         [ 0.1834,  0.0146, -0.1332],\n",
       "         [ 0.3014, -0.2545, -0.1028],\n",
       "         [ 0.1616, -0.0735, -0.0587]], grad_fn=<AddmmBackward0>),\n",
       " tensor([[-0.1983, -0.3487,  0.1721,  ..., -0.3372, -0.3681,  0.1932],\n",
       "         [ 0.2384, -0.2261,  1.1334,  ...,  0.7055, -1.5151,  1.5879],\n",
       "         [ 0.9989,  0.2855, -0.1232,  ..., -0.3148, -0.3219,  0.2033],\n",
       "         ...,\n",
       "         [ 0.4404,  0.6028, -1.1894,  ...,  0.2670, -0.7277, -0.0607],\n",
       "         [ 0.0979,  0.7078, -0.7682,  ..., -0.2424,  0.0497,  0.0630],\n",
       "         [ 0.2085, -0.3263, -0.0043,  ...,  0.3559, -0.4453, -0.5283]],\n",
       "        grad_fn=<AddmmBackward0>),\n",
       " tensor([[ 0.2345,  0.1156, -0.0152,  ..., -0.2727, -0.6417,  0.4810],\n",
       "         [ 1.4811, -0.9289, -0.2737,  ..., -0.2910,  0.1082,  0.4535],\n",
       "         [ 0.0247, -0.6906,  0.3721,  ..., -0.5043,  0.6698, -0.1088],\n",
       "         ...,\n",
       "         [-0.5135,  0.0592, -0.9680,  ..., -0.9997, -0.4972, -0.6781],\n",
       "         [-0.4178,  0.1842, -0.7207,  ...,  0.1027,  0.6303, -0.1142],\n",
       "         [-0.0455, -0.3343, -0.2966,  ..., -0.1284, -0.1357,  0.3189]],\n",
       "        grad_fn=<AddmmBackward0>))"
      ]
     },
     "execution_count": 80,
     "metadata": {},
     "output_type": "execute_result"
    }
   ],
   "source": [
    "(X,y) = next(iter(train_dataloader))\n",
    "model = ConditionedVAE(scale=4)\n",
    "model.to(device)\n",
    "model(X,y)"
   ]
  },
  {
   "cell_type": "code",
   "execution_count": 81,
   "metadata": {},
   "outputs": [
    {
     "data": {
      "text/plain": [
       "(tensor([[ 0.3979,  0.0652,  0.1652],\n",
       "         [ 0.1553, -0.1139, -0.2938],\n",
       "         [ 0.1743, -0.1958,  0.2246],\n",
       "         ...,\n",
       "         [-0.0066,  0.1918, -0.0338],\n",
       "         [-0.1253, -0.1321, -0.0359],\n",
       "         [ 0.5592, -0.0372, -0.0730]], grad_fn=<AddmmBackward0>),\n",
       " tensor([[-0.0563, -0.2312,  0.1145,  ..., -0.3894, -0.6052, -0.0838],\n",
       "         [-0.1629,  0.3943,  0.2950,  ...,  0.5616, -2.0447,  1.0521],\n",
       "         [ 0.2649, -0.0730,  0.0107,  ..., -0.5162, -0.3566,  0.2972],\n",
       "         ...,\n",
       "         [ 0.2064, -0.3551, -0.6178,  ..., -0.5747, -0.5189, -0.5102],\n",
       "         [-0.1704,  0.9048, -0.8569,  ..., -0.2241, -0.0669,  0.4437],\n",
       "         [ 0.0532, -0.0662, -0.0853,  ..., -0.4558, -0.0173,  0.2488]],\n",
       "        grad_fn=<AddmmBackward0>),\n",
       " tensor([[-0.0981,  0.1663, -0.1093,  ..., -0.3304, -0.0431,  0.5666],\n",
       "         [ 0.1156, -0.2907, -0.6636,  ..., -0.2566, -0.3328,  0.7929],\n",
       "         [ 0.5245, -0.2508,  0.1617,  ..., -0.9618,  0.0121,  0.2480],\n",
       "         ...,\n",
       "         [-0.7365,  0.7210, -0.6432,  ..., -0.1062, -0.5464, -0.1396],\n",
       "         [-0.1858,  0.0809, -0.6098,  ...,  0.3342,  0.1281, -0.2308],\n",
       "         [ 0.1417, -0.4035, -0.1456,  ..., -0.0505,  0.1015,  0.2350]],\n",
       "        grad_fn=<AddmmBackward0>))"
      ]
     },
     "execution_count": 81,
     "metadata": {},
     "output_type": "execute_result"
    }
   ],
   "source": [
    "model(X,y)"
   ]
  },
  {
   "cell_type": "code",
   "execution_count": 82,
   "metadata": {
    "executionInfo": {
     "elapsed": 2,
     "status": "ok",
     "timestamp": 1741770967841,
     "user": {
      "displayName": "Pietro del Sorbo",
      "userId": "01555363494258854793"
     },
     "user_tz": -60
    },
    "id": "btKGUE29ybVB"
   },
   "outputs": [],
   "source": [
    "import torch.optim as optim\n",
    "\n",
    "# Define the optimizer\n",
    "\n",
    "optimizer = optim.AdamW(model.parameters(), lr=1e-3)"
   ]
  },
  {
   "cell_type": "code",
   "execution_count": 83,
   "metadata": {
    "executionInfo": {
     "elapsed": 2,
     "status": "ok",
     "timestamp": 1741770967844,
     "user": {
      "displayName": "Pietro del Sorbo",
      "userId": "01555363494258854793"
     },
     "user_tz": -60
    },
    "id": "AM8V5LWozGgS"
   },
   "outputs": [],
   "source": [
    "# Define the loss function\n",
    "criterion_reconstruction = nn.L1Loss()"
   ]
  },
  {
   "cell_type": "code",
   "execution_count": 84,
   "metadata": {
    "colab": {
     "base_uri": "https://localhost:8080/"
    },
    "id": "f_2GzZKgzJeE",
    "outputId": "85d94d24-d85d-47f3-fc82-53375c6ea5bf"
   },
   "outputs": [
    {
     "name": "stdout",
     "output_type": "stream",
     "text": [
      "Epoch [1/1] Train Loss: 1.7716 Train Reconstruction Loss: 0.2806 Train KL Loss: 1490.9946 Val Loss: 0.2704 Val Reconstruction Loss: 0.2525 Val KL Loss: 17.8770 \n",
      "Finished Training\n"
     ]
    }
   ],
   "source": [
    "# Training loop\n",
    "num_epochs = 1\n",
    "\n",
    "train_losses = []\n",
    "train_recon_losses = []\n",
    "train_cond_losses = []\n",
    "train_kl_losses = []\n",
    "val_losses = []\n",
    "val_recon_losses = []\n",
    "val_cond_losses = []\n",
    "val_kl_losses = []\n",
    "beta = 1e-3\n",
    "\n",
    "for epoch in range(num_epochs):\n",
    "    # Training\n",
    "    model.train()\n",
    "    running_train_loss = 0.0\n",
    "    running_train_recon_loss = 0.0\n",
    "    running_train_kl_loss = 0.0\n",
    "\n",
    "    for i, (inputs, conditions) in enumerate(train_dataloader):\n",
    "        optimizer.zero_grad()\n",
    "        \n",
    "        outputs, mu, logvar = model(inputs, conditions)\n",
    "        kl_loss = -0.5 * torch.sum(1 + logvar - mu.pow(2) - logvar.exp())\n",
    "\n",
    "        # Calculate individual losses\n",
    "        loss_reconstruction = criterion_reconstruction(outputs, inputs)\n",
    "\n",
    "        # Combine losses with weights \n",
    "        loss = loss_reconstruction + beta*kl_loss \n",
    "\n",
    "        loss.backward()\n",
    "        optimizer.step()\n",
    "\n",
    "        running_train_loss += loss.item()\n",
    "        running_train_recon_loss += loss_reconstruction.item()\n",
    "        running_train_kl_loss += kl_loss.item()\n",
    "\n",
    "\n",
    "    epoch_train_loss = running_train_loss / len(train_dataloader)\n",
    "    epoch_train_recon_loss = running_train_recon_loss / len(train_dataloader)\n",
    "    epoch_train_kl_loss = running_train_kl_loss / len(train_dataloader)\n",
    "\n",
    "    # Validation\n",
    "    model.eval()\n",
    "    running_val_loss = 0.0\n",
    "    running_val_recon_loss = 0.0\n",
    "    running_val_kl_loss = 0.0\n",
    "\n",
    "    with torch.no_grad():\n",
    "        for i, (inputs, conditions) in enumerate(val_dataloader):\n",
    "            \n",
    "            outputs, mu, logvar = model(inputs, conditions)\n",
    "\n",
    "            # Calculate individual losses\n",
    "            loss_reconstruction = criterion_reconstruction(outputs, inputs)\n",
    "            \n",
    "            kl_loss = -0.5 * torch.sum(1 + logvar - mu.pow(2) - logvar.exp())\n",
    "\n",
    "            # Combine losses with weights \n",
    "            loss = loss_reconstruction + beta*kl_loss #\n",
    "\n",
    "            running_val_loss += loss.item()\n",
    "            running_val_recon_loss += loss_reconstruction.item()\n",
    "            running_val_kl_loss += kl_loss.item()\n",
    "\n",
    "    epoch_val_loss = running_val_loss / len(val_dataloader)\n",
    "    epoch_val_recon_loss = running_val_recon_loss / len(val_dataloader)\n",
    "\n",
    "    epoch_val_kl_loss = running_val_kl_loss / len(val_dataloader)\n",
    "\n",
    "    print(f\"Epoch [{epoch + 1}/{num_epochs}] \"\n",
    "          f\"Train Loss: {epoch_train_loss:.4f} \"\n",
    "          f\"Train Reconstruction Loss: {epoch_train_recon_loss:.4f} \"\n",
    "          f\"Train KL Loss: {epoch_train_kl_loss:.4f} \"\n",
    "          f\"Val Loss: {epoch_val_loss:.4f} \"\n",
    "          f\"Val Reconstruction Loss: {epoch_val_recon_loss:.4f} \"\n",
    "          f\"Val KL Loss: {epoch_val_kl_loss:.4f} \")\n",
    "\n",
    "    train_losses.append(epoch_train_loss)\n",
    "    train_recon_losses.append(epoch_train_recon_loss)\n",
    "    train_kl_losses.append(epoch_train_kl_loss)\n",
    "    val_losses.append(epoch_val_loss)\n",
    "    val_recon_losses.append(epoch_val_recon_loss)\n",
    "    val_kl_losses.append(epoch_val_kl_loss)\n",
    "\n",
    "\n",
    "print(\"Finished Training\")"
   ]
  },
  {
   "cell_type": "code",
   "execution_count": 85,
   "metadata": {
    "id": "gfwxPPOT4kiU"
   },
   "outputs": [
    {
     "data": {
      "image/png": "[encoded data removed]",
      "text/plain": [
       "<Figure size 1200x600 with 2 Axes>"
      ]
     },
     "metadata": {},
     "output_type": "display_data"
    }
   ],
   "source": [
    "# Plotting (after the training loop)\n",
    "plt.figure(figsize=(12, 6))\n",
    "\n",
    "# Total loss\n",
    "plt.subplot(1, 2, 1)\n",
    "plt.plot(train_losses, label='Training Loss')\n",
    "plt.plot(val_losses, label='Validation Loss')\n",
    "plt.xlabel('Epoch')\n",
    "plt.ylabel('Loss')\n",
    "plt.legend()\n",
    "plt.title('Total Loss')\n",
    "\n",
    "# Individual losses\n",
    "plt.subplot(1, 2, 2)\n",
    "plt.plot(train_recon_losses, label='Train Reconstruction Loss')\n",
    "plt.plot(train_cond_losses, label='Train Condition Loss')\n",
    "plt.plot(val_recon_losses, label='Val Reconstruction Loss')\n",
    "plt.plot(val_cond_losses, label='Val Condition Loss')\n",
    "plt.xlabel('Epoch')\n",
    "plt.ylabel('Loss')\n",
    "plt.legend()\n",
    "plt.title('Individual Losses')\n",
    "\n",
    "plt.tight_layout()\n",
    "plt.show()"
   ]
  },
  {
   "cell_type": "code",
   "execution_count": 86,
   "metadata": {},
   "outputs": [
    {
     "data": {
      "text/plain": [
       "ConditionedVAE(\n",
       "  (encoder): Encoder(\n",
       "    (input_block): LinearModuleBlock(\n",
       "      (layers): ModuleList(\n",
       "        (0): Linear(in_features=3, out_features=32, bias=True)\n",
       "        (1): BatchNorm1d(32, eps=1e-05, momentum=0.1, affine=True, track_running_stats=True)\n",
       "        (2): SiLU()\n",
       "        (3): Dropout(p=0.1, inplace=False)\n",
       "        (4): Linear(in_features=32, out_features=64, bias=True)\n",
       "        (5): BatchNorm1d(64, eps=1e-05, momentum=0.1, affine=True, track_running_stats=True)\n",
       "        (6): SiLU()\n",
       "        (7): Dropout(p=0.1, inplace=False)\n",
       "      )\n",
       "    )\n",
       "    (deep_block): ResidualModuleBlock(\n",
       "      (layers): ModuleList(\n",
       "        (0): Linear(in_features=64, out_features=64, bias=True)\n",
       "        (1): BatchNorm1d(64, eps=1e-05, momentum=0.1, affine=True, track_running_stats=True)\n",
       "        (2): SiLU()\n",
       "        (3): Dropout(p=0.1, inplace=False)\n",
       "        (4): Linear(in_features=64, out_features=64, bias=True)\n",
       "        (5): BatchNorm1d(64, eps=1e-05, momentum=0.1, affine=True, track_running_stats=True)\n",
       "        (6): SiLU()\n",
       "        (7): Dropout(p=0.1, inplace=False)\n",
       "      )\n",
       "    )\n",
       "  )\n",
       "  (decoder): Decoder(\n",
       "    (linproj): Linear(in_features=32, out_features=3, bias=True)\n",
       "    (output_block): LinearModuleBlock(\n",
       "      (layers): ModuleList(\n",
       "        (0): Linear(in_features=64, out_features=32, bias=True)\n",
       "        (1): BatchNorm1d(32, eps=1e-05, momentum=0.1, affine=True, track_running_stats=True)\n",
       "        (2): SiLU()\n",
       "        (3): Dropout(p=0.1, inplace=False)\n",
       "      )\n",
       "    )\n",
       "    (deep_block): ResidualModuleBlock(\n",
       "      (layers): ModuleList(\n",
       "        (0): Linear(in_features=64, out_features=64, bias=True)\n",
       "        (1): BatchNorm1d(64, eps=1e-05, momentum=0.1, affine=True, track_running_stats=True)\n",
       "        (2): SiLU()\n",
       "        (3): Dropout(p=0.1, inplace=False)\n",
       "        (4): Linear(in_features=64, out_features=64, bias=True)\n",
       "        (5): BatchNorm1d(64, eps=1e-05, momentum=0.1, affine=True, track_running_stats=True)\n",
       "        (6): SiLU()\n",
       "        (7): Dropout(p=0.1, inplace=False)\n",
       "        (8): Linear(in_features=64, out_features=64, bias=True)\n",
       "        (9): BatchNorm1d(64, eps=1e-05, momentum=0.1, affine=True, track_running_stats=True)\n",
       "        (10): SiLU()\n",
       "        (11): Dropout(p=0.1, inplace=False)\n",
       "        (12): Linear(in_features=64, out_features=64, bias=True)\n",
       "        (13): BatchNorm1d(64, eps=1e-05, momentum=0.1, affine=True, track_running_stats=True)\n",
       "        (14): SiLU()\n",
       "        (15): Dropout(p=0.1, inplace=False)\n",
       "      )\n",
       "    )\n",
       "  )\n",
       "  (condition_encoder): LinearModuleBlock(\n",
       "    (layers): ModuleList(\n",
       "      (0): Linear(in_features=1, out_features=32, bias=True)\n",
       "      (1): BatchNorm1d(32, eps=1e-05, momentum=0.1, affine=True, track_running_stats=True)\n",
       "      (2): SiLU()\n",
       "      (3): Dropout(p=0.1, inplace=False)\n",
       "      (4): Linear(in_features=32, out_features=64, bias=True)\n",
       "      (5): BatchNorm1d(64, eps=1e-05, momentum=0.1, affine=True, track_running_stats=True)\n",
       "      (6): SiLU()\n",
       "      (7): Dropout(p=0.1, inplace=False)\n",
       "    )\n",
       "  )\n",
       "  (fc_mu): Linear(in_features=64, out_features=64, bias=True)\n",
       "  (fc_logvar): Linear(in_features=64, out_features=64, bias=True)\n",
       ")"
      ]
     },
     "execution_count": 86,
     "metadata": {},
     "output_type": "execute_result"
    }
   ],
   "source": [
    "samples = 500\n",
    "density = 0.\n",
    "model.eval()"
   ]
  },
  {
   "cell_type": "code",
   "execution_count": 87,
   "metadata": {},
   "outputs": [
    {
     "data": {
      "text/plain": [
       "tensor([0.6480, 0.4010, 0.7490,  ..., 0.3000, 0.6740, 0.5310])"
      ]
     },
     "execution_count": 87,
     "metadata": {},
     "output_type": "execute_result"
    }
   ],
   "source": [
    "y"
   ]
  },
  {
   "cell_type": "code",
   "execution_count": 88,
   "metadata": {
    "id": "lGLOdL5vd_TP"
   },
   "outputs": [
    {
     "data": {
      "application/vnd.plotly.v1+json": {
       "config": {
        "plotlyServerURL": "https://plot.ly"
       },
       "data": [
        {
         "hovertemplate": "x=%{x}<br>y=%{y}<br>z=%{z}<extra></extra>",
         "legendgroup": "",
         "marker": {
          "color": "#636efa",
          "symbol": "circle"
         },
         "mode": "markers",
         "name": "",
         "scene": "scene",
         "showlegend": false,
         "type": "scatter3d",
         "x": {
          "bdata": "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",
          "dtype": "f4"
         },
         "y": {
          "bdata": "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",
          "dtype": "f4"
         },
         "z": {
          "bdata": "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",
          "dtype": "f4"
         }
        }
       ],
       "layout": {
        "legend": {
         "tracegroupgap": 0
        },
        "margin": {
         "t": 60
        },
        "scene": {
         "domain": {
          "x": [
           0,
           1
          ],
          "y": [
           0,
           1
          ]
         },
         "xaxis": {
          "title": {
           "text": "x"
          }
         },
         "yaxis": {
          "title": {
           "text": "y"
          }
         },
         "zaxis": {
          "title": {
           "text": "z"
          }
         }
        },
        "template": {
         "data": {
          "bar": [
           {
            "error_x": {
             "color": "#2a3f5f"
            },
            "error_y": {
             "color": "#2a3f5f"
            },
            "marker": {
             "line": {
              "color": "#E5ECF6",
              "width": 0.5
             },
             "pattern": {
              "fillmode": "overlay",
              "size": 10,
              "solidity": 0.2
             }
            },
            "type": "bar"
           }
          ],
          "barpolar": [
           {
            "marker": {
             "line": {
              "color": "#E5ECF6",
              "width": 0.5
             },
             "pattern": {
              "fillmode": "overlay",
              "size": 10,
              "solidity": 0.2
             }
            },
            "type": "barpolar"
           }
          ],
          "carpet": [
           {
            "aaxis": {
             "endlinecolor": "#2a3f5f",
             "gridcolor": "white",
             "linecolor": "white",
             "minorgridcolor": "white",
             "startlinecolor": "#2a3f5f"
            },
            "baxis": {
             "endlinecolor": "#2a3f5f",
             "gridcolor": "white",
             "linecolor": "white",
             "minorgridcolor": "white",
             "startlinecolor": "#2a3f5f"
            },
            "type": "carpet"
           }
          ],
          "choropleth": [
           {
            "colorbar": {
             "outlinewidth": 0,
             "ticks": ""
            },
            "type": "choropleth"
           }
          ],
          "contour": [
           {
            "colorbar": {
             "outlinewidth": 0,
             "ticks": ""
            },
            "colorscale": [
             [
              0,
              "#0d0887"
             ],
             [
              0.1111111111111111,
              "#46039f"
             ],
             [
              0.2222222222222222,
              "#7201a8"
             ],
             [
              0.3333333333333333,
              "#9c179e"
             ],
             [
              0.4444444444444444,
              "#bd3786"
             ],
             [
              0.5555555555555556,
              "#d8576b"
             ],
             [
              0.6666666666666666,
              "#ed7953"
             ],
             [
              0.7777777777777778,
              "#fb9f3a"
             ],
             [
              0.8888888888888888,
              "#fdca26"
             ],
             [
              1,
              "#f0f921"
             ]
            ],
            "type": "contour"
           }
          ],
          "contourcarpet": [
           {
            "colorbar": {
             "outlinewidth": 0,
             "ticks": ""
            },
            "type": "contourcarpet"
           }
          ],
          "heatmap": [
           {
            "colorbar": {
             "outlinewidth": 0,
             "ticks": ""
            },
            "colorscale": [
             [
              0,
              "#0d0887"
             ],
             [
              0.1111111111111111,
              "#46039f"
             ],
             [
              0.2222222222222222,
              "#7201a8"
             ],
             [
              0.3333333333333333,
              "#9c179e"
             ],
             [
              0.4444444444444444,
              "#bd3786"
             ],
             [
              0.5555555555555556,
              "#d8576b"
             ],
             [
              0.6666666666666666,
              "#ed7953"
             ],
             [
              0.7777777777777778,
              "#fb9f3a"
             ],
             [
              0.8888888888888888,
              "#fdca26"
             ],
             [
              1,
              "#f0f921"
             ]
            ],
            "type": "heatmap"
           }
          ],
          "histogram": [
           {
            "marker": {
             "pattern": {
              "fillmode": "overlay",
              "size": 10,
              "solidity": 0.2
             }
            },
            "type": "histogram"
           }
          ],
          "histogram2d": [
           {
            "colorbar": {
             "outlinewidth": 0,
             "ticks": ""
            },
            "colorscale": [
             [
              0,
              "#0d0887"
             ],
             [
              0.1111111111111111,
              "#46039f"
             ],
             [
              0.2222222222222222,
              "#7201a8"
             ],
             [
              0.3333333333333333,
              "#9c179e"
             ],
             [
              0.4444444444444444,
              "#bd3786"
             ],
             [
              0.5555555555555556,
              "#d8576b"
             ],
             [
              0.6666666666666666,
              "#ed7953"
             ],
             [
              0.7777777777777778,
              "#fb9f3a"
             ],
             [
              0.8888888888888888,
              "#fdca26"
             ],
             [
              1,
              "#f0f921"
             ]
            ],
            "type": "histogram2d"
           }
          ],
          "histogram2dcontour": [
           {
            "colorbar": {
             "outlinewidth": 0,
             "ticks": ""
            },
            "colorscale": [
             [
              0,
              "#0d0887"
             ],
             [
              0.1111111111111111,
              "#46039f"
             ],
             [
              0.2222222222222222,
              "#7201a8"
             ],
             [
              0.3333333333333333,
              "#9c179e"
             ],
             [
              0.4444444444444444,
              "#bd3786"
             ],
             [
              0.5555555555555556,
              "#d8576b"
             ],
             [
              0.6666666666666666,
              "#ed7953"
             ],
             [
              0.7777777777777778,
              "#fb9f3a"
             ],
             [
              0.8888888888888888,
              "#fdca26"
             ],
             [
              1,
              "#f0f921"
             ]
            ],
            "type": "histogram2dcontour"
           }
          ],
          "mesh3d": [
           {
            "colorbar": {
             "outlinewidth": 0,
             "ticks": ""
            },
            "type": "mesh3d"
           }
          ],
          "parcoords": [
           {
            "line": {
             "colorbar": {
              "outlinewidth": 0,
              "ticks": ""
             }
            },
            "type": "parcoords"
           }
          ],
          "pie": [
           {
            "automargin": true,
            "type": "pie"
           }
          ],
          "scatter": [
           {
            "fillpattern": {
             "fillmode": "overlay",
             "size": 10,
             "solidity": 0.2
            },
            "type": "scatter"
           }
          ],
          "scatter3d": [
           {
            "line": {
             "colorbar": {
              "outlinewidth": 0,
              "ticks": ""
             }
            },
            "marker": {
             "colorbar": {
              "outlinewidth": 0,
              "ticks": ""
             }
            },
            "type": "scatter3d"
           }
          ],
          "scattercarpet": [
           {
            "marker": {
             "colorbar": {
              "outlinewidth": 0,
              "ticks": ""
             }
            },
            "type": "scattercarpet"
           }
          ],
          "scattergeo": [
           {
            "marker": {
             "colorbar": {
              "outlinewidth": 0,
              "ticks": ""
             }
            },
            "type": "scattergeo"
           }
          ],
          "scattergl": [
           {
            "marker": {
             "colorbar": {
              "outlinewidth": 0,
              "ticks": ""
             }
            },
            "type": "scattergl"
           }
          ],
          "scattermap": [
           {
            "marker": {
             "colorbar": {
              "outlinewidth": 0,
              "ticks": ""
             }
            },
            "type": "scattermap"
           }
          ],
          "scattermapbox": [
           {
            "marker": {
             "colorbar": {
              "outlinewidth": 0,
              "ticks": ""
             }
            },
            "type": "scattermapbox"
           }
          ],
          "scatterpolar": [
           {
            "marker": {
             "colorbar": {
              "outlinewidth": 0,
              "ticks": ""
             }
            },
            "type": "scatterpolar"
           }
          ],
          "scatterpolargl": [
           {
            "marker": {
             "colorbar": {
              "outlinewidth": 0,
              "ticks": ""
             }
            },
            "type": "scatterpolargl"
           }
          ],
          "scatterternary": [
           {
            "marker": {
             "colorbar": {
              "outlinewidth": 0,
              "ticks": ""
             }
            },
            "type": "scatterternary"
           }
          ],
          "surface": [
           {
            "colorbar": {
             "outlinewidth": 0,
             "ticks": ""
            },
            "colorscale": [
             [
              0,
              "#0d0887"
             ],
             [
              0.1111111111111111,
              "#46039f"
             ],
             [
              0.2222222222222222,
              "#7201a8"
             ],
             [
              0.3333333333333333,
              "#9c179e"
             ],
             [
              0.4444444444444444,
              "#bd3786"
             ],
             [
              0.5555555555555556,
              "#d8576b"
             ],
             [
              0.6666666666666666,
              "#ed7953"
             ],
             [
              0.7777777777777778,
              "#fb9f3a"
             ],
             [
              0.8888888888888888,
              "#fdca26"
             ],
             [
              1,
              "#f0f921"
             ]
            ],
            "type": "surface"
           }
          ],
          "table": [
           {
            "cells": {
             "fill": {
              "color": "#EBF0F8"
             },
             "line": {
              "color": "white"
             }
            },
            "header": {
             "fill": {
              "color": "#C8D4E3"
             },
             "line": {
              "color": "white"
             }
            },
            "type": "table"
           }
          ]
         },
         "layout": {
          "annotationdefaults": {
           "arrowcolor": "#2a3f5f",
           "arrowhead": 0,
           "arrowwidth": 1
          },
          "autotypenumbers": "strict",
          "coloraxis": {
           "colorbar": {
            "outlinewidth": 0,
            "ticks": ""
           }
          },
          "colorscale": {
           "diverging": [
            [
             0,
             "#8e0152"
            ],
            [
             0.1,
             "#c51b7d"
            ],
            [
             0.2,
             "#de77ae"
            ],
            [
             0.3,
             "#f1b6da"
            ],
            [
             0.4,
             "#fde0ef"
            ],
            [
             0.5,
             "#f7f7f7"
            ],
            [
             0.6,
             "#e6f5d0"
            ],
            [
             0.7,
             "#b8e186"
            ],
            [
             0.8,
             "#7fbc41"
            ],
            [
             0.9,
             "#4d9221"
            ],
            [
             1,
             "#276419"
            ]
           ],
           "sequential": [
            [
             0,
             "#0d0887"
            ],
            [
             0.1111111111111111,
             "#46039f"
            ],
            [
             0.2222222222222222,
             "#7201a8"
            ],
            [
             0.3333333333333333,
             "#9c179e"
            ],
            [
             0.4444444444444444,
             "#bd3786"
            ],
            [
             0.5555555555555556,
             "#d8576b"
            ],
            [
             0.6666666666666666,
             "#ed7953"
            ],
            [
             0.7777777777777778,
             "#fb9f3a"
            ],
            [
             0.8888888888888888,
             "#fdca26"
            ],
            [
             1,
             "#f0f921"
            ]
           ],
           "sequentialminus": [
            [
             0,
             "#0d0887"
            ],
            [
             0.1111111111111111,
             "#46039f"
            ],
            [
             0.2222222222222222,
             "#7201a8"
            ],
            [
             0.3333333333333333,
             "#9c179e"
            ],
            [
             0.4444444444444444,
             "#bd3786"
            ],
            [
             0.5555555555555556,
             "#d8576b"
            ],
            [
             0.6666666666666666,
             "#ed7953"
            ],
            [
             0.7777777777777778,
             "#fb9f3a"
            ],
            [
             0.8888888888888888,
             "#fdca26"
            ],
            [
             1,
             "#f0f921"
            ]
           ]
          },
          "colorway": [
           "#636efa",
           "#EF553B",
           "#00cc96",
           "#ab63fa",
           "#FFA15A",
           "#19d3f3",
           "#FF6692",
           "#B6E880",
           "#FF97FF",
           "#FECB52"
          ],
          "font": {
           "color": "#2a3f5f"
          },
          "geo": {
           "bgcolor": "white",
           "lakecolor": "white",
           "landcolor": "#E5ECF6",
           "showlakes": true,
           "showland": true,
           "subunitcolor": "white"
          },
          "hoverlabel": {
           "align": "left"
          },
          "hovermode": "closest",
          "mapbox": {
           "style": "light"
          },
          "paper_bgcolor": "white",
          "plot_bgcolor": "#E5ECF6",
          "polar": {
           "angularaxis": {
            "gridcolor": "white",
            "linecolor": "white",
            "ticks": ""
           },
           "bgcolor": "#E5ECF6",
           "radialaxis": {
            "gridcolor": "white",
            "linecolor": "white",
            "ticks": ""
           }
          },
          "scene": {
           "xaxis": {
            "backgroundcolor": "#E5ECF6",
            "gridcolor": "white",
            "gridwidth": 2,
            "linecolor": "white",
            "showbackground": true,
            "ticks": "",
            "zerolinecolor": "white"
           },
           "yaxis": {
            "backgroundcolor": "#E5ECF6",
            "gridcolor": "white",
            "gridwidth": 2,
            "linecolor": "white",
            "showbackground": true,
            "ticks": "",
            "zerolinecolor": "white"
           },
           "zaxis": {
            "backgroundcolor": "#E5ECF6",
            "gridcolor": "white",
            "gridwidth": 2,
            "linecolor": "white",
            "showbackground": true,
            "ticks": "",
            "zerolinecolor": "white"
           }
          },
          "shapedefaults": {
           "line": {
            "color": "#2a3f5f"
           }
          },
          "ternary": {
           "aaxis": {
            "gridcolor": "white",
            "linecolor": "white",
            "ticks": ""
           },
           "baxis": {
            "gridcolor": "white",
            "linecolor": "white",
            "ticks": ""
           },
           "bgcolor": "#E5ECF6",
           "caxis": {
            "gridcolor": "white",
            "linecolor": "white",
            "ticks": ""
           }
          },
          "title": {
           "x": 0.05
          },
          "xaxis": {
           "automargin": true,
           "gridcolor": "white",
           "linecolor": "white",
           "ticks": "",
           "title": {
            "standoff": 15
           },
           "zerolinecolor": "white",
           "zerolinewidth": 2
          },
          "yaxis": {
           "automargin": true,
           "gridcolor": "white",
           "linecolor": "white",
           "ticks": "",
           "title": {
            "standoff": 15
           },
           "zerolinecolor": "white",
           "zerolinewidth": 2
          }
         }
        }
       }
      }
     },
     "metadata": {},
     "output_type": "display_data"
    },
    {
     "data": {
      "application/vnd.plotly.v1+json": {
       "config": {
        "plotlyServerURL": "https://plot.ly"
       },
       "data": [
        {
         "bingroup": "x",
         "histnorm": "probability",
         "hovertemplate": "variable=x<br>value=%{x}<br>probability=%{y}<extra></extra>",
         "legendgroup": "x",
         "marker": {
          "color": "#636efa",
          "pattern": {
           "shape": ""
          }
         },
         "name": "x",
         "nbinsx": 100,
         "orientation": "v",
         "showlegend": true,
         "type": "histogram",
         "x": {
          "bdata": "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",
          "dtype": "f4"
         },
         "xaxis": "x",
         "yaxis": "y"
        },
        {
         "bingroup": "x",
         "histnorm": "probability",
         "hovertemplate": "variable=y<br>value=%{x}<br>probability=%{y}<extra></extra>",
         "legendgroup": "y",
         "marker": {
          "color": "#EF553B",
          "pattern": {
           "shape": ""
          }
         },
         "name": "y",
         "nbinsx": 100,
         "orientation": "v",
         "showlegend": true,
         "type": "histogram",
         "x": {
          "bdata": "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",
          "dtype": "f4"
         },
         "xaxis": "x2",
         "yaxis": "y2"
        },
        {
         "bingroup": "x",
         "histnorm": "probability",
         "hovertemplate": "variable=z<br>value=%{x}<br>probability=%{y}<extra></extra>",
         "legendgroup": "z",
         "marker": {
          "color": "#00cc96",
          "pattern": {
           "shape": ""
          }
         },
         "name": "z",
         "nbinsx": 100,
         "orientation": "v",
         "showlegend": true,
         "type": "histogram",
         "x": {
          "bdata": "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",
          "dtype": "f4"
         },
         "xaxis": "x3",
         "yaxis": "y3"
        }
       ],
       "layout": {
        "annotations": [
         {
          "font": {},
          "showarrow": false,
          "text": "variable=x",
          "x": 0.15999999999999998,
          "xanchor": "center",
          "xref": "paper",
          "y": 1,
          "yanchor": "bottom",
          "yref": "paper"
         },
         {
          "font": {},
          "showarrow": false,
          "text": "variable=y",
          "x": 0.49999999999999994,
          "xanchor": "center",
          "xref": "paper",
          "y": 1,
          "yanchor": "bottom",
          "yref": "paper"
         },
         {
          "font": {},
          "showarrow": false,
          "text": "variable=z",
          "x": 0.8399999999999999,
          "xanchor": "center",
          "xref": "paper",
          "y": 1,
          "yanchor": "bottom",
          "yref": "paper"
         }
        ],
        "barmode": "relative",
        "legend": {
         "title": {
          "text": "variable"
         },
         "tracegroupgap": 0
        },
        "margin": {
         "t": 60
        },
        "template": {
         "data": {
          "bar": [
           {
            "error_x": {
             "color": "#2a3f5f"
            },
            "error_y": {
             "color": "#2a3f5f"
            },
            "marker": {
             "line": {
              "color": "#E5ECF6",
              "width": 0.5
             },
             "pattern": {
              "fillmode": "overlay",
              "size": 10,
              "solidity": 0.2
             }
            },
            "type": "bar"
           }
          ],
          "barpolar": [
           {
            "marker": {
             "line": {
              "color": "#E5ECF6",
              "width": 0.5
             },
             "pattern": {
              "fillmode": "overlay",
              "size": 10,
              "solidity": 0.2
             }
            },
            "type": "barpolar"
           }
          ],
          "carpet": [
           {
            "aaxis": {
             "endlinecolor": "#2a3f5f",
             "gridcolor": "white",
             "linecolor": "white",
             "minorgridcolor": "white",
             "startlinecolor": "#2a3f5f"
            },
            "baxis": {
             "endlinecolor": "#2a3f5f",
             "gridcolor": "white",
             "linecolor": "white",
             "minorgridcolor": "white",
             "startlinecolor": "#2a3f5f"
            },
            "type": "carpet"
           }
          ],
          "choropleth": [
           {
            "colorbar": {
             "outlinewidth": 0,
             "ticks": ""
            },
            "type": "choropleth"
           }
          ],
          "contour": [
           {
            "colorbar": {
             "outlinewidth": 0,
             "ticks": ""
            },
            "colorscale": [
             [
              0,
              "#0d0887"
             ],
             [
              0.1111111111111111,
              "#46039f"
             ],
             [
              0.2222222222222222,
              "#7201a8"
             ],
             [
              0.3333333333333333,
              "#9c179e"
             ],
             [
              0.4444444444444444,
              "#bd3786"
             ],
             [
              0.5555555555555556,
              "#d8576b"
             ],
             [
              0.6666666666666666,
              "#ed7953"
             ],
             [
              0.7777777777777778,
              "#fb9f3a"
             ],
             [
              0.8888888888888888,
              "#fdca26"
             ],
             [
              1,
              "#f0f921"
             ]
            ],
            "type": "contour"
           }
          ],
          "contourcarpet": [
           {
            "colorbar": {
             "outlinewidth": 0,
             "ticks": ""
            },
            "type": "contourcarpet"
           }
          ],
          "heatmap": [
           {
            "colorbar": {
             "outlinewidth": 0,
             "ticks": ""
            },
            "colorscale": [
             [
              0,
              "#0d0887"
             ],
             [
              0.1111111111111111,
              "#46039f"
             ],
             [
              0.2222222222222222,
              "#7201a8"
             ],
             [
              0.3333333333333333,
              "#9c179e"
             ],
             [
              0.4444444444444444,
              "#bd3786"
             ],
             [
              0.5555555555555556,
              "#d8576b"
             ],
             [
              0.6666666666666666,
              "#ed7953"
             ],
             [
              0.7777777777777778,
              "#fb9f3a"
             ],
             [
              0.8888888888888888,
              "#fdca26"
             ],
             [
              1,
              "#f0f921"
             ]
            ],
            "type": "heatmap"
           }
          ],
          "histogram": [
           {
            "marker": {
             "pattern": {
              "fillmode": "overlay",
              "size": 10,
              "solidity": 0.2
             }
            },
            "type": "histogram"
           }
          ],
          "histogram2d": [
           {
            "colorbar": {
             "outlinewidth": 0,
             "ticks": ""
            },
            "colorscale": [
             [
              0,
              "#0d0887"
             ],
             [
              0.1111111111111111,
              "#46039f"
             ],
             [
              0.2222222222222222,
              "#7201a8"
             ],
             [
              0.3333333333333333,
              "#9c179e"
             ],
             [
              0.4444444444444444,
              "#bd3786"
             ],
             [
              0.5555555555555556,
              "#d8576b"
             ],
             [
              0.6666666666666666,
              "#ed7953"
             ],
             [
              0.7777777777777778,
              "#fb9f3a"
             ],
             [
              0.8888888888888888,
              "#fdca26"
             ],
             [
              1,
              "#f0f921"
             ]
            ],
            "type": "histogram2d"
           }
          ],
          "histogram2dcontour": [
           {
            "colorbar": {
             "outlinewidth": 0,
             "ticks": ""
            },
            "colorscale": [
             [
              0,
              "#0d0887"
             ],
             [
              0.1111111111111111,
              "#46039f"
             ],
             [
              0.2222222222222222,
              "#7201a8"
             ],
             [
              0.3333333333333333,
              "#9c179e"
             ],
             [
              0.4444444444444444,
              "#bd3786"
             ],
             [
              0.5555555555555556,
              "#d8576b"
             ],
             [
              0.6666666666666666,
              "#ed7953"
             ],
             [
              0.7777777777777778,
              "#fb9f3a"
             ],
             [
              0.8888888888888888,
              "#fdca26"
             ],
             [
              1,
              "#f0f921"
             ]
            ],
            "type": "histogram2dcontour"
           }
          ],
          "mesh3d": [
           {
            "colorbar": {
             "outlinewidth": 0,
             "ticks": ""
            },
            "type": "mesh3d"
           }
          ],
          "parcoords": [
           {
            "line": {
             "colorbar": {
              "outlinewidth": 0,
              "ticks": ""
             }
            },
            "type": "parcoords"
           }
          ],
          "pie": [
           {
            "automargin": true,
            "type": "pie"
           }
          ],
          "scatter": [
           {
            "fillpattern": {
             "fillmode": "overlay",
             "size": 10,
             "solidity": 0.2
            },
            "type": "scatter"
           }
          ],
          "scatter3d": [
           {
            "line": {
             "colorbar": {
              "outlinewidth": 0,
              "ticks": ""
             }
            },
            "marker": {
             "colorbar": {
              "outlinewidth": 0,
              "ticks": ""
             }
            },
            "type": "scatter3d"
           }
          ],
          "scattercarpet": [
           {
            "marker": {
             "colorbar": {
              "outlinewidth": 0,
              "ticks": ""
             }
            },
            "type": "scattercarpet"
           }
          ],
          "scattergeo": [
           {
            "marker": {
             "colorbar": {
              "outlinewidth": 0,
              "ticks": ""
             }
            },
            "type": "scattergeo"
           }
          ],
          "scattergl": [
           {
            "marker": {
             "colorbar": {
              "outlinewidth": 0,
              "ticks": ""
             }
            },
            "type": "scattergl"
           }
          ],
          "scattermap": [
           {
            "marker": {
             "colorbar": {
              "outlinewidth": 0,
              "ticks": ""
             }
            },
            "type": "scattermap"
           }
          ],
          "scattermapbox": [
           {
            "marker": {
             "colorbar": {
              "outlinewidth": 0,
              "ticks": ""
             }
            },
            "type": "scattermapbox"
           }
          ],
          "scatterpolar": [
           {
            "marker": {
             "colorbar": {
              "outlinewidth": 0,
              "ticks": ""
             }
            },
            "type": "scatterpolar"
           }
          ],
          "scatterpolargl": [
           {
            "marker": {
             "colorbar": {
              "outlinewidth": 0,
              "ticks": ""
             }
            },
            "type": "scatterpolargl"
           }
          ],
          "scatterternary": [
           {
            "marker": {
             "colorbar": {
              "outlinewidth": 0,
              "ticks": ""
             }
            },
            "type": "scatterternary"
           }
          ],
          "surface": [
           {
            "colorbar": {
             "outlinewidth": 0,
             "ticks": ""
            },
            "colorscale": [
             [
              0,
              "#0d0887"
             ],
             [
              0.1111111111111111,
              "#46039f"
             ],
             [
              0.2222222222222222,
              "#7201a8"
             ],
             [
              0.3333333333333333,
              "#9c179e"
             ],
             [
              0.4444444444444444,
              "#bd3786"
             ],
             [
              0.5555555555555556,
              "#d8576b"
             ],
             [
              0.6666666666666666,
              "#ed7953"
             ],
             [
              0.7777777777777778,
              "#fb9f3a"
             ],
             [
              0.8888888888888888,
              "#fdca26"
             ],
             [
              1,
              "#f0f921"
             ]
            ],
            "type": "surface"
           }
          ],
          "table": [
           {
            "cells": {
             "fill": {
              "color": "#EBF0F8"
             },
             "line": {
              "color": "white"
             }
            },
            "header": {
             "fill": {
              "color": "#C8D4E3"
             },
             "line": {
              "color": "white"
             }
            },
            "type": "table"
           }
          ]
         },
         "layout": {
          "annotationdefaults": {
           "arrowcolor": "#2a3f5f",
           "arrowhead": 0,
           "arrowwidth": 1
          },
          "autotypenumbers": "strict",
          "coloraxis": {
           "colorbar": {
            "outlinewidth": 0,
            "ticks": ""
           }
          },
          "colorscale": {
           "diverging": [
            [
             0,
             "#8e0152"
            ],
            [
             0.1,
             "#c51b7d"
            ],
            [
             0.2,
             "#de77ae"
            ],
            [
             0.3,
             "#f1b6da"
            ],
            [
             0.4,
             "#fde0ef"
            ],
            [
             0.5,
             "#f7f7f7"
            ],
            [
             0.6,
             "#e6f5d0"
            ],
            [
             0.7,
             "#b8e186"
            ],
            [
             0.8,
             "#7fbc41"
            ],
            [
             0.9,
             "#4d9221"
            ],
            [
             1,
             "#276419"
            ]
           ],
           "sequential": [
            [
             0,
             "#0d0887"
            ],
            [
             0.1111111111111111,
             "#46039f"
            ],
            [
             0.2222222222222222,
             "#7201a8"
            ],
            [
             0.3333333333333333,
             "#9c179e"
            ],
            [
             0.4444444444444444,
             "#bd3786"
            ],
            [
             0.5555555555555556,
             "#d8576b"
            ],
            [
             0.6666666666666666,
             "#ed7953"
            ],
            [
             0.7777777777777778,
             "#fb9f3a"
            ],
            [
             0.8888888888888888,
             "#fdca26"
            ],
            [
             1,
             "#f0f921"
            ]
           ],
           "sequentialminus": [
            [
             0,
             "#0d0887"
            ],
            [
             0.1111111111111111,
             "#46039f"
            ],
            [
             0.2222222222222222,
             "#7201a8"
            ],
            [
             0.3333333333333333,
             "#9c179e"
            ],
            [
             0.4444444444444444,
             "#bd3786"
            ],
            [
             0.5555555555555556,
             "#d8576b"
            ],
            [
             0.6666666666666666,
             "#ed7953"
            ],
            [
             0.7777777777777778,
             "#fb9f3a"
            ],
            [
             0.8888888888888888,
             "#fdca26"
            ],
            [
             1,
             "#f0f921"
            ]
           ]
          },
          "colorway": [
           "#636efa",
           "#EF553B",
           "#00cc96",
           "#ab63fa",
           "#FFA15A",
           "#19d3f3",
           "#FF6692",
           "#B6E880",
           "#FF97FF",
           "#FECB52"
          ],
          "font": {
           "color": "#2a3f5f"
          },
          "geo": {
           "bgcolor": "white",
           "lakecolor": "white",
           "landcolor": "#E5ECF6",
           "showlakes": true,
           "showland": true,
           "subunitcolor": "white"
          },
          "hoverlabel": {
           "align": "left"
          },
          "hovermode": "closest",
          "mapbox": {
           "style": "light"
          },
          "paper_bgcolor": "white",
          "plot_bgcolor": "#E5ECF6",
          "polar": {
           "angularaxis": {
            "gridcolor": "white",
            "linecolor": "white",
            "ticks": ""
           },
           "bgcolor": "#E5ECF6",
           "radialaxis": {
            "gridcolor": "white",
            "linecolor": "white",
            "ticks": ""
           }
          },
          "scene": {
           "xaxis": {
            "backgroundcolor": "#E5ECF6",
            "gridcolor": "white",
            "gridwidth": 2,
            "linecolor": "white",
            "showbackground": true,
            "ticks": "",
            "zerolinecolor": "white"
           },
           "yaxis": {
            "backgroundcolor": "#E5ECF6",
            "gridcolor": "white",
            "gridwidth": 2,
            "linecolor": "white",
            "showbackground": true,
            "ticks": "",
            "zerolinecolor": "white"
           },
           "zaxis": {
            "backgroundcolor": "#E5ECF6",
            "gridcolor": "white",
            "gridwidth": 2,
            "linecolor": "white",
            "showbackground": true,
            "ticks": "",
            "zerolinecolor": "white"
           }
          },
          "shapedefaults": {
           "line": {
            "color": "#2a3f5f"
           }
          },
          "ternary": {
           "aaxis": {
            "gridcolor": "white",
            "linecolor": "white",
            "ticks": ""
           },
           "baxis": {
            "gridcolor": "white",
            "linecolor": "white",
            "ticks": ""
           },
           "bgcolor": "#E5ECF6",
           "caxis": {
            "gridcolor": "white",
            "linecolor": "white",
            "ticks": ""
           }
          },
          "title": {
           "x": 0.05
          },
          "xaxis": {
           "automargin": true,
           "gridcolor": "white",
           "linecolor": "white",
           "ticks": "",
           "title": {
            "standoff": 15
           },
           "zerolinecolor": "white",
           "zerolinewidth": 2
          },
          "yaxis": {
           "automargin": true,
           "gridcolor": "white",
           "linecolor": "white",
           "ticks": "",
           "title": {
            "standoff": 15
           },
           "zerolinecolor": "white",
           "zerolinewidth": 2
          }
         }
        },
        "xaxis": {
         "anchor": "y",
         "domain": [
          0,
          0.31999999999999995
         ],
         "title": {
          "text": "value"
         }
        },
        "xaxis2": {
         "anchor": "y2",
         "domain": [
          0.33999999999999997,
          0.6599999999999999
         ],
         "matches": "x",
         "title": {
          "text": "value"
         }
        },
        "xaxis3": {
         "anchor": "y3",
         "domain": [
          0.6799999999999999,
          0.9999999999999999
         ],
         "matches": "x",
         "title": {
          "text": "value"
         }
        },
        "yaxis": {
         "anchor": "x",
         "domain": [
          0,
          1
         ],
         "title": {
          "text": "probability"
         }
        },
        "yaxis2": {
         "anchor": "x2",
         "domain": [
          0,
          1
         ],
         "matches": "y",
         "showticklabels": false
        },
        "yaxis3": {
         "anchor": "x3",
         "domain": [
          0,
          1
         ],
         "matches": "y",
         "showticklabels": false
        }
       }
      }
     },
     "metadata": {},
     "output_type": "display_data"
    }
   ],
   "source": [
    "\n",
    "samples = 500\n",
    "density = 0.683\n",
    "model.eval()\n",
    "\n",
    "rec = model.sample(samples,density,device=device)\n",
    "df = pd.DataFrame(rec.detach().to('cpu').numpy(),columns=['x','y','z'])\n",
    "fig = px.scatter_3d(df,x='x',y='y',z='z')\n",
    "fig.show()\n",
    "fig = px.histogram(df,facet_col='variable',histnorm='probability',nbins=100)\n",
    "fig.show()\n"
   ]
  },
  {
   "cell_type": "code",
   "execution_count": 89,
   "metadata": {},
   "outputs": [
    {
     "data": {
      "application/vnd.plotly.v1+json": {
       "config": {
        "plotlyServerURL": "https://plot.ly"
       },
       "data": [
        {
         "hovertemplate": "x=%{x}<br>y=%{y}<br>z=%{z}<extra></extra>",
         "legendgroup": "",
         "marker": {
          "color": "#636efa",
          "symbol": "circle"
         },
         "mode": "markers",
         "name": "",
         "scene": "scene",
         "showlegend": false,
         "type": "scatter3d",
         "x": {
          "bdata": "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",
          "dtype": "f4"
         },
         "y": {
          "bdata": "tEn/PlKDAT9rV/0+3cn6Pu5K9z6sIv8+KlUHPwxY6j4K9fw+RIoBP45+BD+izfw+3pUCP1P/BD/GbQA/vZbxPhA/Az9Gmv0+/+D+PnJu+T6s6f4+akHSPizEAT/uGvo+jCX3PnfjBD/POf8+WXv9PgA0BT++PgY/tWXvPrNlBj8xRgM/yErgPtXzAD/oYgc/7Eb/PrLI/T4uHwE/ML4HPx21DT9ubPw+WT77Pp0p9j6Izfw+Xpv0PhNR8z7TwfI+M+oBPwwoAD8tlgY/OowNP19FBT8Q3QM/UA79PkE2AT9mmgA/CpT9PqPj2T7wE/U+FHH9PgIL8j7PGgQ/gSUEP6vb9T6eAvk+OB0QP/mXAz+yd/8+b1kDP1PsDD+gvPM+QVQKP4H09D5GUAY/eY4BP38B6z78cQg/gzfzPjPtCj/QmQQ/FZfnPk7v/D5N1fk+zkX9PoLm/z6cHus+YyoJP+fIBT9IHAc/NPTuPtdlBT8OZPw+lwgMPyAt9T75bwQ/BaEDP/5z3D5G4fY+np37PtoUBz8ELAI/qur5PhSS6T7U0/w+3pz9Po5N8T6A/fQ+0pIDP1ZY9z4+K+4+VPf7Pshb8D5iiQo/z2gCPwCCAD+z9wc/0PXkPitW/z6HcgM/WN76Popb/D78YQU/6kvtPkhT9z4izgI/h4wAP7a2+z4llv8+qrf7Pg7P6z4YPwM/BgT9Pkxr+j4wgAQ/ArkAP5is+T5Yjfs+esf8PkJR+T5T0AE/ilcCPxIF8T6RBAI/WUwIP1s2/z42BwA/3oQEP+VZAD8yEwc/xJgIP671/D639wo/UpEGPxJY8j7Q/v0+P+79PsMu/j4VCQg/lmgJP+Pu7z4Kofg+DpXxPiQpDz/mqfY+gMH8Psqg+z6+xgY/yt0CP6ug+D5b4gA/0hf9PlfXAT9EnQM/jSMCPxpd/D7MDwg/cC/zPly68z4uvRE/dMgAP60Z5z54wAQ/7yroPrXCAj94y/o+Ql3iPjaSBj+w1AE/lCkDP6MdED/2pe8+YnnvProX9z6F+QA/LQUFP+R9/z5bMQU/qQAEP2e1BT8PKAM/NUMGP7iGAT+frAI/4m8JP4OLAj9iXQI/05z5PiYjBT93U+c+cKf9PmB2Bz+hmP8+84sIP8jq4z46d/8+5+kDP8V39z4Nq/A++Gr6PoLlBj85PgQ/eccJPzwxAz9QtQE/hEIBP44mDD8gDQU/os0CP2QmCD+Kcvw+DqcAPw3VAT8E4fs+hGwBP1D27z7XIfo+m2r/Pt5SAT+opgY/JpkBP2YDCz9XGe0+qQUEPzAiAj/GygU/Wt0AP67w7j6NYwQ/7LgAP4G7Dz/GkO4+xBcBP9BR9D7uLu8+fdEDP3FBAz/rNvg+kFr6PnNR8T6fugM/nbEDP0BtAz9gbPk+l0QAP/r78D6oAQI/3KTqPga5+j41UQI/xO8DP0zB/D6Ao/0+RmL5PnL+/z5LNP4+2vABPy3mAT9BVAA/b8gAP5iu/z6hrgY/6+sIPzzx9j7wIQI/yD/4PtMS7j64E/M+4UgFP+9CBz+q5AA/Ev8CPw1pAj+tWg0/UMH0PtzZAT+z3AI/vawIP1AwBj/cGf8+vP4IP2S//T6mbP0+9ToCP6vE/T6wlf0+/DsDP+/vBD9PRvs+jkXoPjxX9D6ooAI/oNP6PsgV9T7xUwE/RdUEPwGj9z5W6QI/ZML0PtRUCz8eLAA/BckAPzOsBD9OKvQ+F4gOP/ELBT/btQI/SFDzPqyJ9j5Kxu0+7mECPxM6AD9QQAY/rNgKP3DxAT+BYfg+jf0HP9EGBD9kq/A+o+P+PhXlBT/CQvU++sjaPonxAD8y+gw/zkj0PmAB/z70uf4+jBP5PqDI9j4W7AM/5+75PjsM9z5bFgU/QkcHP/VIAD8wmPk+QDP0PptMAz+JfvU+ewgBP3ef9D7ouQA/ctjrPocg7z5BPgQ/bgwBPw/2Bj+dJf8+/bv8Pk5C5z722u8+KiwCP5p8/j5yb+c+iN0CPw4QAT/eufI+SgADP1gV9D7pigU/cUEAP4Rg/D4uTQk/GoEBPwaj+j4DTfg+a0sCP9OTFD/71Qc/4MjzPrSFAT98Sf4+9FECP9TFAD8YIvw+6kb4Puc4CT+AUAM/tW7MPszF+j6O8+g+Zd8BP7JQ+j7z3AI/xeEEPzzE/T6hZQM/7Qv9Pg5n/T7WBfo+6MUHPxh/3j7XQgU/6XAFPzkzAT+T4AM/pw74PiauAz+HHQ4/fUn+Pj3EAj+yJ/w+tKvwPrTlBz8SVPE+TGX7Pss2Bz/ZIvk+y1oDPywD/z5ucvk+QCUCPx8/CT8e9AE/ckb7Ph3fAT9mo+I+rjsAPyDl6T4fgPk+vrHkPi6FBj844gc/0HP7PhAnCD9dJQA/IQoFPy78Cj8CbwI/u2jqPq4mAz+R6/0+tk7sPvbs/D4xOvg+Hov6PjrrAj9rNvo+EQYZP4jnBz9F+v0+ghYEPwgU/T6Ukvg+g64BPxhL/D7z0wM/k5nSPls0BD/wLQQ/JpcNP4w9+D6rCAQ/0bsBPw88Aj+LIvI+G7wDP9BFBj+cMPc+HPL2PlZQ/T700wI/1Z4RP8aY+j4X+Qs/AGj+PvCNAz+7FQE/FNv+PmWiAT+q4Pk+VZQFP3JyAz9iIQA/e7QBPymJ9T6iGwA/xP/4Pht7/T4=",
          "dtype": "f4"
         },
         "z": {
          "bdata": "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",
          "dtype": "f4"
         }
        }
       ],
       "layout": {
        "legend": {
         "tracegroupgap": 0
        },
        "margin": {
         "t": 60
        },
        "scene": {
         "domain": {
          "x": [
           0,
           1
          ],
          "y": [
           0,
           1
          ]
         },
         "xaxis": {
          "title": {
           "text": "x"
          }
         },
         "yaxis": {
          "title": {
           "text": "y"
          }
         },
         "zaxis": {
          "title": {
           "text": "z"
          }
         }
        },
        "template": {
         "data": {
          "bar": [
           {
            "error_x": {
             "color": "#2a3f5f"
            },
            "error_y": {
             "color": "#2a3f5f"
            },
            "marker": {
             "line": {
              "color": "#E5ECF6",
              "width": 0.5
             },
             "pattern": {
              "fillmode": "overlay",
              "size": 10,
              "solidity": 0.2
             }
            },
            "type": "bar"
           }
          ],
          "barpolar": [
           {
            "marker": {
             "line": {
              "color": "#E5ECF6",
              "width": 0.5
             },
             "pattern": {
              "fillmode": "overlay",
              "size": 10,
              "solidity": 0.2
             }
            },
            "type": "barpolar"
           }
          ],
          "carpet": [
           {
            "aaxis": {
             "endlinecolor": "#2a3f5f",
             "gridcolor": "white",
             "linecolor": "white",
             "minorgridcolor": "white",
             "startlinecolor": "#2a3f5f"
            },
            "baxis": {
             "endlinecolor": "#2a3f5f",
             "gridcolor": "white",
             "linecolor": "white",
             "minorgridcolor": "white",
             "startlinecolor": "#2a3f5f"
            },
            "type": "carpet"
           }
          ],
          "choropleth": [
           {
            "colorbar": {
             "outlinewidth": 0,
             "ticks": ""
            },
            "type": "choropleth"
           }
          ],
          "contour": [
           {
            "colorbar": {
             "outlinewidth": 0,
             "ticks": ""
            },
            "colorscale": [
             [
              0,
              "#0d0887"
             ],
             [
              0.1111111111111111,
              "#46039f"
             ],
             [
              0.2222222222222222,
              "#7201a8"
             ],
             [
              0.3333333333333333,
              "#9c179e"
             ],
             [
              0.4444444444444444,
              "#bd3786"
             ],
             [
              0.5555555555555556,
              "#d8576b"
             ],
             [
              0.6666666666666666,
              "#ed7953"
             ],
             [
              0.7777777777777778,
              "#fb9f3a"
             ],
             [
              0.8888888888888888,
              "#fdca26"
             ],
             [
              1,
              "#f0f921"
             ]
            ],
            "type": "contour"
           }
          ],
          "contourcarpet": [
           {
            "colorbar": {
             "outlinewidth": 0,
             "ticks": ""
            },
            "type": "contourcarpet"
           }
          ],
          "heatmap": [
           {
            "colorbar": {
             "outlinewidth": 0,
             "ticks": ""
            },
            "colorscale": [
             [
              0,
              "#0d0887"
             ],
             [
              0.1111111111111111,
              "#46039f"
             ],
             [
              0.2222222222222222,
              "#7201a8"
             ],
             [
              0.3333333333333333,
              "#9c179e"
             ],
             [
              0.4444444444444444,
              "#bd3786"
             ],
             [
              0.5555555555555556,
              "#d8576b"
             ],
             [
              0.6666666666666666,
              "#ed7953"
             ],
             [
              0.7777777777777778,
              "#fb9f3a"
             ],
             [
              0.8888888888888888,
              "#fdca26"
             ],
             [
              1,
              "#f0f921"
             ]
            ],
            "type": "heatmap"
           }
          ],
          "histogram": [
           {
            "marker": {
             "pattern": {
              "fillmode": "overlay",
              "size": 10,
              "solidity": 0.2
             }
            },
            "type": "histogram"
           }
          ],
          "histogram2d": [
           {
            "colorbar": {
             "outlinewidth": 0,
             "ticks": ""
            },
            "colorscale": [
             [
              0,
              "#0d0887"
             ],
             [
              0.1111111111111111,
              "#46039f"
             ],
             [
              0.2222222222222222,
              "#7201a8"
             ],
             [
              0.3333333333333333,
              "#9c179e"
             ],
             [
              0.4444444444444444,
              "#bd3786"
             ],
             [
              0.5555555555555556,
              "#d8576b"
             ],
             [
              0.6666666666666666,
              "#ed7953"
             ],
             [
              0.7777777777777778,
              "#fb9f3a"
             ],
             [
              0.8888888888888888,
              "#fdca26"
             ],
             [
              1,
              "#f0f921"
             ]
            ],
            "type": "histogram2d"
           }
          ],
          "histogram2dcontour": [
           {
            "colorbar": {
             "outlinewidth": 0,
             "ticks": ""
            },
            "colorscale": [
             [
              0,
              "#0d0887"
             ],
             [
              0.1111111111111111,
              "#46039f"
             ],
             [
              0.2222222222222222,
              "#7201a8"
             ],
             [
              0.3333333333333333,
              "#9c179e"
             ],
             [
              0.4444444444444444,
              "#bd3786"
             ],
             [
              0.5555555555555556,
              "#d8576b"
             ],
             [
              0.6666666666666666,
              "#ed7953"
             ],
             [
              0.7777777777777778,
              "#fb9f3a"
             ],
             [
              0.8888888888888888,
              "#fdca26"
             ],
             [
              1,
              "#f0f921"
             ]
            ],
            "type": "histogram2dcontour"
           }
          ],
          "mesh3d": [
           {
            "colorbar": {
             "outlinewidth": 0,
             "ticks": ""
            },
            "type": "mesh3d"
           }
          ],
          "parcoords": [
           {
            "line": {
             "colorbar": {
              "outlinewidth": 0,
              "ticks": ""
             }
            },
            "type": "parcoords"
           }
          ],
          "pie": [
           {
            "automargin": true,
            "type": "pie"
           }
          ],
          "scatter": [
           {
            "fillpattern": {
             "fillmode": "overlay",
             "size": 10,
             "solidity": 0.2
            },
            "type": "scatter"
           }
          ],
          "scatter3d": [
           {
            "line": {
             "colorbar": {
              "outlinewidth": 0,
              "ticks": ""
             }
            },
            "marker": {
             "colorbar": {
              "outlinewidth": 0,
              "ticks": ""
             }
            },
            "type": "scatter3d"
           }
          ],
          "scattercarpet": [
           {
            "marker": {
             "colorbar": {
              "outlinewidth": 0,
              "ticks": ""
             }
            },
            "type": "scattercarpet"
           }
          ],
          "scattergeo": [
           {
            "marker": {
             "colorbar": {
              "outlinewidth": 0,
              "ticks": ""
             }
            },
            "type": "scattergeo"
           }
          ],
          "scattergl": [
           {
            "marker": {
             "colorbar": {
              "outlinewidth": 0,
              "ticks": ""
             }
            },
            "type": "scattergl"
           }
          ],
          "scattermap": [
           {
            "marker": {
             "colorbar": {
              "outlinewidth": 0,
              "ticks": ""
             }
            },
            "type": "scattermap"
           }
          ],
          "scattermapbox": [
           {
            "marker": {
             "colorbar": {
              "outlinewidth": 0,
              "ticks": ""
             }
            },
            "type": "scattermapbox"
           }
          ],
          "scatterpolar": [
           {
            "marker": {
             "colorbar": {
              "outlinewidth": 0,
              "ticks": ""
             }
            },
            "type": "scatterpolar"
           }
          ],
          "scatterpolargl": [
           {
            "marker": {
             "colorbar": {
              "outlinewidth": 0,
              "ticks": ""
             }
            },
            "type": "scatterpolargl"
           }
          ],
          "scatterternary": [
           {
            "marker": {
             "colorbar": {
              "outlinewidth": 0,
              "ticks": ""
             }
            },
            "type": "scatterternary"
           }
          ],
          "surface": [
           {
            "colorbar": {
             "outlinewidth": 0,
             "ticks": ""
            },
            "colorscale": [
             [
              0,
              "#0d0887"
             ],
             [
              0.1111111111111111,
              "#46039f"
             ],
             [
              0.2222222222222222,
              "#7201a8"
             ],
             [
              0.3333333333333333,
              "#9c179e"
             ],
             [
              0.4444444444444444,
              "#bd3786"
             ],
             [
              0.5555555555555556,
              "#d8576b"
             ],
             [
              0.6666666666666666,
              "#ed7953"
             ],
             [
              0.7777777777777778,
              "#fb9f3a"
             ],
             [
              0.8888888888888888,
              "#fdca26"
             ],
             [
              1,
              "#f0f921"
             ]
            ],
            "type": "surface"
           }
          ],
          "table": [
           {
            "cells": {
             "fill": {
              "color": "#EBF0F8"
             },
             "line": {
              "color": "white"
             }
            },
            "header": {
             "fill": {
              "color": "#C8D4E3"
             },
             "line": {
              "color": "white"
             }
            },
            "type": "table"
           }
          ]
         },
         "layout": {
          "annotationdefaults": {
           "arrowcolor": "#2a3f5f",
           "arrowhead": 0,
           "arrowwidth": 1
          },
          "autotypenumbers": "strict",
          "coloraxis": {
           "colorbar": {
            "outlinewidth": 0,
            "ticks": ""
           }
          },
          "colorscale": {
           "diverging": [
            [
             0,
             "#8e0152"
            ],
            [
             0.1,
             "#c51b7d"
            ],
            [
             0.2,
             "#de77ae"
            ],
            [
             0.3,
             "#f1b6da"
            ],
            [
             0.4,
             "#fde0ef"
            ],
            [
             0.5,
             "#f7f7f7"
            ],
            [
             0.6,
             "#e6f5d0"
            ],
            [
             0.7,
             "#b8e186"
            ],
            [
             0.8,
             "#7fbc41"
            ],
            [
             0.9,
             "#4d9221"
            ],
            [
             1,
             "#276419"
            ]
           ],
           "sequential": [
            [
             0,
             "#0d0887"
            ],
            [
             0.1111111111111111,
             "#46039f"
            ],
            [
             0.2222222222222222,
             "#7201a8"
            ],
            [
             0.3333333333333333,
             "#9c179e"
            ],
            [
             0.4444444444444444,
             "#bd3786"
            ],
            [
             0.5555555555555556,
             "#d8576b"
            ],
            [
             0.6666666666666666,
             "#ed7953"
            ],
            [
             0.7777777777777778,
             "#fb9f3a"
            ],
            [
             0.8888888888888888,
             "#fdca26"
            ],
            [
             1,
             "#f0f921"
            ]
           ],
           "sequentialminus": [
            [
             0,
             "#0d0887"
            ],
            [
             0.1111111111111111,
             "#46039f"
            ],
            [
             0.2222222222222222,
             "#7201a8"
            ],
            [
             0.3333333333333333,
             "#9c179e"
            ],
            [
             0.4444444444444444,
             "#bd3786"
            ],
            [
             0.5555555555555556,
             "#d8576b"
            ],
            [
             0.6666666666666666,
             "#ed7953"
            ],
            [
             0.7777777777777778,
             "#fb9f3a"
            ],
            [
             0.8888888888888888,
             "#fdca26"
            ],
            [
             1,
             "#f0f921"
            ]
           ]
          },
          "colorway": [
           "#636efa",
           "#EF553B",
           "#00cc96",
           "#ab63fa",
           "#FFA15A",
           "#19d3f3",
           "#FF6692",
           "#B6E880",
           "#FF97FF",
           "#FECB52"
          ],
          "font": {
           "color": "#2a3f5f"
          },
          "geo": {
           "bgcolor": "white",
           "lakecolor": "white",
           "landcolor": "#E5ECF6",
           "showlakes": true,
           "showland": true,
           "subunitcolor": "white"
          },
          "hoverlabel": {
           "align": "left"
          },
          "hovermode": "closest",
          "mapbox": {
           "style": "light"
          },
          "paper_bgcolor": "white",
          "plot_bgcolor": "#E5ECF6",
          "polar": {
           "angularaxis": {
            "gridcolor": "white",
            "linecolor": "white",
            "ticks": ""
           },
           "bgcolor": "#E5ECF6",
           "radialaxis": {
            "gridcolor": "white",
            "linecolor": "white",
            "ticks": ""
           }
          },
          "scene": {
           "xaxis": {
            "backgroundcolor": "#E5ECF6",
            "gridcolor": "white",
            "gridwidth": 2,
            "linecolor": "white",
            "showbackground": true,
            "ticks": "",
            "zerolinecolor": "white"
           },
           "yaxis": {
            "backgroundcolor": "#E5ECF6",
            "gridcolor": "white",
            "gridwidth": 2,
            "linecolor": "white",
            "showbackground": true,
            "ticks": "",
            "zerolinecolor": "white"
           },
           "zaxis": {
            "backgroundcolor": "#E5ECF6",
            "gridcolor": "white",
            "gridwidth": 2,
            "linecolor": "white",
            "showbackground": true,
            "ticks": "",
            "zerolinecolor": "white"
           }
          },
          "shapedefaults": {
           "line": {
            "color": "#2a3f5f"
           }
          },
          "ternary": {
           "aaxis": {
            "gridcolor": "white",
            "linecolor": "white",
            "ticks": ""
           },
           "baxis": {
            "gridcolor": "white",
            "linecolor": "white",
            "ticks": ""
           },
           "bgcolor": "#E5ECF6",
           "caxis": {
            "gridcolor": "white",
            "linecolor": "white",
            "ticks": ""
           }
          },
          "title": {
           "x": 0.05
          },
          "xaxis": {
           "automargin": true,
           "gridcolor": "white",
           "linecolor": "white",
           "ticks": "",
           "title": {
            "standoff": 15
           },
           "zerolinecolor": "white",
           "zerolinewidth": 2
          },
          "yaxis": {
           "automargin": true,
           "gridcolor": "white",
           "linecolor": "white",
           "ticks": "",
           "title": {
            "standoff": 15
           },
           "zerolinecolor": "white",
           "zerolinewidth": 2
          }
         }
        }
       }
      }
     },
     "metadata": {},
     "output_type": "display_data"
    },
    {
     "data": {
      "application/vnd.plotly.v1+json": {
       "config": {
        "plotlyServerURL": "https://plot.ly"
       },
       "data": [
        {
         "bingroup": "x",
         "histnorm": "probability",
         "hovertemplate": "variable=x<br>value=%{x}<br>probability=%{y}<extra></extra>",
         "legendgroup": "x",
         "marker": {
          "color": "#636efa",
          "pattern": {
           "shape": ""
          }
         },
         "name": "x",
         "nbinsx": 100,
         "orientation": "v",
         "showlegend": true,
         "type": "histogram",
         "x": {
          "bdata": "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",
          "dtype": "f4"
         },
         "xaxis": "x",
         "yaxis": "y"
        },
        {
         "bingroup": "x",
         "histnorm": "probability",
         "hovertemplate": "variable=y<br>value=%{x}<br>probability=%{y}<extra></extra>",
         "legendgroup": "y",
         "marker": {
          "color": "#EF553B",
          "pattern": {
           "shape": ""
          }
         },
         "name": "y",
         "nbinsx": 100,
         "orientation": "v",
         "showlegend": true,
         "type": "histogram",
         "x": {
          "bdata": "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",
          "dtype": "f4"
         },
         "xaxis": "x2",
         "yaxis": "y2"
        },
        {
         "bingroup": "x",
         "histnorm": "probability",
         "hovertemplate": "variable=z<br>value=%{x}<br>probability=%{y}<extra></extra>",
         "legendgroup": "z",
         "marker": {
          "color": "#00cc96",
          "pattern": {
           "shape": ""
          }
         },
         "name": "z",
         "nbinsx": 100,
         "orientation": "v",
         "showlegend": true,
         "type": "histogram",
         "x": {
          "bdata": "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",
          "dtype": "f4"
         },
         "xaxis": "x3",
         "yaxis": "y3"
        }
       ],
       "layout": {
        "annotations": [
         {
          "font": {},
          "showarrow": false,
          "text": "variable=x",
          "x": 0.15999999999999998,
          "xanchor": "center",
          "xref": "paper",
          "y": 1,
          "yanchor": "bottom",
          "yref": "paper"
         },
         {
          "font": {},
          "showarrow": false,
          "text": "variable=y",
          "x": 0.49999999999999994,
          "xanchor": "center",
          "xref": "paper",
          "y": 1,
          "yanchor": "bottom",
          "yref": "paper"
         },
         {
          "font": {},
          "showarrow": false,
          "text": "variable=z",
          "x": 0.8399999999999999,
          "xanchor": "center",
          "xref": "paper",
          "y": 1,
          "yanchor": "bottom",
          "yref": "paper"
         }
        ],
        "barmode": "relative",
        "legend": {
         "title": {
          "text": "variable"
         },
         "tracegroupgap": 0
        },
        "margin": {
         "t": 60
        },
        "template": {
         "data": {
          "bar": [
           {
            "error_x": {
             "color": "#2a3f5f"
            },
            "error_y": {
             "color": "#2a3f5f"
            },
            "marker": {
             "line": {
              "color": "#E5ECF6",
              "width": 0.5
             },
             "pattern": {
              "fillmode": "overlay",
              "size": 10,
              "solidity": 0.2
             }
            },
            "type": "bar"
           }
          ],
          "barpolar": [
           {
            "marker": {
             "line": {
              "color": "#E5ECF6",
              "width": 0.5
             },
             "pattern": {
              "fillmode": "overlay",
              "size": 10,
              "solidity": 0.2
             }
            },
            "type": "barpolar"
           }
          ],
          "carpet": [
           {
            "aaxis": {
             "endlinecolor": "#2a3f5f",
             "gridcolor": "white",
             "linecolor": "white",
             "minorgridcolor": "white",
             "startlinecolor": "#2a3f5f"
            },
            "baxis": {
             "endlinecolor": "#2a3f5f",
             "gridcolor": "white",
             "linecolor": "white",
             "minorgridcolor": "white",
             "startlinecolor": "#2a3f5f"
            },
            "type": "carpet"
           }
          ],
          "choropleth": [
           {
            "colorbar": {
             "outlinewidth": 0,
             "ticks": ""
            },
            "type": "choropleth"
           }
          ],
          "contour": [
           {
            "colorbar": {
             "outlinewidth": 0,
             "ticks": ""
            },
            "colorscale": [
             [
              0,
              "#0d0887"
             ],
             [
              0.1111111111111111,
              "#46039f"
             ],
             [
              0.2222222222222222,
              "#7201a8"
             ],
             [
              0.3333333333333333,
              "#9c179e"
             ],
             [
              0.4444444444444444,
              "#bd3786"
             ],
             [
              0.5555555555555556,
              "#d8576b"
             ],
             [
              0.6666666666666666,
              "#ed7953"
             ],
             [
              0.7777777777777778,
              "#fb9f3a"
             ],
             [
              0.8888888888888888,
              "#fdca26"
             ],
             [
              1,
              "#f0f921"
             ]
            ],
            "type": "contour"
           }
          ],
          "contourcarpet": [
           {
            "colorbar": {
             "outlinewidth": 0,
             "ticks": ""
            },
            "type": "contourcarpet"
           }
          ],
          "heatmap": [
           {
            "colorbar": {
             "outlinewidth": 0,
             "ticks": ""
            },
            "colorscale": [
             [
              0,
              "#0d0887"
             ],
             [
              0.1111111111111111,
              "#46039f"
             ],
             [
              0.2222222222222222,
              "#7201a8"
             ],
             [
              0.3333333333333333,
              "#9c179e"
             ],
             [
              0.4444444444444444,
              "#bd3786"
             ],
             [
              0.5555555555555556,
              "#d8576b"
             ],
             [
              0.6666666666666666,
              "#ed7953"
             ],
             [
              0.7777777777777778,
              "#fb9f3a"
             ],
             [
              0.8888888888888888,
              "#fdca26"
             ],
             [
              1,
              "#f0f921"
             ]
            ],
            "type": "heatmap"
           }
          ],
          "histogram": [
           {
            "marker": {
             "pattern": {
              "fillmode": "overlay",
              "size": 10,
              "solidity": 0.2
             }
            },
            "type": "histogram"
           }
          ],
          "histogram2d": [
           {
            "colorbar": {
             "outlinewidth": 0,
             "ticks": ""
            },
            "colorscale": [
             [
              0,
              "#0d0887"
             ],
             [
              0.1111111111111111,
              "#46039f"
             ],
             [
              0.2222222222222222,
              "#7201a8"
             ],
             [
              0.3333333333333333,
              "#9c179e"
             ],
             [
              0.4444444444444444,
              "#bd3786"
             ],
             [
              0.5555555555555556,
              "#d8576b"
             ],
             [
              0.6666666666666666,
              "#ed7953"
             ],
             [
              0.7777777777777778,
              "#fb9f3a"
             ],
             [
              0.8888888888888888,
              "#fdca26"
             ],
             [
              1,
              "#f0f921"
             ]
            ],
            "type": "histogram2d"
           }
          ],
          "histogram2dcontour": [
           {
            "colorbar": {
             "outlinewidth": 0,
             "ticks": ""
            },
            "colorscale": [
             [
              0,
              "#0d0887"
             ],
             [
              0.1111111111111111,
              "#46039f"
             ],
             [
              0.2222222222222222,
              "#7201a8"
             ],
             [
              0.3333333333333333,
              "#9c179e"
             ],
             [
              0.4444444444444444,
              "#bd3786"
             ],
             [
              0.5555555555555556,
              "#d8576b"
             ],
             [
              0.6666666666666666,
              "#ed7953"
             ],
             [
              0.7777777777777778,
              "#fb9f3a"
             ],
             [
              0.8888888888888888,
              "#fdca26"
             ],
             [
              1,
              "#f0f921"
             ]
            ],
            "type": "histogram2dcontour"
           }
          ],
          "mesh3d": [
           {
            "colorbar": {
             "outlinewidth": 0,
             "ticks": ""
            },
            "type": "mesh3d"
           }
          ],
          "parcoords": [
           {
            "line": {
             "colorbar": {
              "outlinewidth": 0,
              "ticks": ""
             }
            },
            "type": "parcoords"
           }
          ],
          "pie": [
           {
            "automargin": true,
            "type": "pie"
           }
          ],
          "scatter": [
           {
            "fillpattern": {
             "fillmode": "overlay",
             "size": 10,
             "solidity": 0.2
            },
            "type": "scatter"
           }
          ],
          "scatter3d": [
           {
            "line": {
             "colorbar": {
              "outlinewidth": 0,
              "ticks": ""
             }
            },
            "marker": {
             "colorbar": {
              "outlinewidth": 0,
              "ticks": ""
             }
            },
            "type": "scatter3d"
           }
          ],
          "scattercarpet": [
           {
            "marker": {
             "colorbar": {
              "outlinewidth": 0,
              "ticks": ""
             }
            },
            "type": "scattercarpet"
           }
          ],
          "scattergeo": [
           {
            "marker": {
             "colorbar": {
              "outlinewidth": 0,
              "ticks": ""
             }
            },
            "type": "scattergeo"
           }
          ],
          "scattergl": [
           {
            "marker": {
             "colorbar": {
              "outlinewidth": 0,
              "ticks": ""
             }
            },
            "type": "scattergl"
           }
          ],
          "scattermap": [
           {
            "marker": {
             "colorbar": {
              "outlinewidth": 0,
              "ticks": ""
             }
            },
            "type": "scattermap"
           }
          ],
          "scattermapbox": [
           {
            "marker": {
             "colorbar": {
              "outlinewidth": 0,
              "ticks": ""
             }
            },
            "type": "scattermapbox"
           }
          ],
          "scatterpolar": [
           {
            "marker": {
             "colorbar": {
              "outlinewidth": 0,
              "ticks": ""
             }
            },
            "type": "scatterpolar"
           }
          ],
          "scatterpolargl": [
           {
            "marker": {
             "colorbar": {
              "outlinewidth": 0,
              "ticks": ""
             }
            },
            "type": "scatterpolargl"
           }
          ],
          "scatterternary": [
           {
            "marker": {
             "colorbar": {
              "outlinewidth": 0,
              "ticks": ""
             }
            },
            "type": "scatterternary"
           }
          ],
          "surface": [
           {
            "colorbar": {
             "outlinewidth": 0,
             "ticks": ""
            },
            "colorscale": [
             [
              0,
              "#0d0887"
             ],
             [
              0.1111111111111111,
              "#46039f"
             ],
             [
              0.2222222222222222,
              "#7201a8"
             ],
             [
              0.3333333333333333,
              "#9c179e"
             ],
             [
              0.4444444444444444,
              "#bd3786"
             ],
             [
              0.5555555555555556,
              "#d8576b"
             ],
             [
              0.6666666666666666,
              "#ed7953"
             ],
             [
              0.7777777777777778,
              "#fb9f3a"
             ],
             [
              0.8888888888888888,
              "#fdca26"
             ],
             [
              1,
              "#f0f921"
             ]
            ],
            "type": "surface"
           }
          ],
          "table": [
           {
            "cells": {
             "fill": {
              "color": "#EBF0F8"
             },
             "line": {
              "color": "white"
             }
            },
            "header": {
             "fill": {
              "color": "#C8D4E3"
             },
             "line": {
              "color": "white"
             }
            },
            "type": "table"
           }
          ]
         },
         "layout": {
          "annotationdefaults": {
           "arrowcolor": "#2a3f5f",
           "arrowhead": 0,
           "arrowwidth": 1
          },
          "autotypenumbers": "strict",
          "coloraxis": {
           "colorbar": {
            "outlinewidth": 0,
            "ticks": ""
           }
          },
          "colorscale": {
           "diverging": [
            [
             0,
             "#8e0152"
            ],
            [
             0.1,
             "#c51b7d"
            ],
            [
             0.2,
             "#de77ae"
            ],
            [
             0.3,
             "#f1b6da"
            ],
            [
             0.4,
             "#fde0ef"
            ],
            [
             0.5,
             "#f7f7f7"
            ],
            [
             0.6,
             "#e6f5d0"
            ],
            [
             0.7,
             "#b8e186"
            ],
            [
             0.8,
             "#7fbc41"
            ],
            [
             0.9,
             "#4d9221"
            ],
            [
             1,
             "#276419"
            ]
           ],
           "sequential": [
            [
             0,
             "#0d0887"
            ],
            [
             0.1111111111111111,
             "#46039f"
            ],
            [
             0.2222222222222222,
             "#7201a8"
            ],
            [
             0.3333333333333333,
             "#9c179e"
            ],
            [
             0.4444444444444444,
             "#bd3786"
            ],
            [
             0.5555555555555556,
             "#d8576b"
            ],
            [
             0.6666666666666666,
             "#ed7953"
            ],
            [
             0.7777777777777778,
             "#fb9f3a"
            ],
            [
             0.8888888888888888,
             "#fdca26"
            ],
            [
             1,
             "#f0f921"
            ]
           ],
           "sequentialminus": [
            [
             0,
             "#0d0887"
            ],
            [
             0.1111111111111111,
             "#46039f"
            ],
            [
             0.2222222222222222,
             "#7201a8"
            ],
            [
             0.3333333333333333,
             "#9c179e"
            ],
            [
             0.4444444444444444,
             "#bd3786"
            ],
            [
             0.5555555555555556,
             "#d8576b"
            ],
            [
             0.6666666666666666,
             "#ed7953"
            ],
            [
             0.7777777777777778,
             "#fb9f3a"
            ],
            [
             0.8888888888888888,
             "#fdca26"
            ],
            [
             1,
             "#f0f921"
            ]
           ]
          },
          "colorway": [
           "#636efa",
           "#EF553B",
           "#00cc96",
           "#ab63fa",
           "#FFA15A",
           "#19d3f3",
           "#FF6692",
           "#B6E880",
           "#FF97FF",
           "#FECB52"
          ],
          "font": {
           "color": "#2a3f5f"
          },
          "geo": {
           "bgcolor": "white",
           "lakecolor": "white",
           "landcolor": "#E5ECF6",
           "showlakes": true,
           "showland": true,
           "subunitcolor": "white"
          },
          "hoverlabel": {
           "align": "left"
          },
          "hovermode": "closest",
          "mapbox": {
           "style": "light"
          },
          "paper_bgcolor": "white",
          "plot_bgcolor": "#E5ECF6",
          "polar": {
           "angularaxis": {
            "gridcolor": "white",
            "linecolor": "white",
            "ticks": ""
           },
           "bgcolor": "#E5ECF6",
           "radialaxis": {
            "gridcolor": "white",
            "linecolor": "white",
            "ticks": ""
           }
          },
          "scene": {
           "xaxis": {
            "backgroundcolor": "#E5ECF6",
            "gridcolor": "white",
            "gridwidth": 2,
            "linecolor": "white",
            "showbackground": true,
            "ticks": "",
            "zerolinecolor": "white"
           },
           "yaxis": {
            "backgroundcolor": "#E5ECF6",
            "gridcolor": "white",
            "gridwidth": 2,
            "linecolor": "white",
            "showbackground": true,
            "ticks": "",
            "zerolinecolor": "white"
           },
           "zaxis": {
            "backgroundcolor": "#E5ECF6",
            "gridcolor": "white",
            "gridwidth": 2,
            "linecolor": "white",
            "showbackground": true,
            "ticks": "",
            "zerolinecolor": "white"
           }
          },
          "shapedefaults": {
           "line": {
            "color": "#2a3f5f"
           }
          },
          "ternary": {
           "aaxis": {
            "gridcolor": "white",
            "linecolor": "white",
            "ticks": ""
           },
           "baxis": {
            "gridcolor": "white",
            "linecolor": "white",
            "ticks": ""
           },
           "bgcolor": "#E5ECF6",
           "caxis": {
            "gridcolor": "white",
            "linecolor": "white",
            "ticks": ""
           }
          },
          "title": {
           "x": 0.05
          },
          "xaxis": {
           "automargin": true,
           "gridcolor": "white",
           "linecolor": "white",
           "ticks": "",
           "title": {
            "standoff": 15
           },
           "zerolinecolor": "white",
           "zerolinewidth": 2
          },
          "yaxis": {
           "automargin": true,
           "gridcolor": "white",
           "linecolor": "white",
           "ticks": "",
           "title": {
            "standoff": 15
           },
           "zerolinecolor": "white",
           "zerolinewidth": 2
          }
         }
        },
        "xaxis": {
         "anchor": "y",
         "domain": [
          0,
          0.31999999999999995
         ],
         "title": {
          "text": "value"
         }
        },
        "xaxis2": {
         "anchor": "y2",
         "domain": [
          0.33999999999999997,
          0.6599999999999999
         ],
         "matches": "x",
         "title": {
          "text": "value"
         }
        },
        "xaxis3": {
         "anchor": "y3",
         "domain": [
          0.6799999999999999,
          0.9999999999999999
         ],
         "matches": "x",
         "title": {
          "text": "value"
         }
        },
        "yaxis": {
         "anchor": "x",
         "domain": [
          0,
          1
         ],
         "title": {
          "text": "probability"
         }
        },
        "yaxis2": {
         "anchor": "x2",
         "domain": [
          0,
          1
         ],
         "matches": "y",
         "showticklabels": false
        },
        "yaxis3": {
         "anchor": "x3",
         "domain": [
          0,
          1
         ],
         "matches": "y",
         "showticklabels": false
        }
       }
      }
     },
     "metadata": {},
     "output_type": "display_data"
    }
   ],
   "source": [
    "\n",
    "samples = 500\n",
    "density = 0.5\n",
    "model.eval()\n",
    "\n",
    "rec = model.sample(samples,density,device=device)\n",
    "df = pd.DataFrame(rec.detach().to('cpu').numpy(),columns=['x','y','z'])\n",
    "fig = px.scatter_3d(df,x='x',y='y',z='z')\n",
    "fig.show()\n",
    "fig = px.histogram(df,facet_col='variable',histnorm='probability',nbins=100)\n",
    "fig.show()"
   ]
  },
  {
   "cell_type": "code",
   "execution_count": 90,
   "metadata": {},
   "outputs": [
    {
     "data": {
      "application/vnd.plotly.v1+json": {
       "config": {
        "plotlyServerURL": "https://plot.ly"
       },
       "data": [
        {
         "hovertemplate": "x=%{x}<br>y=%{y}<br>z=%{z}<extra></extra>",
         "legendgroup": "",
         "marker": {
          "color": "#636efa",
          "symbol": "circle"
         },
         "mode": "markers",
         "name": "",
         "scene": "scene",
         "showlegend": false,
         "type": "scatter3d",
         "x": {
          "bdata": "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",
          "dtype": "f4"
         },
         "y": {
          "bdata": "Y+QAP6UKAT8GG/4+T+n2PuOXAD+iaQI/8jvsPquWAT/El+8+P/f/PnBRAj8wmQQ/aPn4PqQY9D4mbOs+uJwBPwgI+z4ORO8+PaT/PvQd+D672AA/86L/Pte3+j7rYAM/pdkCP7Os/D5kqPY+UroCP5BCCD+G1/k+6KHsPsQkAT/USfo+mdL9PoVoCj8n+QY/+qDgPr5H8z4bH+A+LCUCP0mK+D7dxO8+9CvcPnJu4j4yf/0+prfrPrvfCj94vPY+HnoCP068+D4WnQU/a8noPgkcAz/vIAA/YpD3PjyL+T65KA0/7Ov7PjID8j7LOPE+vTkBP2wH/D6G+Qk/2msAP+TL9T6I7wA/FFEGPx0eBT9VygM/AIzyPhWmAD+KQP0+CLH1Pke0BT93OwY/nKXsPoKQAj+MTwU/g3IBP1yr8z7QSOg+gxv/PnKlBz8W3Pw+ol8EP7c67z7YWPs+737+Pqh7+j6cU/I+/lTkPuesBj/WygA/IacBP/hd9z5tbQA/CiwDP8Qt+z7WM/U+6BL7PizPAj+prO4+R3oCP97GyD4VRwQ/gzwAP53KCT8pkQA/yH3xPmKnBD9qjuk+GTb1PmID/j4X1v0+0Uv8Pvg6BT/qYgA//ezpPuYpBD9oouw+rd4BPzat/j65GQg/KawBP4WO8j54VwM/BFTwPnb77j7yXOo+AVf8Pr5mCT8h1fw+t1bzPiueAD+xPQM/yt/qPghe+z5mTfU+aib7PqGeAD98VPY+xLDjPibWCT8WmfE+OhfzPhJ84z5sTwA/Ojz4PtK98T4S0QI/2lHoPgBjBT8zf/k+gmv0Ph89BD8ydwg/uIP3PsU88j7SL+A+Gh7sPsBrAD84oAU/3mQDPzFFAD9EMAk/s3gFP0Ws+z4JG/U+DiP0PrNWAz+Gv/0+bgb5Pjgb9j5VrgE/0Lz6Pjn/+z4pgAg/NCEFP0H4DD/IGQc/yhH9Pu5GCD+63As/VaYEP95PBj8M/v8+PPICPxhl/D6e5e4+dkH8PqZI7T54qfk+uoQAP3w7AD8uduM+7UUDPzIK/z7UZwA/Swv+PgQ2/z7aRPw+mCT2PqF05T4h8+w+KgrnPuxb7T50xvw+6r74Pn7gAj/+Fe8+O+j4PjIK+T41kvc+JlLyPgPq5T6x9wM/RRn8Prrj7z7jXPQ+JqvxPvAc9D5ScOo+LsIHPwMh9T6ine8+cWMSP717Az807vw+uvL8PgeY+D7C0wo/tIAHP7323D4IRvM+5rH4Phwi8z4diPE+NvX6Pvqp9j6ko/0+7FsDP5bqAj9Tqus+YWwKP3pQ7T4gAvI+osLlPskP7j7zlwk/vpUCPwnpCD84GgI/xjXsPjdv+D7h1vc+gN31PiE08T56W/s+6t3oPkrEAD/RLvI+IJUBP2OF5z5ogv4+oHbpPlBL9D5MmvU+/rICP67AAD9TEgA/jEb/PqZF8j54IfQ+vu72PpSj+j76Sv0+Jkn+Pugw/D5I4u0+NQ0BPzbr+D46L+U+FckFP/WfAD8yA/4+cob0PiP++z5kBfs+mKkEPyWZ8z7eLfM+gqvmPr29Az+IW/0+FkX5PiD16j65EgI/G3kDPx4p+z4srfU+C/kCP/LqAz/Jn/s+Jin4Phhw7T670Ps+xFwKP9ZK7T4affk+BJz5PgZ5+D48fAU/VIr6PgE69j5KMe0+WxMAP8gEBD8rWwM/gJgEP/WoBT9ATQY/0EX3Pj+aAj/Co/s+sbwCP4S17j50PQI/Hl0FP9b99j5qvvU+vc/0PgVsBD/Kp/E+EF36PsHR3j6R0AQ/Y/UGP5kuBD/CDvg+uqX0PnJpAj+9+fk+fBj1Phnf8z7eG/g+QzgBP2bdBj9gxvs+fUTuPqSS9j7FjQo/JJ33PngQ9T6vRgU/gkH/PrW5CT/aNgA/21sAP9aM9j7VVQM/XjsCP/R0/D47m/I+HXT/Ptw5Bj/UKvs+h/0MPwg48z7odfU+8b4CP3Ly8z6ajf0+RAwCP/yg+j56c/Y+KtEBPzfmAj+/hwE/kLb+PiESAj8lMvk+lnDzPp5R9z6OBAA/M532PtTf/z4Mbvg+kJ0AP0Vs/j6s3fQ+eXwCPzlQ/j66ewI/3ln6Pv1i9T4+ov0+ZHj6Pmsc9T5UkuQ+57kDP1RE+z5Due8+PNrzPu7P8z4EvAQ/4CTcPtCK6z5G9gM/2jrwPn12AT++XeE+MPjoPuBY9D6CX/k+1FkIP8Jt3j5ost4+p2kGP6r++j7luck+tpABP/98BD/iqAE/+P37PvAs7z40uAc/FX4AP7r3AT/gQgI/cIj2PqaL+z5eUgI/fsv7PpQH9z4pf/k+Su4BPwZZCT9yQe4+v5cAP/zL+z5S4+w+EJMFPyM5Az9LhPc+0MPkPozb9T4Qr/U+zZL8PoLpBT93IfU+TSYGP5A0Bj/mv/8+MhsCP/0I8T4zowY/+mj4PvxCAj9JeQQ/LoL5PlyK7j5Kcf4+nGIHP/5W+z5d8P0+rloFP4T9AT/h6AY/cjICP+wZDj8mpv4+ucXxPi41/T46B/w+Ehb+PrlLAj9m1dw++t3uPqZwFz9BlPg+XjUAP1s6BT+LvP8+Yqr5PkvUBj8BlQM/07z1Puq09z4TtPY+BwkHP+xvAz/MyAM/xKf3PvDh/j7PCAM/n/D0PoeKBz89Of4+IesDP/UNAD8=",
          "dtype": "f4"
         },
         "z": {
          "bdata": "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",
          "dtype": "f4"
         }
        }
       ],
       "layout": {
        "legend": {
         "tracegroupgap": 0
        },
        "margin": {
         "t": 60
        },
        "scene": {
         "domain": {
          "x": [
           0,
           1
          ],
          "y": [
           0,
           1
          ]
         },
         "xaxis": {
          "title": {
           "text": "x"
          }
         },
         "yaxis": {
          "title": {
           "text": "y"
          }
         },
         "zaxis": {
          "title": {
           "text": "z"
          }
         }
        },
        "template": {
         "data": {
          "bar": [
           {
            "error_x": {
             "color": "#2a3f5f"
            },
            "error_y": {
             "color": "#2a3f5f"
            },
            "marker": {
             "line": {
              "color": "#E5ECF6",
              "width": 0.5
             },
             "pattern": {
              "fillmode": "overlay",
              "size": 10,
              "solidity": 0.2
             }
            },
            "type": "bar"
           }
          ],
          "barpolar": [
           {
            "marker": {
             "line": {
              "color": "#E5ECF6",
              "width": 0.5
             },
             "pattern": {
              "fillmode": "overlay",
              "size": 10,
              "solidity": 0.2
             }
            },
            "type": "barpolar"
           }
          ],
          "carpet": [
           {
            "aaxis": {
             "endlinecolor": "#2a3f5f",
             "gridcolor": "white",
             "linecolor": "white",
             "minorgridcolor": "white",
             "startlinecolor": "#2a3f5f"
            },
            "baxis": {
             "endlinecolor": "#2a3f5f",
             "gridcolor": "white",
             "linecolor": "white",
             "minorgridcolor": "white",
             "startlinecolor": "#2a3f5f"
            },
            "type": "carpet"
           }
          ],
          "choropleth": [
           {
            "colorbar": {
             "outlinewidth": 0,
             "ticks": ""
            },
            "type": "choropleth"
           }
          ],
          "contour": [
           {
            "colorbar": {
             "outlinewidth": 0,
             "ticks": ""
            },
            "colorscale": [
             [
              0,
              "#0d0887"
             ],
             [
              0.1111111111111111,
              "#46039f"
             ],
             [
              0.2222222222222222,
              "#7201a8"
             ],
             [
              0.3333333333333333,
              "#9c179e"
             ],
             [
              0.4444444444444444,
              "#bd3786"
             ],
             [
              0.5555555555555556,
              "#d8576b"
             ],
             [
              0.6666666666666666,
              "#ed7953"
             ],
             [
              0.7777777777777778,
              "#fb9f3a"
             ],
             [
              0.8888888888888888,
              "#fdca26"
             ],
             [
              1,
              "#f0f921"
             ]
            ],
            "type": "contour"
           }
          ],
          "contourcarpet": [
           {
            "colorbar": {
             "outlinewidth": 0,
             "ticks": ""
            },
            "type": "contourcarpet"
           }
          ],
          "heatmap": [
           {
            "colorbar": {
             "outlinewidth": 0,
             "ticks": ""
            },
            "colorscale": [
             [
              0,
              "#0d0887"
             ],
             [
              0.1111111111111111,
              "#46039f"
             ],
             [
              0.2222222222222222,
              "#7201a8"
             ],
             [
              0.3333333333333333,
              "#9c179e"
             ],
             [
              0.4444444444444444,
              "#bd3786"
             ],
             [
              0.5555555555555556,
              "#d8576b"
             ],
             [
              0.6666666666666666,
              "#ed7953"
             ],
             [
              0.7777777777777778,
              "#fb9f3a"
             ],
             [
              0.8888888888888888,
              "#fdca26"
             ],
             [
              1,
              "#f0f921"
             ]
            ],
            "type": "heatmap"
           }
          ],
          "histogram": [
           {
            "marker": {
             "pattern": {
              "fillmode": "overlay",
              "size": 10,
              "solidity": 0.2
             }
            },
            "type": "histogram"
           }
          ],
          "histogram2d": [
           {
            "colorbar": {
             "outlinewidth": 0,
             "ticks": ""
            },
            "colorscale": [
             [
              0,
              "#0d0887"
             ],
             [
              0.1111111111111111,
              "#46039f"
             ],
             [
              0.2222222222222222,
              "#7201a8"
             ],
             [
              0.3333333333333333,
              "#9c179e"
             ],
             [
              0.4444444444444444,
              "#bd3786"
             ],
             [
              0.5555555555555556,
              "#d8576b"
             ],
             [
              0.6666666666666666,
              "#ed7953"
             ],
             [
              0.7777777777777778,
              "#fb9f3a"
             ],
             [
              0.8888888888888888,
              "#fdca26"
             ],
             [
              1,
              "#f0f921"
             ]
            ],
            "type": "histogram2d"
           }
          ],
          "histogram2dcontour": [
           {
            "colorbar": {
             "outlinewidth": 0,
             "ticks": ""
            },
            "colorscale": [
             [
              0,
              "#0d0887"
             ],
             [
              0.1111111111111111,
              "#46039f"
             ],
             [
              0.2222222222222222,
              "#7201a8"
             ],
             [
              0.3333333333333333,
              "#9c179e"
             ],
             [
              0.4444444444444444,
              "#bd3786"
             ],
             [
              0.5555555555555556,
              "#d8576b"
             ],
             [
              0.6666666666666666,
              "#ed7953"
             ],
             [
              0.7777777777777778,
              "#fb9f3a"
             ],
             [
              0.8888888888888888,
              "#fdca26"
             ],
             [
              1,
              "#f0f921"
             ]
            ],
            "type": "histogram2dcontour"
           }
          ],
          "mesh3d": [
           {
            "colorbar": {
             "outlinewidth": 0,
             "ticks": ""
            },
            "type": "mesh3d"
           }
          ],
          "parcoords": [
           {
            "line": {
             "colorbar": {
              "outlinewidth": 0,
              "ticks": ""
             }
            },
            "type": "parcoords"
           }
          ],
          "pie": [
           {
            "automargin": true,
            "type": "pie"
           }
          ],
          "scatter": [
           {
            "fillpattern": {
             "fillmode": "overlay",
             "size": 10,
             "solidity": 0.2
            },
            "type": "scatter"
           }
          ],
          "scatter3d": [
           {
            "line": {
             "colorbar": {
              "outlinewidth": 0,
              "ticks": ""
             }
            },
            "marker": {
             "colorbar": {
              "outlinewidth": 0,
              "ticks": ""
             }
            },
            "type": "scatter3d"
           }
          ],
          "scattercarpet": [
           {
            "marker": {
             "colorbar": {
              "outlinewidth": 0,
              "ticks": ""
             }
            },
            "type": "scattercarpet"
           }
          ],
          "scattergeo": [
           {
            "marker": {
             "colorbar": {
              "outlinewidth": 0,
              "ticks": ""
             }
            },
            "type": "scattergeo"
           }
          ],
          "scattergl": [
           {
            "marker": {
             "colorbar": {
              "outlinewidth": 0,
              "ticks": ""
             }
            },
            "type": "scattergl"
           }
          ],
          "scattermap": [
           {
            "marker": {
             "colorbar": {
              "outlinewidth": 0,
              "ticks": ""
             }
            },
            "type": "scattermap"
           }
          ],
          "scattermapbox": [
           {
            "marker": {
             "colorbar": {
              "outlinewidth": 0,
              "ticks": ""
             }
            },
            "type": "scattermapbox"
           }
          ],
          "scatterpolar": [
           {
            "marker": {
             "colorbar": {
              "outlinewidth": 0,
              "ticks": ""
             }
            },
            "type": "scatterpolar"
           }
          ],
          "scatterpolargl": [
           {
            "marker": {
             "colorbar": {
              "outlinewidth": 0,
              "ticks": ""
             }
            },
            "type": "scatterpolargl"
           }
          ],
          "scatterternary": [
           {
            "marker": {
             "colorbar": {
              "outlinewidth": 0,
              "ticks": ""
             }
            },
            "type": "scatterternary"
           }
          ],
          "surface": [
           {
            "colorbar": {
             "outlinewidth": 0,
             "ticks": ""
            },
            "colorscale": [
             [
              0,
              "#0d0887"
             ],
             [
              0.1111111111111111,
              "#46039f"
             ],
             [
              0.2222222222222222,
              "#7201a8"
             ],
             [
              0.3333333333333333,
              "#9c179e"
             ],
             [
              0.4444444444444444,
              "#bd3786"
             ],
             [
              0.5555555555555556,
              "#d8576b"
             ],
             [
              0.6666666666666666,
              "#ed7953"
             ],
             [
              0.7777777777777778,
              "#fb9f3a"
             ],
             [
              0.8888888888888888,
              "#fdca26"
             ],
             [
              1,
              "#f0f921"
             ]
            ],
            "type": "surface"
           }
          ],
          "table": [
           {
            "cells": {
             "fill": {
              "color": "#EBF0F8"
             },
             "line": {
              "color": "white"
             }
            },
            "header": {
             "fill": {
              "color": "#C8D4E3"
             },
             "line": {
              "color": "white"
             }
            },
            "type": "table"
           }
          ]
         },
         "layout": {
          "annotationdefaults": {
           "arrowcolor": "#2a3f5f",
           "arrowhead": 0,
           "arrowwidth": 1
          },
          "autotypenumbers": "strict",
          "coloraxis": {
           "colorbar": {
            "outlinewidth": 0,
            "ticks": ""
           }
          },
          "colorscale": {
           "diverging": [
            [
             0,
             "#8e0152"
            ],
            [
             0.1,
             "#c51b7d"
            ],
            [
             0.2,
             "#de77ae"
            ],
            [
             0.3,
             "#f1b6da"
            ],
            [
             0.4,
             "#fde0ef"
            ],
            [
             0.5,
             "#f7f7f7"
            ],
            [
             0.6,
             "#e6f5d0"
            ],
            [
             0.7,
             "#b8e186"
            ],
            [
             0.8,
             "#7fbc41"
            ],
            [
             0.9,
             "#4d9221"
            ],
            [
             1,
             "#276419"
            ]
           ],
           "sequential": [
            [
             0,
             "#0d0887"
            ],
            [
             0.1111111111111111,
             "#46039f"
            ],
            [
             0.2222222222222222,
             "#7201a8"
            ],
            [
             0.3333333333333333,
             "#9c179e"
            ],
            [
             0.4444444444444444,
             "#bd3786"
            ],
            [
             0.5555555555555556,
             "#d8576b"
            ],
            [
             0.6666666666666666,
             "#ed7953"
            ],
            [
             0.7777777777777778,
             "#fb9f3a"
            ],
            [
             0.8888888888888888,
             "#fdca26"
            ],
            [
             1,
             "#f0f921"
            ]
           ],
           "sequentialminus": [
            [
             0,
             "#0d0887"
            ],
            [
             0.1111111111111111,
             "#46039f"
            ],
            [
             0.2222222222222222,
             "#7201a8"
            ],
            [
             0.3333333333333333,
             "#9c179e"
            ],
            [
             0.4444444444444444,
             "#bd3786"
            ],
            [
             0.5555555555555556,
             "#d8576b"
            ],
            [
             0.6666666666666666,
             "#ed7953"
            ],
            [
             0.7777777777777778,
             "#fb9f3a"
            ],
            [
             0.8888888888888888,
             "#fdca26"
            ],
            [
             1,
             "#f0f921"
            ]
           ]
          },
          "colorway": [
           "#636efa",
           "#EF553B",
           "#00cc96",
           "#ab63fa",
           "#FFA15A",
           "#19d3f3",
           "#FF6692",
           "#B6E880",
           "#FF97FF",
           "#FECB52"
          ],
          "font": {
           "color": "#2a3f5f"
          },
          "geo": {
           "bgcolor": "white",
           "lakecolor": "white",
           "landcolor": "#E5ECF6",
           "showlakes": true,
           "showland": true,
           "subunitcolor": "white"
          },
          "hoverlabel": {
           "align": "left"
          },
          "hovermode": "closest",
          "mapbox": {
           "style": "light"
          },
          "paper_bgcolor": "white",
          "plot_bgcolor": "#E5ECF6",
          "polar": {
           "angularaxis": {
            "gridcolor": "white",
            "linecolor": "white",
            "ticks": ""
           },
           "bgcolor": "#E5ECF6",
           "radialaxis": {
            "gridcolor": "white",
            "linecolor": "white",
            "ticks": ""
           }
          },
          "scene": {
           "xaxis": {
            "backgroundcolor": "#E5ECF6",
            "gridcolor": "white",
            "gridwidth": 2,
            "linecolor": "white",
            "showbackground": true,
            "ticks": "",
            "zerolinecolor": "white"
           },
           "yaxis": {
            "backgroundcolor": "#E5ECF6",
            "gridcolor": "white",
            "gridwidth": 2,
            "linecolor": "white",
            "showbackground": true,
            "ticks": "",
            "zerolinecolor": "white"
           },
           "zaxis": {
            "backgroundcolor": "#E5ECF6",
            "gridcolor": "white",
            "gridwidth": 2,
            "linecolor": "white",
            "showbackground": true,
            "ticks": "",
            "zerolinecolor": "white"
           }
          },
          "shapedefaults": {
           "line": {
            "color": "#2a3f5f"
           }
          },
          "ternary": {
           "aaxis": {
            "gridcolor": "white",
            "linecolor": "white",
            "ticks": ""
           },
           "baxis": {
            "gridcolor": "white",
            "linecolor": "white",
            "ticks": ""
           },
           "bgcolor": "#E5ECF6",
           "caxis": {
            "gridcolor": "white",
            "linecolor": "white",
            "ticks": ""
           }
          },
          "title": {
           "x": 0.05
          },
          "xaxis": {
           "automargin": true,
           "gridcolor": "white",
           "linecolor": "white",
           "ticks": "",
           "title": {
            "standoff": 15
           },
           "zerolinecolor": "white",
           "zerolinewidth": 2
          },
          "yaxis": {
           "automargin": true,
           "gridcolor": "white",
           "linecolor": "white",
           "ticks": "",
           "title": {
            "standoff": 15
           },
           "zerolinecolor": "white",
           "zerolinewidth": 2
          }
         }
        }
       }
      }
     },
     "metadata": {},
     "output_type": "display_data"
    },
    {
     "data": {
      "application/vnd.plotly.v1+json": {
       "config": {
        "plotlyServerURL": "https://plot.ly"
       },
       "data": [
        {
         "bingroup": "x",
         "histnorm": "probability",
         "hovertemplate": "variable=x<br>value=%{x}<br>probability=%{y}<extra></extra>",
         "legendgroup": "x",
         "marker": {
          "color": "#636efa",
          "pattern": {
           "shape": ""
          }
         },
         "name": "x",
         "nbinsx": 100,
         "orientation": "v",
         "showlegend": true,
         "type": "histogram",
         "x": {
          "bdata": "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",
          "dtype": "f4"
         },
         "xaxis": "x",
         "yaxis": "y"
        },
        {
         "bingroup": "x",
         "histnorm": "probability",
         "hovertemplate": "variable=y<br>value=%{x}<br>probability=%{y}<extra></extra>",
         "legendgroup": "y",
         "marker": {
          "color": "#EF553B",
          "pattern": {
           "shape": ""
          }
         },
         "name": "y",
         "nbinsx": 100,
         "orientation": "v",
         "showlegend": true,
         "type": "histogram",
         "x": {
          "bdata": "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",
          "dtype": "f4"
         },
         "xaxis": "x2",
         "yaxis": "y2"
        },
        {
         "bingroup": "x",
         "histnorm": "probability",
         "hovertemplate": "variable=z<br>value=%{x}<br>probability=%{y}<extra></extra>",
         "legendgroup": "z",
         "marker": {
          "color": "#00cc96",
          "pattern": {
           "shape": ""
          }
         },
         "name": "z",
         "nbinsx": 100,
         "orientation": "v",
         "showlegend": true,
         "type": "histogram",
         "x": {
          "bdata": "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",
          "dtype": "f4"
         },
         "xaxis": "x3",
         "yaxis": "y3"
        }
       ],
       "layout": {
        "annotations": [
         {
          "font": {},
          "showarrow": false,
          "text": "variable=x",
          "x": 0.15999999999999998,
          "xanchor": "center",
          "xref": "paper",
          "y": 1,
          "yanchor": "bottom",
          "yref": "paper"
         },
         {
          "font": {},
          "showarrow": false,
          "text": "variable=y",
          "x": 0.49999999999999994,
          "xanchor": "center",
          "xref": "paper",
          "y": 1,
          "yanchor": "bottom",
          "yref": "paper"
         },
         {
          "font": {},
          "showarrow": false,
          "text": "variable=z",
          "x": 0.8399999999999999,
          "xanchor": "center",
          "xref": "paper",
          "y": 1,
          "yanchor": "bottom",
          "yref": "paper"
         }
        ],
        "barmode": "relative",
        "legend": {
         "title": {
          "text": "variable"
         },
         "tracegroupgap": 0
        },
        "margin": {
         "t": 60
        },
        "template": {
         "data": {
          "bar": [
           {
            "error_x": {
             "color": "#2a3f5f"
            },
            "error_y": {
             "color": "#2a3f5f"
            },
            "marker": {
             "line": {
              "color": "#E5ECF6",
              "width": 0.5
             },
             "pattern": {
              "fillmode": "overlay",
              "size": 10,
              "solidity": 0.2
             }
            },
            "type": "bar"
           }
          ],
          "barpolar": [
           {
            "marker": {
             "line": {
              "color": "#E5ECF6",
              "width": 0.5
             },
             "pattern": {
              "fillmode": "overlay",
              "size": 10,
              "solidity": 0.2
             }
            },
            "type": "barpolar"
           }
          ],
          "carpet": [
           {
            "aaxis": {
             "endlinecolor": "#2a3f5f",
             "gridcolor": "white",
             "linecolor": "white",
             "minorgridcolor": "white",
             "startlinecolor": "#2a3f5f"
            },
            "baxis": {
             "endlinecolor": "#2a3f5f",
             "gridcolor": "white",
             "linecolor": "white",
             "minorgridcolor": "white",
             "startlinecolor": "#2a3f5f"
            },
            "type": "carpet"
           }
          ],
          "choropleth": [
           {
            "colorbar": {
             "outlinewidth": 0,
             "ticks": ""
            },
            "type": "choropleth"
           }
          ],
          "contour": [
           {
            "colorbar": {
             "outlinewidth": 0,
             "ticks": ""
            },
            "colorscale": [
             [
              0,
              "#0d0887"
             ],
             [
              0.1111111111111111,
              "#46039f"
             ],
             [
              0.2222222222222222,
              "#7201a8"
             ],
             [
              0.3333333333333333,
              "#9c179e"
             ],
             [
              0.4444444444444444,
              "#bd3786"
             ],
             [
              0.5555555555555556,
              "#d8576b"
             ],
             [
              0.6666666666666666,
              "#ed7953"
             ],
             [
              0.7777777777777778,
              "#fb9f3a"
             ],
             [
              0.8888888888888888,
              "#fdca26"
             ],
             [
              1,
              "#f0f921"
             ]
            ],
            "type": "contour"
           }
          ],
          "contourcarpet": [
           {
            "colorbar": {
             "outlinewidth": 0,
             "ticks": ""
            },
            "type": "contourcarpet"
           }
          ],
          "heatmap": [
           {
            "colorbar": {
             "outlinewidth": 0,
             "ticks": ""
            },
            "colorscale": [
             [
              0,
              "#0d0887"
             ],
             [
              0.1111111111111111,
              "#46039f"
             ],
             [
              0.2222222222222222,
              "#7201a8"
             ],
             [
              0.3333333333333333,
              "#9c179e"
             ],
             [
              0.4444444444444444,
              "#bd3786"
             ],
             [
              0.5555555555555556,
              "#d8576b"
             ],
             [
              0.6666666666666666,
              "#ed7953"
             ],
             [
              0.7777777777777778,
              "#fb9f3a"
             ],
             [
              0.8888888888888888,
              "#fdca26"
             ],
             [
              1,
              "#f0f921"
             ]
            ],
            "type": "heatmap"
           }
          ],
          "histogram": [
           {
            "marker": {
             "pattern": {
              "fillmode": "overlay",
              "size": 10,
              "solidity": 0.2
             }
            },
            "type": "histogram"
           }
          ],
          "histogram2d": [
           {
            "colorbar": {
             "outlinewidth": 0,
             "ticks": ""
            },
            "colorscale": [
             [
              0,
              "#0d0887"
             ],
             [
              0.1111111111111111,
              "#46039f"
             ],
             [
              0.2222222222222222,
              "#7201a8"
             ],
             [
              0.3333333333333333,
              "#9c179e"
             ],
             [
              0.4444444444444444,
              "#bd3786"
             ],
             [
              0.5555555555555556,
              "#d8576b"
             ],
             [
              0.6666666666666666,
              "#ed7953"
             ],
             [
              0.7777777777777778,
              "#fb9f3a"
             ],
             [
              0.8888888888888888,
              "#fdca26"
             ],
             [
              1,
              "#f0f921"
             ]
            ],
            "type": "histogram2d"
           }
          ],
          "histogram2dcontour": [
           {
            "colorbar": {
             "outlinewidth": 0,
             "ticks": ""
            },
            "colorscale": [
             [
              0,
              "#0d0887"
             ],
             [
              0.1111111111111111,
              "#46039f"
             ],
             [
              0.2222222222222222,
              "#7201a8"
             ],
             [
              0.3333333333333333,
              "#9c179e"
             ],
             [
              0.4444444444444444,
              "#bd3786"
             ],
             [
              0.5555555555555556,
              "#d8576b"
             ],
             [
              0.6666666666666666,
              "#ed7953"
             ],
             [
              0.7777777777777778,
              "#fb9f3a"
             ],
             [
              0.8888888888888888,
              "#fdca26"
             ],
             [
              1,
              "#f0f921"
             ]
            ],
            "type": "histogram2dcontour"
           }
          ],
          "mesh3d": [
           {
            "colorbar": {
             "outlinewidth": 0,
             "ticks": ""
            },
            "type": "mesh3d"
           }
          ],
          "parcoords": [
           {
            "line": {
             "colorbar": {
              "outlinewidth": 0,
              "ticks": ""
             }
            },
            "type": "parcoords"
           }
          ],
          "pie": [
           {
            "automargin": true,
            "type": "pie"
           }
          ],
          "scatter": [
           {
            "fillpattern": {
             "fillmode": "overlay",
             "size": 10,
             "solidity": 0.2
            },
            "type": "scatter"
           }
          ],
          "scatter3d": [
           {
            "line": {
             "colorbar": {
              "outlinewidth": 0,
              "ticks": ""
             }
            },
            "marker": {
             "colorbar": {
              "outlinewidth": 0,
              "ticks": ""
             }
            },
            "type": "scatter3d"
           }
          ],
          "scattercarpet": [
           {
            "marker": {
             "colorbar": {
              "outlinewidth": 0,
              "ticks": ""
             }
            },
            "type": "scattercarpet"
           }
          ],
          "scattergeo": [
           {
            "marker": {
             "colorbar": {
              "outlinewidth": 0,
              "ticks": ""
             }
            },
            "type": "scattergeo"
           }
          ],
          "scattergl": [
           {
            "marker": {
             "colorbar": {
              "outlinewidth": 0,
              "ticks": ""
             }
            },
            "type": "scattergl"
           }
          ],
          "scattermap": [
           {
            "marker": {
             "colorbar": {
              "outlinewidth": 0,
              "ticks": ""
             }
            },
            "type": "scattermap"
           }
          ],
          "scattermapbox": [
           {
            "marker": {
             "colorbar": {
              "outlinewidth": 0,
              "ticks": ""
             }
            },
            "type": "scattermapbox"
           }
          ],
          "scatterpolar": [
           {
            "marker": {
             "colorbar": {
              "outlinewidth": 0,
              "ticks": ""
             }
            },
            "type": "scatterpolar"
           }
          ],
          "scatterpolargl": [
           {
            "marker": {
             "colorbar": {
              "outlinewidth": 0,
              "ticks": ""
             }
            },
            "type": "scatterpolargl"
           }
          ],
          "scatterternary": [
           {
            "marker": {
             "colorbar": {
              "outlinewidth": 0,
              "ticks": ""
             }
            },
            "type": "scatterternary"
           }
          ],
          "surface": [
           {
            "colorbar": {
             "outlinewidth": 0,
             "ticks": ""
            },
            "colorscale": [
             [
              0,
              "#0d0887"
             ],
             [
              0.1111111111111111,
              "#46039f"
             ],
             [
              0.2222222222222222,
              "#7201a8"
             ],
             [
              0.3333333333333333,
              "#9c179e"
             ],
             [
              0.4444444444444444,
              "#bd3786"
             ],
             [
              0.5555555555555556,
              "#d8576b"
             ],
             [
              0.6666666666666666,
              "#ed7953"
             ],
             [
              0.7777777777777778,
              "#fb9f3a"
             ],
             [
              0.8888888888888888,
              "#fdca26"
             ],
             [
              1,
              "#f0f921"
             ]
            ],
            "type": "surface"
           }
          ],
          "table": [
           {
            "cells": {
             "fill": {
              "color": "#EBF0F8"
             },
             "line": {
              "color": "white"
             }
            },
            "header": {
             "fill": {
              "color": "#C8D4E3"
             },
             "line": {
              "color": "white"
             }
            },
            "type": "table"
           }
          ]
         },
         "layout": {
          "annotationdefaults": {
           "arrowcolor": "#2a3f5f",
           "arrowhead": 0,
           "arrowwidth": 1
          },
          "autotypenumbers": "strict",
          "coloraxis": {
           "colorbar": {
            "outlinewidth": 0,
            "ticks": ""
           }
          },
          "colorscale": {
           "diverging": [
            [
             0,
             "#8e0152"
            ],
            [
             0.1,
             "#c51b7d"
            ],
            [
             0.2,
             "#de77ae"
            ],
            [
             0.3,
             "#f1b6da"
            ],
            [
             0.4,
             "#fde0ef"
            ],
            [
             0.5,
             "#f7f7f7"
            ],
            [
             0.6,
             "#e6f5d0"
            ],
            [
             0.7,
             "#b8e186"
            ],
            [
             0.8,
             "#7fbc41"
            ],
            [
             0.9,
             "#4d9221"
            ],
            [
             1,
             "#276419"
            ]
           ],
           "sequential": [
            [
             0,
             "#0d0887"
            ],
            [
             0.1111111111111111,
             "#46039f"
            ],
            [
             0.2222222222222222,
             "#7201a8"
            ],
            [
             0.3333333333333333,
             "#9c179e"
            ],
            [
             0.4444444444444444,
             "#bd3786"
            ],
            [
             0.5555555555555556,
             "#d8576b"
            ],
            [
             0.6666666666666666,
             "#ed7953"
            ],
            [
             0.7777777777777778,
             "#fb9f3a"
            ],
            [
             0.8888888888888888,
             "#fdca26"
            ],
            [
             1,
             "#f0f921"
            ]
           ],
           "sequentialminus": [
            [
             0,
             "#0d0887"
            ],
            [
             0.1111111111111111,
             "#46039f"
            ],
            [
             0.2222222222222222,
             "#7201a8"
            ],
            [
             0.3333333333333333,
             "#9c179e"
            ],
            [
             0.4444444444444444,
             "#bd3786"
            ],
            [
             0.5555555555555556,
             "#d8576b"
            ],
            [
             0.6666666666666666,
             "#ed7953"
            ],
            [
             0.7777777777777778,
             "#fb9f3a"
            ],
            [
             0.8888888888888888,
             "#fdca26"
            ],
            [
             1,
             "#f0f921"
            ]
           ]
          },
          "colorway": [
           "#636efa",
           "#EF553B",
           "#00cc96",
           "#ab63fa",
           "#FFA15A",
           "#19d3f3",
           "#FF6692",
           "#B6E880",
           "#FF97FF",
           "#FECB52"
          ],
          "font": {
           "color": "#2a3f5f"
          },
          "geo": {
           "bgcolor": "white",
           "lakecolor": "white",
           "landcolor": "#E5ECF6",
           "showlakes": true,
           "showland": true,
           "subunitcolor": "white"
          },
          "hoverlabel": {
           "align": "left"
          },
          "hovermode": "closest",
          "mapbox": {
           "style": "light"
          },
          "paper_bgcolor": "white",
          "plot_bgcolor": "#E5ECF6",
          "polar": {
           "angularaxis": {
            "gridcolor": "white",
            "linecolor": "white",
            "ticks": ""
           },
           "bgcolor": "#E5ECF6",
           "radialaxis": {
            "gridcolor": "white",
            "linecolor": "white",
            "ticks": ""
           }
          },
          "scene": {
           "xaxis": {
            "backgroundcolor": "#E5ECF6",
            "gridcolor": "white",
            "gridwidth": 2,
            "linecolor": "white",
            "showbackground": true,
            "ticks": "",
            "zerolinecolor": "white"
           },
           "yaxis": {
            "backgroundcolor": "#E5ECF6",
            "gridcolor": "white",
            "gridwidth": 2,
            "linecolor": "white",
            "showbackground": true,
            "ticks": "",
            "zerolinecolor": "white"
           },
           "zaxis": {
            "backgroundcolor": "#E5ECF6",
            "gridcolor": "white",
            "gridwidth": 2,
            "linecolor": "white",
            "showbackground": true,
            "ticks": "",
            "zerolinecolor": "white"
           }
          },
          "shapedefaults": {
           "line": {
            "color": "#2a3f5f"
           }
          },
          "ternary": {
           "aaxis": {
            "gridcolor": "white",
            "linecolor": "white",
            "ticks": ""
           },
           "baxis": {
            "gridcolor": "white",
            "linecolor": "white",
            "ticks": ""
           },
           "bgcolor": "#E5ECF6",
           "caxis": {
            "gridcolor": "white",
            "linecolor": "white",
            "ticks": ""
           }
          },
          "title": {
           "x": 0.05
          },
          "xaxis": {
           "automargin": true,
           "gridcolor": "white",
           "linecolor": "white",
           "ticks": "",
           "title": {
            "standoff": 15
           },
           "zerolinecolor": "white",
           "zerolinewidth": 2
          },
          "yaxis": {
           "automargin": true,
           "gridcolor": "white",
           "linecolor": "white",
           "ticks": "",
           "title": {
            "standoff": 15
           },
           "zerolinecolor": "white",
           "zerolinewidth": 2
          }
         }
        },
        "xaxis": {
         "anchor": "y",
         "domain": [
          0,
          0.31999999999999995
         ],
         "title": {
          "text": "value"
         }
        },
        "xaxis2": {
         "anchor": "y2",
         "domain": [
          0.33999999999999997,
          0.6599999999999999
         ],
         "matches": "x",
         "title": {
          "text": "value"
         }
        },
        "xaxis3": {
         "anchor": "y3",
         "domain": [
          0.6799999999999999,
          0.9999999999999999
         ],
         "matches": "x",
         "title": {
          "text": "value"
         }
        },
        "yaxis": {
         "anchor": "x",
         "domain": [
          0,
          1
         ],
         "title": {
          "text": "probability"
         }
        },
        "yaxis2": {
         "anchor": "x2",
         "domain": [
          0,
          1
         ],
         "matches": "y",
         "showticklabels": false
        },
        "yaxis3": {
         "anchor": "x3",
         "domain": [
          0,
          1
         ],
         "matches": "y",
         "showticklabels": false
        }
       }
      }
     },
     "metadata": {},
     "output_type": "display_data"
    }
   ],
   "source": [
    "samples = 500\n",
    "density = 0.8\n",
    "model.eval()\n",
    "\n",
    "rec = model.sample(samples,density,device=device)\n",
    "df = pd.DataFrame(rec.detach().to('cpu').numpy(),columns=['x','y','z'])\n",
    "fig = px.scatter_3d(df,x='x',y='y',z='z')\n",
    "fig.show()\n",
    "fig = px.histogram(df,facet_col='variable',histnorm='probability',nbins=100)\n",
    "fig.show()"
   ]
  },
  {
   "cell_type": "code",
   "execution_count": null,
   "metadata": {},
   "outputs": [],
   "source": []
  }
 ],
 "metadata": {
  "colab": {
   "authorship_tag": "ABX9TyPu6mAXAX36tAri1fom+JvV",
   "provenance": [
    {
     "file_id": "1Kc2aZZvLQha0Y4R3eNMnC0oT6dTpNpIz",
     "timestamp": 1741691477194
    }
   ]
  },
  "kernelspec": {
   "display_name": "pds_standard",
   "language": "python",
   "name": "python3"
  },
  "language_info": {
   "codemirror_mode": {
    "name": "ipython",
    "version": 3
   },
   "file_extension": ".py",
   "mimetype": "text/x-python",
   "name": "python",
   "nbconvert_exporter": "python",
   "pygments_lexer": "ipython3",
   "version": "3.12.9"
  }
 },
 "nbformat": 4,
 "nbformat_minor": 0
}
