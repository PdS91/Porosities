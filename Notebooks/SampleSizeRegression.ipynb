{
 "cells": [
  {
   "cell_type": "code",
   "execution_count": null,
   "metadata": {},
   "outputs": [],
   "source": [
    "import numpy as np\n",
    "import pandas as pd\n",
    "import matplotlib.pyplot as plt\n",
    "import seaborn as sns\n",
    "import plotly.express as px\n",
    "import os\n",
    "import re\n",
    "import torch\n",
    "from torch.utils.data import Dataset, random_split, DataLoader\n",
    "import numpy as np\n",
    "import os"
   ]
  },
  {
   "cell_type": "code",
   "execution_count": null,
   "metadata": {},
   "outputs": [],
   "source": [
    "path = '/gpfs/data/ssa/users/d602145/Workspace/scratch/Porosity/ETH/'\n",
    "os.chdir(path)"
   ]
  },
  {
   "cell_type": "code",
   "execution_count": null,
   "metadata": {},
   "outputs": [],
   "source": [
    "from Lib.Data import PorosityDistribution, extract_microstructures, extract_porosities_points\n",
    "from Lib.Datasets import  PorosityDataset"
   ]
  },
  {
   "cell_type": "code",
   "execution_count": null,
   "metadata": {},
   "outputs": [],
   "source": [
    "sample_path = os.getcwd()+'/Job_Assignment_Data/Job_Assignment_Data/'"
   ]
  },
  {
   "cell_type": "code",
   "execution_count": null,
   "metadata": {},
   "outputs": [],
   "source": [
    "extracted_porosities, density_set = extract_porosities_points(sample_path, keep_density_doubles=False)"
   ]
  },
  {
   "cell_type": "code",
   "execution_count": null,
   "metadata": {},
   "outputs": [],
   "source": [
    "df = extracted_porosities.groupby(by='density').count()"
   ]
  },
  {
   "cell_type": "code",
   "execution_count": null,
   "metadata": {},
   "outputs": [],
   "source": [
    "df.head()"
   ]
  },
  {
   "cell_type": "code",
   "execution_count": null,
   "metadata": {},
   "outputs": [],
   "source": [
    "px.scatter(df)"
   ]
  },
  {
   "cell_type": "code",
   "execution_count": null,
   "metadata": {},
   "outputs": [],
   "source": [
    "from sklearn.model_selection import train_test_split\n",
    "from sklearn.preprocessing import PolynomialFeatures,StandardScaler\n",
    "from sklearn.linear_model import LinearRegression"
   ]
  },
  {
   "cell_type": "code",
   "execution_count": null,
   "metadata": {},
   "outputs": [],
   "source": [
    "df['density'] = df.index"
   ]
  },
  {
   "cell_type": "code",
   "execution_count": null,
   "metadata": {},
   "outputs": [],
   "source": [
    "X = df['density'].values.reshape(-1,1)\n",
    "y = df['sample_number'].values.reshape(-1,1)"
   ]
  },
  {
   "cell_type": "code",
   "execution_count": null,
   "metadata": {},
   "outputs": [],
   "source": [
    "X_train, X_test, y_train, y_test = train_test_split(X,y,test_size=0.2)\n",
    "\n",
    "print(X_train.shape,X_test.shape,y_train.shape,y_test.shape)"
   ]
  },
  {
   "cell_type": "code",
   "execution_count": null,
   "metadata": {},
   "outputs": [],
   "source": [
    "st_scale = StandardScaler()\n",
    "y_train_sc = st_scale.fit_transform(y_train)\n",
    "y_test_sc = st_scale.transform(y_test)"
   ]
  },
  {
   "cell_type": "code",
   "execution_count": null,
   "metadata": {},
   "outputs": [],
   "source": [
    "poly = PolynomialFeatures(2)\n",
    "X_train_poly = poly.fit_transform(X_train)\n",
    "X_test_poly = poly.transform(X_test)"
   ]
  },
  {
   "cell_type": "code",
   "execution_count": null,
   "metadata": {},
   "outputs": [],
   "source": [
    "X_test_poly.shape"
   ]
  },
  {
   "cell_type": "code",
   "execution_count": null,
   "metadata": {},
   "outputs": [],
   "source": [
    "model = LinearRegression()\n",
    "\n",
    "model.fit(X_train_poly,y_train_sc)\n",
    "\n",
    "y_pred_test = model.predict(X_test_poly)\n",
    "y_pred_train = model.predict(X_train_poly)"
   ]
  },
  {
   "cell_type": "code",
   "execution_count": null,
   "metadata": {},
   "outputs": [],
   "source": [
    "y_pred_test = st_scale.inverse_transform(y_pred_test)\n",
    "y_test = st_scale.inverse_transform(y_test_sc)\n",
    "\n",
    "y_pred_test = y_pred_test.reshape(y_pred_test.shape[0])\n",
    "y_test = y_test.reshape(y_test.shape[0])\n",
    "\n",
    "y_pred_train = st_scale.inverse_transform(y_pred_train)\n",
    "y_train = st_scale.inverse_transform(y_train_sc)\n",
    "\n",
    "y_pred_train = y_pred_train.reshape(y_pred_train.shape[0])\n",
    "y_train = y_train.reshape(y_train.shape[0])\n",
    "\n",
    "X_train = X_train.reshape(X_train.shape[0])\n",
    "X_test = X_test.reshape(X_test.shape[0])"
   ]
  },
  {
   "cell_type": "code",
   "execution_count": null,
   "metadata": {},
   "outputs": [],
   "source": [
    "fig = px.scatter(x=y_pred_train, y=y_train,\n",
    "                 opacity=0.5,  # Set opacity for better visualization\n",
    "                 trendline=\"ols\",  # Add trendline using Ordinary Least Squares\n",
    "                 title=\"Regression Plot: Actual vs. Predicted Density\")\n",
    "\n",
    "# Add ideal line (y = x)\n",
    "x_range = np.linspace(min(y_test_sc), max(y_test_sc), 100)\n",
    "fig.add_scatter(x=x_range, y=x_range, mode='lines',\n",
    "                line=dict(color='red', dash='dash'),\n",
    "                name='Ideal Line (y = x)')\n",
    "\n",
    "fig.update_layout(\n",
    "    xaxis_title=\"Actual Density\",\n",
    "    yaxis_title=\"Predicted Density\"\n",
    ")\n",
    "\n",
    "fig.show()\n"
   ]
  },
  {
   "cell_type": "code",
   "execution_count": null,
   "metadata": {},
   "outputs": [],
   "source": [
    "fig = px.scatter(x=y_pred_test, y=y_test,\n",
    "                 opacity=0.5,  # Set opacity for better visualization\n",
    "                 trendline=\"ols\",  # Add trendline using Ordinary Least Squares\n",
    "                 title=\"Regression Plot: Actual vs. Predicted Density\")\n",
    "\n",
    "# Add ideal line (y = x)\n",
    "x_range = np.linspace(min(y_test_sc), max(y_test_sc), 100)\n",
    "fig.add_scatter(x=x_range, y=x_range, mode='lines',\n",
    "                line=dict(color='red', dash='dash'),\n",
    "                name='Ideal Line (y = x)')\n",
    "\n",
    "fig.update_layout(\n",
    "    xaxis_title=\"Actual Density\",\n",
    "    yaxis_title=\"Predicted Density\"\n",
    ")\n",
    "\n",
    "fig.show()"
   ]
  },
  {
   "cell_type": "code",
   "execution_count": null,
   "metadata": {},
   "outputs": [],
   "source": [
    "\n",
    "fig = px.scatter(x=X_train, y=y_train,\n",
    "                 opacity=0.5,  # Set opacity for better visualization\n",
    "                 title=\"Regression Plot: Actual vs. Predicted Density\")\n",
    "\n",
    "fig.add_scatter(x=X_test, y=y_test,\n",
    "                 opacity=0.5, mode='markers')  # Set opacity for better visualization)\n",
    "\n",
    "fig.show()"
   ]
  },
  {
   "cell_type": "code",
   "execution_count": null,
   "metadata": {},
   "outputs": [],
   "source": []
  }
 ],
 "metadata": {
  "kernelspec": {
   "display_name": "default_pds",
   "language": "python",
   "name": "python3"
  },
  "language_info": {
   "codemirror_mode": {
    "name": "ipython",
    "version": 3
   },
   "file_extension": ".py",
   "mimetype": "text/x-python",
   "name": "python",
   "nbconvert_exporter": "python",
   "pygments_lexer": "ipython3",
   "version": "3.13.1"
  }
 },
 "nbformat": 4,
 "nbformat_minor": 2
}
