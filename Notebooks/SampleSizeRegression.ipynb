{
 "cells": [
  {
   "cell_type": "code",
   "execution_count": 1,
   "metadata": {},
   "outputs": [],
   "source": [
    "import numpy as np\n",
    "import pandas as pd\n",
    "import matplotlib.pyplot as plt\n",
    "import seaborn as sns\n",
    "import plotly.express as px\n",
    "import os\n",
    "import re\n",
    "import torch\n",
    "from torch.utils.data import Dataset, random_split, DataLoader\n",
    "import numpy as np\n",
    "import os"
   ]
  },
  {
   "cell_type": "code",
   "execution_count": 2,
   "metadata": {},
   "outputs": [],
   "source": [
    "path = 'c:/Users/Pietro/Desktop/Porosities/Porosities/'\n",
    "os.chdir(path)"
   ]
  },
  {
   "cell_type": "code",
   "execution_count": 3,
   "metadata": {},
   "outputs": [],
   "source": [
    "from Lib.Data import PorosityDistribution, extract_microstructures, extract_porosities_points\n",
    "from Lib.Datasets import  PorosityDataset"
   ]
  },
  {
   "cell_type": "code",
   "execution_count": 4,
   "metadata": {},
   "outputs": [],
   "source": [
    "sample_path = os.getcwd()+'/Job_Assignment_Data/'"
   ]
  },
  {
   "cell_type": "code",
   "execution_count": 5,
   "metadata": {},
   "outputs": [],
   "source": [
    "extracted_porosities, density_set = extract_porosities_points(sample_path, keep_density_doubles=False)"
   ]
  },
  {
   "cell_type": "code",
   "execution_count": 6,
   "metadata": {},
   "outputs": [],
   "source": [
    "df = extracted_porosities.groupby(by='density').count()"
   ]
  },
  {
   "cell_type": "code",
   "execution_count": 7,
   "metadata": {},
   "outputs": [
    {
     "data": {
      "text/html": [
       "<div>\n",
       "<style scoped>\n",
       "    .dataframe tbody tr th:only-of-type {\n",
       "        vertical-align: middle;\n",
       "    }\n",
       "\n",
       "    .dataframe tbody tr th {\n",
       "        vertical-align: top;\n",
       "    }\n",
       "\n",
       "    .dataframe thead th {\n",
       "        text-align: right;\n",
       "    }\n",
       "</style>\n",
       "<table border=\"1\" class=\"dataframe\">\n",
       "  <thead>\n",
       "    <tr style=\"text-align: right;\">\n",
       "      <th></th>\n",
       "      <th>x</th>\n",
       "      <th>y</th>\n",
       "      <th>z</th>\n",
       "      <th>p</th>\n",
       "      <th>sample_number</th>\n",
       "    </tr>\n",
       "    <tr>\n",
       "      <th>density</th>\n",
       "      <th></th>\n",
       "      <th></th>\n",
       "      <th></th>\n",
       "      <th></th>\n",
       "      <th></th>\n",
       "    </tr>\n",
       "  </thead>\n",
       "  <tbody>\n",
       "    <tr>\n",
       "      <th>0.029</th>\n",
       "      <td>1</td>\n",
       "      <td>1</td>\n",
       "      <td>1</td>\n",
       "      <td>1</td>\n",
       "      <td>1</td>\n",
       "    </tr>\n",
       "    <tr>\n",
       "      <th>0.076</th>\n",
       "      <td>1</td>\n",
       "      <td>1</td>\n",
       "      <td>1</td>\n",
       "      <td>1</td>\n",
       "      <td>1</td>\n",
       "    </tr>\n",
       "    <tr>\n",
       "      <th>0.095</th>\n",
       "      <td>1</td>\n",
       "      <td>1</td>\n",
       "      <td>1</td>\n",
       "      <td>1</td>\n",
       "      <td>1</td>\n",
       "    </tr>\n",
       "    <tr>\n",
       "      <th>0.096</th>\n",
       "      <td>1</td>\n",
       "      <td>1</td>\n",
       "      <td>1</td>\n",
       "      <td>1</td>\n",
       "      <td>1</td>\n",
       "    </tr>\n",
       "    <tr>\n",
       "      <th>0.099</th>\n",
       "      <td>1</td>\n",
       "      <td>1</td>\n",
       "      <td>1</td>\n",
       "      <td>1</td>\n",
       "      <td>1</td>\n",
       "    </tr>\n",
       "  </tbody>\n",
       "</table>\n",
       "</div>"
      ],
      "text/plain": [
       "         x  y  z  p  sample_number\n",
       "density                           \n",
       "0.029    1  1  1  1              1\n",
       "0.076    1  1  1  1              1\n",
       "0.095    1  1  1  1              1\n",
       "0.096    1  1  1  1              1\n",
       "0.099    1  1  1  1              1"
      ]
     },
     "execution_count": 7,
     "metadata": {},
     "output_type": "execute_result"
    }
   ],
   "source": [
    "df.head()"
   ]
  },
  {
   "cell_type": "code",
   "execution_count": 8,
   "metadata": {},
   "outputs": [
    {
     "data": {
      "application/vnd.plotly.v1+json": {
       "config": {
        "plotlyServerURL": "https://plot.ly"
       },
       "data": [
        {
         "hovertemplate": "variable=x<br>density=%{x}<br>value=%{y}<extra></extra>",
         "legendgroup": "x",
         "marker": {
          "color": "#636efa",
          "symbol": "circle"
         },
         "mode": "markers",
         "name": "x",
         "showlegend": true,
         "type": "scattergl",
         "x": {
          "bdata": "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",
          "dtype": "f8"
         },
         "xaxis": "x",
         "y": {
          "bdata": "AQABAAEAAQABAAQAAgACAAMAAQACAAQAAgADAAIABAAEAAIAAgAGAAQABQAGAAcABgAEAAYACAAJAAgACwADAAYABgAKAAsADAAMAA8AEgASAA0ACQAYABIAEgAPABIAHgAXABYAGwAcABsAFQAaABcAHgAcAB8AHwAjACIAKQAqACoAJQAqAC4ANAA+ADMAOQA6AEwAQwBLAEwAQQBbAFMASgBOAFAAVwBQAFEAWgBTAGgAagBnAGoAcwBZAG0AeQBuAH0AoAB/AI0AnACRAKYAjACnAKYAqACmAMQAxAC7AMMAuQCzANEA1wDZANQA0gDfAPAA2QDpANYACwH4AAEB6AD6ACEBHAEiARYBHgEoAR8BPAFFAR0BTAFoAWsBSgF8AU4BnAFwAYwBlgGyAd8BxwH6AfsBIQLwAcsB5gEzAk4COgJ1Ai8CygIpAu8CiQLpApcCbQKlArcCvwLLAp0CDwPoAlIDbwNrA38DVgOwA0kD2AOeA7kDeQObA5kDmAPLAw8ExgMUBDUERARnBL8EowTyBGwEdwQUBS8FXAVjBfkEawU1BQsFFQWOBW0FgAWHBUsGGwb2BSQG8wVPBlMGVgYABrcG+AYzB/MGBwhPB6kH/geaB7AIiQhgCKAI6QhxCD4JuQhFCWwJHQmUCZIJLwplCjcKoQrfCXMKOQq+CqoLmAuQC6ML/wvmC6sLcwx9DG4MaAwODZAM7AzBDNMMDA6IDbkOaw2cDUEOAQ5qDUYPww5oDzgP2g9FEGcQwxBlEegR8xE2EU0R3RHxEaMTsBHLEToSoxKhE9cRnRIyFakU+RO6E3AUVhb3FWEVpRX6Fe0VLxd0FX8WyBaEFnkXhRa2FwoZpxgKGPIXdxnUGFAZBRlbG4QYCBuVGfIaKBqjGmUbTBunHB8cDByjHRYdHhxeHaAcUBwhHlofNR9+HhEf9CEzIcghmiBfIh8gvSK0IhMh3SHxIfAhyCFMIxglGiJNJJsl",
          "dtype": "i2"
         },
         "yaxis": "y"
        },
        {
         "hovertemplate": "variable=y<br>density=%{x}<br>value=%{y}<extra></extra>",
         "legendgroup": "y",
         "marker": {
          "color": "#EF553B",
          "symbol": "circle"
         },
         "mode": "markers",
         "name": "y",
         "showlegend": true,
         "type": "scattergl",
         "x": {
          "bdata": "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",
          "dtype": "f8"
         },
         "xaxis": "x",
         "y": {
          "bdata": "AQABAAEAAQABAAQAAgACAAMAAQACAAQAAgADAAIABAAEAAIAAgAGAAQABQAGAAcABgAEAAYACAAJAAgACwADAAYABgAKAAsADAAMAA8AEgASAA0ACQAYABIAEgAPABIAHgAXABYAGwAcABsAFQAaABcAHgAcAB8AHwAjACIAKQAqACoAJQAqAC4ANAA+ADMAOQA6AEwAQwBLAEwAQQBbAFMASgBOAFAAVwBQAFEAWgBTAGgAagBnAGoAcwBZAG0AeQBuAH0AoAB/AI0AnACRAKYAjACnAKYAqACmAMQAxAC7AMMAuQCzANEA1wDZANQA0gDfAPAA2QDpANYACwH4AAEB6AD6ACEBHAEiARYBHgEoAR8BPAFFAR0BTAFoAWsBSgF8AU4BnAFwAYwBlgGyAd8BxwH6AfsBIQLwAcsB5gEzAk4COgJ1Ai8CygIpAu8CiQLpApcCbQKlArcCvwLLAp0CDwPoAlIDbwNrA38DVgOwA0kD2AOeA7kDeQObA5kDmAPLAw8ExgMUBDUERARnBL8EowTyBGwEdwQUBS8FXAVjBfkEawU1BQsFFQWOBW0FgAWHBUsGGwb2BSQG8wVPBlMGVgYABrcG+AYzB/MGBwhPB6kH/geaB7AIiQhgCKAI6QhxCD4JuQhFCWwJHQmUCZIJLwplCjcKoQrfCXMKOQq+CqoLmAuQC6ML/wvmC6sLcwx9DG4MaAwODZAM7AzBDNMMDA6IDbkOaw2cDUEOAQ5qDUYPww5oDzgP2g9FEGcQwxBlEegR8xE2EU0R3RHxEaMTsBHLEToSoxKhE9cRnRIyFakU+RO6E3AUVhb3FWEVpRX6Fe0VLxd0FX8WyBaEFnkXhRa2FwoZpxgKGPIXdxnUGFAZBRlbG4QYCBuVGfIaKBqjGmUbTBunHB8cDByjHRYdHhxeHaAcUBwhHlofNR9+HhEf9CEzIcghmiBfIh8gvSK0IhMh3SHxIfAhyCFMIxglGiJNJJsl",
          "dtype": "i2"
         },
         "yaxis": "y"
        },
        {
         "hovertemplate": "variable=z<br>density=%{x}<br>value=%{y}<extra></extra>",
         "legendgroup": "z",
         "marker": {
          "color": "#00cc96",
          "symbol": "circle"
         },
         "mode": "markers",
         "name": "z",
         "showlegend": true,
         "type": "scattergl",
         "x": {
          "bdata": "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",
          "dtype": "f8"
         },
         "xaxis": "x",
         "y": {
          "bdata": "AQABAAEAAQABAAQAAgACAAMAAQACAAQAAgADAAIABAAEAAIAAgAGAAQABQAGAAcABgAEAAYACAAJAAgACwADAAYABgAKAAsADAAMAA8AEgASAA0ACQAYABIAEgAPABIAHgAXABYAGwAcABsAFQAaABcAHgAcAB8AHwAjACIAKQAqACoAJQAqAC4ANAA+ADMAOQA6AEwAQwBLAEwAQQBbAFMASgBOAFAAVwBQAFEAWgBTAGgAagBnAGoAcwBZAG0AeQBuAH0AoAB/AI0AnACRAKYAjACnAKYAqACmAMQAxAC7AMMAuQCzANEA1wDZANQA0gDfAPAA2QDpANYACwH4AAEB6AD6ACEBHAEiARYBHgEoAR8BPAFFAR0BTAFoAWsBSgF8AU4BnAFwAYwBlgGyAd8BxwH6AfsBIQLwAcsB5gEzAk4COgJ1Ai8CygIpAu8CiQLpApcCbQKlArcCvwLLAp0CDwPoAlIDbwNrA38DVgOwA0kD2AOeA7kDeQObA5kDmAPLAw8ExgMUBDUERARnBL8EowTyBGwEdwQUBS8FXAVjBfkEawU1BQsFFQWOBW0FgAWHBUsGGwb2BSQG8wVPBlMGVgYABrcG+AYzB/MGBwhPB6kH/geaB7AIiQhgCKAI6QhxCD4JuQhFCWwJHQmUCZIJLwplCjcKoQrfCXMKOQq+CqoLmAuQC6ML/wvmC6sLcwx9DG4MaAwODZAM7AzBDNMMDA6IDbkOaw2cDUEOAQ5qDUYPww5oDzgP2g9FEGcQwxBlEegR8xE2EU0R3RHxEaMTsBHLEToSoxKhE9cRnRIyFakU+RO6E3AUVhb3FWEVpRX6Fe0VLxd0FX8WyBaEFnkXhRa2FwoZpxgKGPIXdxnUGFAZBRlbG4QYCBuVGfIaKBqjGmUbTBunHB8cDByjHRYdHhxeHaAcUBwhHlofNR9+HhEf9CEzIcghmiBfIh8gvSK0IhMh3SHxIfAhyCFMIxglGiJNJJsl",
          "dtype": "i2"
         },
         "yaxis": "y"
        },
        {
         "hovertemplate": "variable=p<br>density=%{x}<br>value=%{y}<extra></extra>",
         "legendgroup": "p",
         "marker": {
          "color": "#ab63fa",
          "symbol": "circle"
         },
         "mode": "markers",
         "name": "p",
         "showlegend": true,
         "type": "scattergl",
         "x": {
          "bdata": "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",
          "dtype": "f8"
         },
         "xaxis": "x",
         "y": {
          "bdata": "AQABAAEAAQABAAQAAgACAAMAAQACAAQAAgADAAIABAAEAAIAAgAGAAQABQAGAAcABgAEAAYACAAJAAgACwADAAYABgAKAAsADAAMAA8AEgASAA0ACQAYABIAEgAPABIAHgAXABYAGwAcABsAFQAaABcAHgAcAB8AHwAjACIAKQAqACoAJQAqAC4ANAA+ADMAOQA6AEwAQwBLAEwAQQBbAFMASgBOAFAAVwBQAFEAWgBTAGgAagBnAGoAcwBZAG0AeQBuAH0AoAB/AI0AnACRAKYAjACnAKYAqACmAMQAxAC7AMMAuQCzANEA1wDZANQA0gDfAPAA2QDpANYACwH4AAEB6AD6ACEBHAEiARYBHgEoAR8BPAFFAR0BTAFoAWsBSgF8AU4BnAFwAYwBlgGyAd8BxwH6AfsBIQLwAcsB5gEzAk4COgJ1Ai8CygIpAu8CiQLpApcCbQKlArcCvwLLAp0CDwPoAlIDbwNrA38DVgOwA0kD2AOeA7kDeQObA5kDmAPLAw8ExgMUBDUERARnBL8EowTyBGwEdwQUBS8FXAVjBfkEawU1BQsFFQWOBW0FgAWHBUsGGwb2BSQG8wVPBlMGVgYABrcG+AYzB/MGBwhPB6kH/geaB7AIiQhgCKAI6QhxCD4JuQhFCWwJHQmUCZIJLwplCjcKoQrfCXMKOQq+CqoLmAuQC6ML/wvmC6sLcwx9DG4MaAwODZAM7AzBDNMMDA6IDbkOaw2cDUEOAQ5qDUYPww5oDzgP2g9FEGcQwxBlEegR8xE2EU0R3RHxEaMTsBHLEToSoxKhE9cRnRIyFakU+RO6E3AUVhb3FWEVpRX6Fe0VLxd0FX8WyBaEFnkXhRa2FwoZpxgKGPIXdxnUGFAZBRlbG4QYCBuVGfIaKBqjGmUbTBunHB8cDByjHRYdHhxeHaAcUBwhHlofNR9+HhEf9CEzIcghmiBfIh8gvSK0IhMh3SHxIfAhyCFMIxglGiJNJJsl",
          "dtype": "i2"
         },
         "yaxis": "y"
        },
        {
         "hovertemplate": "variable=sample_number<br>density=%{x}<br>value=%{y}<extra></extra>",
         "legendgroup": "sample_number",
         "marker": {
          "color": "#FFA15A",
          "symbol": "circle"
         },
         "mode": "markers",
         "name": "sample_number",
         "showlegend": true,
         "type": "scattergl",
         "x": {
          "bdata": "GQRWDi2ynT/b+X5qvHSzP1K4HoXrUbg/+n5qvHSTuD/y0k1iEFi5P+kmMQisHLo/ke18PzVeuj85tMh2vp+6P+F6FK5H4bo/KVyPwvUovD8hsHJoke28PxBYObTIdr4/uB6F61G4vj9g5dAi2/m+PwisHFpkO78/qMZLN4lBwD9QjZduEoPAP/hT46WbxMA/oBov3SQGwT9I4XoUrkfBP5zEILByaME/mG4Sg8DKwT/sUbgehevBPz81XrpJDMI/O99PjZduwj/jpZvEILDCPzeJQWDl0MI/hxbZzvdTwz8v3SQGgZXDP4PAyqFFtsM/K4cW2c73wz97FK5H4XrEP8/3U+Olm8Q/c2iR7Xw/xT8X2c73U+PFP2q8dJMYBMY/vp8aL90kxj8Sg8DKoUXGP7pJDAIrh8Y/XrpJDAIrxz+yne+nxkvHPwaBlUOLbMc/AiuHFtnOxz+mm8QgsHLIP/p+arx0k8g/TmIQWDm0yD+iRbbz/dTIP/LSTWIQWMk/mpmZmZmZyT+WQ4ts5/vJP+kmMQisHMo/PQrXo3A9yj/hehSuR+HKPzVeukkMAss/iUFg5dAiyz/dJAaBlUPLP9nO91Pjpcs/LbKd76fGyz99PzVeuknMPyUGgZVDi8w/dZMYBFYOzT8dWmQ730/NP8UgsHJokc0/wcqhRbbzzT+8dJMYBFbOPxBYObTIds4/tMh2vp8azz+sHFpkO9/PP6rx0k1iENA/UrgehetR0D/6fmq8dJPQP05iEFg5tNA/okW28/3U0D+gGi/dJAbRP57vp8ZLN9E/SOF6FK5H0T9CYOXQItvRP+xRuB6F69E/PzVeukkM0j+TGARWDi3SPz0K16NwPdI/5/up8dJN0j+R7Xw/NV7SPzvfT42XbtI/ObTIdr6f0j/jpZvEILDSP42XbhKDwNI/N4lBYOXQ0j+LbOf7qfHSPzVeukkMAtM/iUFg5dAi0z8zMzMzMzPTP90kBoGVQ9M/hetRuB6F0z/ZzvdT46XTP9V46SYxCNQ/001iEFg51D99PzVeuknUPyUGgZVDi9Q/zczMzMzM1D93vp8aL93UP8uhRbbz/dQ/dZMYBFYO1T/Jdr6fGi/VP3E9CtejcNU/xSCwcmiR1T9vEoPAyqHVPxkEVg4tstU/bef7qfHS1T/ByqFFtvPVP7x0kxgEVtY/EFg5tMh21j+6SQwCK4fWP2Q730+Nl9Y/uB6F61G41j8MAiuHFtnWP2Dl0CLb+dY/tMh2vp8a1z9eukkMAivXPwisHFpkO9c/sp3vp8ZL1z9cj8L1KFzXP65H4XoUrtc/WDm0yHa+1z8CK4cW2c7XP1YOLbKd79c/VOOlm8Qg2D/+1HjpJjHYP6jGSzeJQdg/UrgehetR2D+mm8QgsHLYP/p+arx0k9g/+FPjpZvE2D+iRbbz/dTYP/YoXI/C9dg/9P3UeOkm2T9I4XoUrkfZP/LSTWIQWNk/RIts5/up2T/ufD81XrrZPz0K16NwPdo/5/up8dJN2j/l0CLb+X7aP4/C9Shcj9o/ObTIdr6f2j/jpZvEILDaPzeJQWDl0No/30+Nl24S2z/dJAaBlUPbP4cW2c73U9s/MQisHFpk2z+DwMqhRbbbPyuHFtnO99s/KVyPwvUo3D/P91PjpZvcP83MzMzMzNw/d76fGi/d3D8hsHJoke3cP8uhRbbz/dw/c2iR7Xw/3T/FILByaJHdP23n+6nx0t0/arx0kxgE3j8UrkfhehTeP76fGi/dJN4/uB6F61G43j8MAiuHFtneP7TIdr6fGt8/sp3vp8ZL3z9cj8L1KFzfPwaBlUOLbN8/sHJoke183z9aZDvfT43fPwRWDi2ynd8/WDm0yHa+3z8CK4cW2c7fP6wcWmQ7398/1XjpJjEI4D8pXI/C9SjgP1K4HoXrUeA/0SLb+X5q4D+mm8QgsHLgP1CNl24Sg+A/+n5qvHST4D+kcD0K16PgP3npJjEIrOA/I9v5fmq84D/NzMzMzMzgP0w3iUFg5eA/IbByaJHt4D/2KFyPwvXgP8uhRbbz/eA/oBov3SQG4T8fhetRuB7hP/T91HjpJuE/SOF6FK5H4T/HSzeJQWDhP5zEILByaOE/GQRWDi2y4T/ByqFFtvPhPz81XrpJDOI/6SYxCKwc4j++nxov3STiP5MYBFYOLeI/PQrXo3A94j8Sg8DKoUXiP+f7qfHSTeI/O99PjZdu4j8QWDm0yHbiP7pJDAIrh+I/j8L1KFyP4j9kO99PjZfiPzm0yHa+n+I/46WbxCCw4j+4HoXrUbjiPwwCK4cW2eI/4XoUrkfh4j9g5dAi2/niP7TIdr6fGuM/sp3vp8ZL4z9cj8L1KFzjPzEIrBxaZOM/BoGVQ4ts4z/b+X5qvHTjP4XrUbgeheM/WmQ730+N4z+uR+F6FK7jP4PAyqFFtuM/AiuHFtnO4z+sHFpkO9/jPwAAAAAAAOQ/qMZLN4lB5D97FK5H4XrkP05iEFg5tOQ/I9v5fmq85D9MN4lBYOXkPyGwcmiR7eQ/9ihcj8L15D+gGi/dJAblP0oMAiuHFuU/9P3UeOkm5T8dWmQ730/lP5zEILByaOU/Rrbz/dR45T/FILByaJHlPxkEVg4tsuU/7nw/NV665T/D9Shcj8LlP0Jg5dAi2+U/wcqhRbbz5T9qvHSTGATmPz81XrpJDOY/aJHtfD815j89CtejcD3mPxKDwMqhReY/O99PjZdu5j/l0CLb+X7mP4/C9Shcj+Y/ObTIdr6f5j8MAiuHFtnmP7bz/dR46eY/YOXQItv55j8K16NwPQrnP99PjZduEuc/XrpJDAIr5z8IrBxaZDvnP1yPwvUoXOc/sHJoke185z+F61G4HoXnPy/dJAaBlec/BFYOLbKd5z/ZzvdT46XnPy2yne+nxuc/16NwPQrX5z+sHFpkO9/nPyuHFtnO9+c/AAAAAAAA6D+q8dJNYhDoPylcj8L1KOg/qMZLN4lB6D99PzVeuknoPycxCKwcWug/exSuR+F66D/P91PjpZvoPyPb+X5qvOg/+FPjpZvE6D/NzMzMzMzoP0oMAiuHFuk/8KfGSzeJ6T/FILByaJHpP28Sg8DKoek/GQRWDi2y6T/ufD81XrrpP23n+6nx0uk/QmDl0CLb6T8X2c73U+PpP5ZDi2zn++k/arx0kxgE6j/pJjEIrBzqP76fGi/dJOo/aJHtfD816j8Sg8DKoUXqP+f7qfHSTeo/5dAi2/l+6j8OLbKd76fqP42XbhKDwOo/DAIrhxbZ6j9g5dAi2/nqPzVeukkMAus/30+Nl24S6z+JQWDl0CLrPzMzMzMzM+s/sp3vp8ZL6z8xCKwcWmTrP7ByaJHtfOs/L90kBoGV6z8EVg4tsp3rP65H4XoUrus/g8DKoUW26z9YObTIdr7rP9ejcD0K1+s/rBxaZDvf6z8rhxbZzvfrPwAAAAAAAOw/1XjpJjEI7D/+1HjpJjHsP9NNYhBYOew/fT81XrpJ7D+mm8QgsHLsP1CNl24Sg+w/JQaBlUOL7D/6fmq8dJPsP3npJjEIrOw/zczMzMzM7D9MN4lBYOXsP6AaL90kBu0/SgwCK4cW7T/Jdr6fGi/tP0jhehSuR+0/8tJNYhBY7T+cxCCwcmjtPxsv3SQGge0/8KfGSzeJ7T/FILByaJHtP5qZmZmZme0/mG4Sg8DK7T9CYOXQItvtP+xRuB6F6+0/arx0kxgE7j8UrkfhehTuP+kmMQisHO4/PQrXo3A97j/n+6nx0k3uP7x0kxgEVu4/YhBYObTI7j83iUFg5dDuP+F6FK5H4e4/tvP91Hjp7j9g5dAi2/nuPzVeukkMAu8/CtejcD0K7z+JQWDl0CLvP166SQwCK+8/MzMzMzMz7z+yne+nxkvvP1yPwvUoXO8/MQisHFpk7z/b+X5qvHTvP4XrUbgehe8/L90kBoGV7z+uR+F6FK7vPwAAAAAAAPA/",
          "dtype": "f8"
         },
         "xaxis": "x",
         "y": {
          "bdata": "AQABAAEAAQABAAQAAgACAAMAAQACAAQAAgADAAIABAAEAAIAAgAGAAQABQAGAAcABgAEAAYACAAJAAgACwADAAYABgAKAAsADAAMAA8AEgASAA0ACQAYABIAEgAPABIAHgAXABYAGwAcABsAFQAaABcAHgAcAB8AHwAjACIAKQAqACoAJQAqAC4ANAA+ADMAOQA6AEwAQwBLAEwAQQBbAFMASgBOAFAAVwBQAFEAWgBTAGgAagBnAGoAcwBZAG0AeQBuAH0AoAB/AI0AnACRAKYAjACnAKYAqACmAMQAxAC7AMMAuQCzANEA1wDZANQA0gDfAPAA2QDpANYACwH4AAEB6AD6ACEBHAEiARYBHgEoAR8BPAFFAR0BTAFoAWsBSgF8AU4BnAFwAYwBlgGyAd8BxwH6AfsBIQLwAcsB5gEzAk4COgJ1Ai8CygIpAu8CiQLpApcCbQKlArcCvwLLAp0CDwPoAlIDbwNrA38DVgOwA0kD2AOeA7kDeQObA5kDmAPLAw8ExgMUBDUERARnBL8EowTyBGwEdwQUBS8FXAVjBfkEawU1BQsFFQWOBW0FgAWHBUsGGwb2BSQG8wVPBlMGVgYABrcG+AYzB/MGBwhPB6kH/geaB7AIiQhgCKAI6QhxCD4JuQhFCWwJHQmUCZIJLwplCjcKoQrfCXMKOQq+CqoLmAuQC6ML/wvmC6sLcwx9DG4MaAwODZAM7AzBDNMMDA6IDbkOaw2cDUEOAQ5qDUYPww5oDzgP2g9FEGcQwxBlEegR8xE2EU0R3RHxEaMTsBHLEToSoxKhE9cRnRIyFakU+RO6E3AUVhb3FWEVpRX6Fe0VLxd0FX8WyBaEFnkXhRa2FwoZpxgKGPIXdxnUGFAZBRlbG4QYCBuVGfIaKBqjGmUbTBunHB8cDByjHRYdHhxeHaAcUBwhHlofNR9+HhEf9CEzIcghmiBfIh8gvSK0IhMh3SHxIfAhyCFMIxglGiJNJJsl",
          "dtype": "i2"
         },
         "yaxis": "y"
        }
       ],
       "layout": {
        "legend": {
         "title": {
          "text": "variable"
         },
         "tracegroupgap": 0
        },
        "margin": {
         "t": 60
        },
        "template": {
         "data": {
          "bar": [
           {
            "error_x": {
             "color": "#2a3f5f"
            },
            "error_y": {
             "color": "#2a3f5f"
            },
            "marker": {
             "line": {
              "color": "#E5ECF6",
              "width": 0.5
             },
             "pattern": {
              "fillmode": "overlay",
              "size": 10,
              "solidity": 0.2
             }
            },
            "type": "bar"
           }
          ],
          "barpolar": [
           {
            "marker": {
             "line": {
              "color": "#E5ECF6",
              "width": 0.5
             },
             "pattern": {
              "fillmode": "overlay",
              "size": 10,
              "solidity": 0.2
             }
            },
            "type": "barpolar"
           }
          ],
          "carpet": [
           {
            "aaxis": {
             "endlinecolor": "#2a3f5f",
             "gridcolor": "white",
             "linecolor": "white",
             "minorgridcolor": "white",
             "startlinecolor": "#2a3f5f"
            },
            "baxis": {
             "endlinecolor": "#2a3f5f",
             "gridcolor": "white",
             "linecolor": "white",
             "minorgridcolor": "white",
             "startlinecolor": "#2a3f5f"
            },
            "type": "carpet"
           }
          ],
          "choropleth": [
           {
            "colorbar": {
             "outlinewidth": 0,
             "ticks": ""
            },
            "type": "choropleth"
           }
          ],
          "contour": [
           {
            "colorbar": {
             "outlinewidth": 0,
             "ticks": ""
            },
            "colorscale": [
             [
              0,
              "#0d0887"
             ],
             [
              0.1111111111111111,
              "#46039f"
             ],
             [
              0.2222222222222222,
              "#7201a8"
             ],
             [
              0.3333333333333333,
              "#9c179e"
             ],
             [
              0.4444444444444444,
              "#bd3786"
             ],
             [
              0.5555555555555556,
              "#d8576b"
             ],
             [
              0.6666666666666666,
              "#ed7953"
             ],
             [
              0.7777777777777778,
              "#fb9f3a"
             ],
             [
              0.8888888888888888,
              "#fdca26"
             ],
             [
              1,
              "#f0f921"
             ]
            ],
            "type": "contour"
           }
          ],
          "contourcarpet": [
           {
            "colorbar": {
             "outlinewidth": 0,
             "ticks": ""
            },
            "type": "contourcarpet"
           }
          ],
          "heatmap": [
           {
            "colorbar": {
             "outlinewidth": 0,
             "ticks": ""
            },
            "colorscale": [
             [
              0,
              "#0d0887"
             ],
             [
              0.1111111111111111,
              "#46039f"
             ],
             [
              0.2222222222222222,
              "#7201a8"
             ],
             [
              0.3333333333333333,
              "#9c179e"
             ],
             [
              0.4444444444444444,
              "#bd3786"
             ],
             [
              0.5555555555555556,
              "#d8576b"
             ],
             [
              0.6666666666666666,
              "#ed7953"
             ],
             [
              0.7777777777777778,
              "#fb9f3a"
             ],
             [
              0.8888888888888888,
              "#fdca26"
             ],
             [
              1,
              "#f0f921"
             ]
            ],
            "type": "heatmap"
           }
          ],
          "histogram": [
           {
            "marker": {
             "pattern": {
              "fillmode": "overlay",
              "size": 10,
              "solidity": 0.2
             }
            },
            "type": "histogram"
           }
          ],
          "histogram2d": [
           {
            "colorbar": {
             "outlinewidth": 0,
             "ticks": ""
            },
            "colorscale": [
             [
              0,
              "#0d0887"
             ],
             [
              0.1111111111111111,
              "#46039f"
             ],
             [
              0.2222222222222222,
              "#7201a8"
             ],
             [
              0.3333333333333333,
              "#9c179e"
             ],
             [
              0.4444444444444444,
              "#bd3786"
             ],
             [
              0.5555555555555556,
              "#d8576b"
             ],
             [
              0.6666666666666666,
              "#ed7953"
             ],
             [
              0.7777777777777778,
              "#fb9f3a"
             ],
             [
              0.8888888888888888,
              "#fdca26"
             ],
             [
              1,
              "#f0f921"
             ]
            ],
            "type": "histogram2d"
           }
          ],
          "histogram2dcontour": [
           {
            "colorbar": {
             "outlinewidth": 0,
             "ticks": ""
            },
            "colorscale": [
             [
              0,
              "#0d0887"
             ],
             [
              0.1111111111111111,
              "#46039f"
             ],
             [
              0.2222222222222222,
              "#7201a8"
             ],
             [
              0.3333333333333333,
              "#9c179e"
             ],
             [
              0.4444444444444444,
              "#bd3786"
             ],
             [
              0.5555555555555556,
              "#d8576b"
             ],
             [
              0.6666666666666666,
              "#ed7953"
             ],
             [
              0.7777777777777778,
              "#fb9f3a"
             ],
             [
              0.8888888888888888,
              "#fdca26"
             ],
             [
              1,
              "#f0f921"
             ]
            ],
            "type": "histogram2dcontour"
           }
          ],
          "mesh3d": [
           {
            "colorbar": {
             "outlinewidth": 0,
             "ticks": ""
            },
            "type": "mesh3d"
           }
          ],
          "parcoords": [
           {
            "line": {
             "colorbar": {
              "outlinewidth": 0,
              "ticks": ""
             }
            },
            "type": "parcoords"
           }
          ],
          "pie": [
           {
            "automargin": true,
            "type": "pie"
           }
          ],
          "scatter": [
           {
            "fillpattern": {
             "fillmode": "overlay",
             "size": 10,
             "solidity": 0.2
            },
            "type": "scatter"
           }
          ],
          "scatter3d": [
           {
            "line": {
             "colorbar": {
              "outlinewidth": 0,
              "ticks": ""
             }
            },
            "marker": {
             "colorbar": {
              "outlinewidth": 0,
              "ticks": ""
             }
            },
            "type": "scatter3d"
           }
          ],
          "scattercarpet": [
           {
            "marker": {
             "colorbar": {
              "outlinewidth": 0,
              "ticks": ""
             }
            },
            "type": "scattercarpet"
           }
          ],
          "scattergeo": [
           {
            "marker": {
             "colorbar": {
              "outlinewidth": 0,
              "ticks": ""
             }
            },
            "type": "scattergeo"
           }
          ],
          "scattergl": [
           {
            "marker": {
             "colorbar": {
              "outlinewidth": 0,
              "ticks": ""
             }
            },
            "type": "scattergl"
           }
          ],
          "scattermap": [
           {
            "marker": {
             "colorbar": {
              "outlinewidth": 0,
              "ticks": ""
             }
            },
            "type": "scattermap"
           }
          ],
          "scattermapbox": [
           {
            "marker": {
             "colorbar": {
              "outlinewidth": 0,
              "ticks": ""
             }
            },
            "type": "scattermapbox"
           }
          ],
          "scatterpolar": [
           {
            "marker": {
             "colorbar": {
              "outlinewidth": 0,
              "ticks": ""
             }
            },
            "type": "scatterpolar"
           }
          ],
          "scatterpolargl": [
           {
            "marker": {
             "colorbar": {
              "outlinewidth": 0,
              "ticks": ""
             }
            },
            "type": "scatterpolargl"
           }
          ],
          "scatterternary": [
           {
            "marker": {
             "colorbar": {
              "outlinewidth": 0,
              "ticks": ""
             }
            },
            "type": "scatterternary"
           }
          ],
          "surface": [
           {
            "colorbar": {
             "outlinewidth": 0,
             "ticks": ""
            },
            "colorscale": [
             [
              0,
              "#0d0887"
             ],
             [
              0.1111111111111111,
              "#46039f"
             ],
             [
              0.2222222222222222,
              "#7201a8"
             ],
             [
              0.3333333333333333,
              "#9c179e"
             ],
             [
              0.4444444444444444,
              "#bd3786"
             ],
             [
              0.5555555555555556,
              "#d8576b"
             ],
             [
              0.6666666666666666,
              "#ed7953"
             ],
             [
              0.7777777777777778,
              "#fb9f3a"
             ],
             [
              0.8888888888888888,
              "#fdca26"
             ],
             [
              1,
              "#f0f921"
             ]
            ],
            "type": "surface"
           }
          ],
          "table": [
           {
            "cells": {
             "fill": {
              "color": "#EBF0F8"
             },
             "line": {
              "color": "white"
             }
            },
            "header": {
             "fill": {
              "color": "#C8D4E3"
             },
             "line": {
              "color": "white"
             }
            },
            "type": "table"
           }
          ]
         },
         "layout": {
          "annotationdefaults": {
           "arrowcolor": "#2a3f5f",
           "arrowhead": 0,
           "arrowwidth": 1
          },
          "autotypenumbers": "strict",
          "coloraxis": {
           "colorbar": {
            "outlinewidth": 0,
            "ticks": ""
           }
          },
          "colorscale": {
           "diverging": [
            [
             0,
             "#8e0152"
            ],
            [
             0.1,
             "#c51b7d"
            ],
            [
             0.2,
             "#de77ae"
            ],
            [
             0.3,
             "#f1b6da"
            ],
            [
             0.4,
             "#fde0ef"
            ],
            [
             0.5,
             "#f7f7f7"
            ],
            [
             0.6,
             "#e6f5d0"
            ],
            [
             0.7,
             "#b8e186"
            ],
            [
             0.8,
             "#7fbc41"
            ],
            [
             0.9,
             "#4d9221"
            ],
            [
             1,
             "#276419"
            ]
           ],
           "sequential": [
            [
             0,
             "#0d0887"
            ],
            [
             0.1111111111111111,
             "#46039f"
            ],
            [
             0.2222222222222222,
             "#7201a8"
            ],
            [
             0.3333333333333333,
             "#9c179e"
            ],
            [
             0.4444444444444444,
             "#bd3786"
            ],
            [
             0.5555555555555556,
             "#d8576b"
            ],
            [
             0.6666666666666666,
             "#ed7953"
            ],
            [
             0.7777777777777778,
             "#fb9f3a"
            ],
            [
             0.8888888888888888,
             "#fdca26"
            ],
            [
             1,
             "#f0f921"
            ]
           ],
           "sequentialminus": [
            [
             0,
             "#0d0887"
            ],
            [
             0.1111111111111111,
             "#46039f"
            ],
            [
             0.2222222222222222,
             "#7201a8"
            ],
            [
             0.3333333333333333,
             "#9c179e"
            ],
            [
             0.4444444444444444,
             "#bd3786"
            ],
            [
             0.5555555555555556,
             "#d8576b"
            ],
            [
             0.6666666666666666,
             "#ed7953"
            ],
            [
             0.7777777777777778,
             "#fb9f3a"
            ],
            [
             0.8888888888888888,
             "#fdca26"
            ],
            [
             1,
             "#f0f921"
            ]
           ]
          },
          "colorway": [
           "#636efa",
           "#EF553B",
           "#00cc96",
           "#ab63fa",
           "#FFA15A",
           "#19d3f3",
           "#FF6692",
           "#B6E880",
           "#FF97FF",
           "#FECB52"
          ],
          "font": {
           "color": "#2a3f5f"
          },
          "geo": {
           "bgcolor": "white",
           "lakecolor": "white",
           "landcolor": "#E5ECF6",
           "showlakes": true,
           "showland": true,
           "subunitcolor": "white"
          },
          "hoverlabel": {
           "align": "left"
          },
          "hovermode": "closest",
          "mapbox": {
           "style": "light"
          },
          "paper_bgcolor": "white",
          "plot_bgcolor": "#E5ECF6",
          "polar": {
           "angularaxis": {
            "gridcolor": "white",
            "linecolor": "white",
            "ticks": ""
           },
           "bgcolor": "#E5ECF6",
           "radialaxis": {
            "gridcolor": "white",
            "linecolor": "white",
            "ticks": ""
           }
          },
          "scene": {
           "xaxis": {
            "backgroundcolor": "#E5ECF6",
            "gridcolor": "white",
            "gridwidth": 2,
            "linecolor": "white",
            "showbackground": true,
            "ticks": "",
            "zerolinecolor": "white"
           },
           "yaxis": {
            "backgroundcolor": "#E5ECF6",
            "gridcolor": "white",
            "gridwidth": 2,
            "linecolor": "white",
            "showbackground": true,
            "ticks": "",
            "zerolinecolor": "white"
           },
           "zaxis": {
            "backgroundcolor": "#E5ECF6",
            "gridcolor": "white",
            "gridwidth": 2,
            "linecolor": "white",
            "showbackground": true,
            "ticks": "",
            "zerolinecolor": "white"
           }
          },
          "shapedefaults": {
           "line": {
            "color": "#2a3f5f"
           }
          },
          "ternary": {
           "aaxis": {
            "gridcolor": "white",
            "linecolor": "white",
            "ticks": ""
           },
           "baxis": {
            "gridcolor": "white",
            "linecolor": "white",
            "ticks": ""
           },
           "bgcolor": "#E5ECF6",
           "caxis": {
            "gridcolor": "white",
            "linecolor": "white",
            "ticks": ""
           }
          },
          "title": {
           "x": 0.05
          },
          "xaxis": {
           "automargin": true,
           "gridcolor": "white",
           "linecolor": "white",
           "ticks": "",
           "title": {
            "standoff": 15
           },
           "zerolinecolor": "white",
           "zerolinewidth": 2
          },
          "yaxis": {
           "automargin": true,
           "gridcolor": "white",
           "linecolor": "white",
           "ticks": "",
           "title": {
            "standoff": 15
           },
           "zerolinecolor": "white",
           "zerolinewidth": 2
          }
         }
        },
        "xaxis": {
         "anchor": "y",
         "domain": [
          0,
          1
         ],
         "title": {
          "text": "density"
         }
        },
        "yaxis": {
         "anchor": "x",
         "domain": [
          0,
          1
         ],
         "title": {
          "text": "value"
         }
        }
       }
      }
     },
     "metadata": {},
     "output_type": "display_data"
    }
   ],
   "source": [
    "px.scatter(df)"
   ]
  },
  {
   "cell_type": "code",
   "execution_count": 9,
   "metadata": {},
   "outputs": [],
   "source": [
    "from sklearn.model_selection import train_test_split\n",
    "from sklearn.preprocessing import PolynomialFeatures,StandardScaler\n",
    "from sklearn.linear_model import LinearRegression"
   ]
  },
  {
   "cell_type": "code",
   "execution_count": 10,
   "metadata": {},
   "outputs": [],
   "source": [
    "df['density'] = df.index"
   ]
  },
  {
   "cell_type": "code",
   "execution_count": 11,
   "metadata": {},
   "outputs": [],
   "source": [
    "X = df['density'].values.reshape(-1,1)\n",
    "y = df['sample_number'].values.reshape(-1,1)"
   ]
  },
  {
   "cell_type": "code",
   "execution_count": 12,
   "metadata": {},
   "outputs": [
    {
     "name": "stdout",
     "output_type": "stream",
     "text": [
      "(297, 1) (75, 1) (297, 1) (75, 1)\n"
     ]
    }
   ],
   "source": [
    "X_train, X_test, y_train, y_test = train_test_split(X,y,test_size=0.2)\n",
    "\n",
    "print(X_train.shape,X_test.shape,y_train.shape,y_test.shape)"
   ]
  },
  {
   "cell_type": "code",
   "execution_count": 13,
   "metadata": {},
   "outputs": [],
   "source": [
    "st_scale = StandardScaler()\n",
    "y_train_sc = st_scale.fit_transform(y_train)\n",
    "y_test_sc = st_scale.transform(y_test)"
   ]
  },
  {
   "cell_type": "code",
   "execution_count": 14,
   "metadata": {},
   "outputs": [],
   "source": [
    "poly = PolynomialFeatures(2)\n",
    "X_train_poly = poly.fit_transform(X_train)\n",
    "X_test_poly = poly.transform(X_test)"
   ]
  },
  {
   "cell_type": "code",
   "execution_count": 15,
   "metadata": {},
   "outputs": [
    {
     "data": {
      "text/plain": [
       "(75, 3)"
      ]
     },
     "execution_count": 15,
     "metadata": {},
     "output_type": "execute_result"
    }
   ],
   "source": [
    "X_test_poly.shape"
   ]
  },
  {
   "cell_type": "code",
   "execution_count": 16,
   "metadata": {},
   "outputs": [],
   "source": [
    "model = LinearRegression()\n",
    "\n",
    "model.fit(X_train_poly,y_train_sc)\n",
    "\n",
    "y_pred_test = model.predict(X_test_poly)\n",
    "y_pred_train = model.predict(X_train_poly)"
   ]
  },
  {
   "cell_type": "code",
   "execution_count": 17,
   "metadata": {},
   "outputs": [],
   "source": [
    "y_pred_test = st_scale.inverse_transform(y_pred_test)\n",
    "y_test = st_scale.inverse_transform(y_test_sc)\n",
    "\n",
    "y_pred_test = y_pred_test.reshape(y_pred_test.shape[0])\n",
    "y_test = y_test.reshape(y_test.shape[0])\n",
    "\n",
    "y_pred_train = st_scale.inverse_transform(y_pred_train)\n",
    "y_train = st_scale.inverse_transform(y_train_sc)\n",
    "\n",
    "y_pred_train = y_pred_train.reshape(y_pred_train.shape[0])\n",
    "y_train = y_train.reshape(y_train.shape[0])\n",
    "\n",
    "X_train = X_train.reshape(X_train.shape[0])\n",
    "X_test = X_test.reshape(X_test.shape[0])"
   ]
  },
  {
   "cell_type": "code",
   "execution_count": 18,
   "metadata": {},
   "outputs": [
    {
     "data": {
      "application/vnd.plotly.v1+json": {
       "config": {
        "plotlyServerURL": "https://plot.ly"
       },
       "data": [
        {
         "hovertemplate": "x=%{x}<br>y=%{y}<extra></extra>",
         "legendgroup": "",
         "marker": {
          "color": "#636efa",
          "opacity": 0.5,
          "symbol": "circle"
         },
         "mode": "markers",
         "name": "",
         "orientation": "v",
         "showlegend": false,
         "type": "scatter",
         "x": {
          "bdata": "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",
          "dtype": "f8"
         },
         "xaxis": "x",
         "y": {
          "bdata": "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",
          "dtype": "f8"
         },
         "yaxis": "y"
        },
        {
         "hovertemplate": "<b>OLS trendline</b><br>y = 1 * x + -2.65351e-12<br>R<sup>2</sup>=0.993144<br><br>x=%{x}<br>y=%{y} <b>(trend)</b><extra></extra>",
         "legendgroup": "",
         "marker": {
          "color": "#636efa",
          "symbol": "circle"
         },
         "mode": "lines",
         "name": "",
         "showlegend": false,
         "type": "scatter",
         "x": {
          "bdata": "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",
          "dtype": "f8"
         },
         "xaxis": "x",
         "y": {
          "bdata": "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",
          "dtype": "f8"
         },
         "yaxis": "y"
        },
        {
         "line": {
          "color": "red",
          "dash": "dash"
         },
         "mode": "lines",
         "name": "Ideal Line (y = x)",
         "type": "scatter",
         "x": {
          "bdata": "amQoRLrS6r98RE8Nyq3pv40kdtbZiOi/nwSdn+lj57+w5MNo+T7mv8LE6jEJGuW/1KQR+xj147/mhDjEKNDiv/dkX404q+G/CEWGVkiG4L80Slo/sMLev1gKqNHPeNy/e8r1Y+8u2r+eikP2DuXXv8JKkYgum9W/5ArfGk5R078IyyytbQfRv1gW9X4ae82/nJaQo1nnyL/kFizImFPEv1Auj9mvf7+/4C7GIi5Ytr/gXvrXWGGqv+C/0NSqJJC/4D1TBlx5lD/QnbtwsYusP2DOJm9abbc/6Ob3Em5KwD+gZlzuLt7EP1jmwMnvcck/GGYlpbAFzj/o8kTAuEzRP8Qy9y2ZltM/oHKpm3ng1T98slsJWirYP1zyDXc6dNo/ODLA5Bq+3D8UcnJS+wffP/hYEuDtqOA/5njrFt7N4T/WmMRNzvLiP8S4nYS+F+Q/sth2u6485T+g+E/ynmHmP44YKSmPhuc/fDgCYH+r6D9sWNuWb9DpP1p4tM1f9eo/SJiNBFAa7D82uGY7QD/tPyTYP3IwZO4/FPgYqSCJ7z8BDPlvCFfwP/ibZYuA6fA/7yvSpvh78T/muz7CcA7yP91Lq93ooPI/1dsX+WAz8z/La4QU2cXzP8P78C9RWPQ/u4tdS8nq9D+xG8pmQX31P6mrNoK5D/Y/nzujnTGi9j+Xyw+5qTT3P49bfNQhx/c/hevo75lZ+D99e1ULEuz4P3MLwiaKfvk/a5suQgIR+j9jK5tdeqP6P1m7B3nyNfs/UUt0lGrI+z9H2+Cv4lr8Pz9rTcta7fw/N/u55tJ//T8tiyYCSxL+PyUbkx3DpP4/G6v/ODs3/z8TO2xUs8n/P4Zl7LcVLgBAgK2ixVF3AEB89VjTjcAAQHg9D+HJCQFAdIXF7gVTAUBuzXv8QZwBQGoVMgp+5QFAZl3oF7ouAkBipZ4l9ncCQF7tVDMywQJAWDULQW4KA0BUfcFOqlMDQFDFd1zmnANATA0uaiLmA0BIVeR3Xi8EQEKdmoWaeARAPuVQk9bBBEA6LQehEgsFQDZ1va5OVAVAMb1zvIqdBUA=",
          "dtype": "f8",
          "shape": "100, 1"
         },
         "y": {
          "bdata": "amQoRLrS6r98RE8Nyq3pv40kdtbZiOi/nwSdn+lj57+w5MNo+T7mv8LE6jEJGuW/1KQR+xj147/mhDjEKNDiv/dkX404q+G/CEWGVkiG4L80Slo/sMLev1gKqNHPeNy/e8r1Y+8u2r+eikP2DuXXv8JKkYgum9W/5ArfGk5R078IyyytbQfRv1gW9X4ae82/nJaQo1nnyL/kFizImFPEv1Auj9mvf7+/4C7GIi5Ytr/gXvrXWGGqv+C/0NSqJJC/4D1TBlx5lD/QnbtwsYusP2DOJm9abbc/6Ob3Em5KwD+gZlzuLt7EP1jmwMnvcck/GGYlpbAFzj/o8kTAuEzRP8Qy9y2ZltM/oHKpm3ng1T98slsJWirYP1zyDXc6dNo/ODLA5Bq+3D8UcnJS+wffP/hYEuDtqOA/5njrFt7N4T/WmMRNzvLiP8S4nYS+F+Q/sth2u6485T+g+E/ynmHmP44YKSmPhuc/fDgCYH+r6D9sWNuWb9DpP1p4tM1f9eo/SJiNBFAa7D82uGY7QD/tPyTYP3IwZO4/FPgYqSCJ7z8BDPlvCFfwP/ibZYuA6fA/7yvSpvh78T/muz7CcA7yP91Lq93ooPI/1dsX+WAz8z/La4QU2cXzP8P78C9RWPQ/u4tdS8nq9D+xG8pmQX31P6mrNoK5D/Y/nzujnTGi9j+Xyw+5qTT3P49bfNQhx/c/hevo75lZ+D99e1ULEuz4P3MLwiaKfvk/a5suQgIR+j9jK5tdeqP6P1m7B3nyNfs/UUt0lGrI+z9H2+Cv4lr8Pz9rTcta7fw/N/u55tJ//T8tiyYCSxL+PyUbkx3DpP4/G6v/ODs3/z8TO2xUs8n/P4Zl7LcVLgBAgK2ixVF3AEB89VjTjcAAQHg9D+HJCQFAdIXF7gVTAUBuzXv8QZwBQGoVMgp+5QFAZl3oF7ouAkBipZ4l9ncCQF7tVDMywQJAWDULQW4KA0BUfcFOqlMDQFDFd1zmnANATA0uaiLmA0BIVeR3Xi8EQEKdmoWaeARAPuVQk9bBBEA6LQehEgsFQDZ1va5OVAVAMb1zvIqdBUA=",
          "dtype": "f8",
          "shape": "100, 1"
         }
        }
       ],
       "layout": {
        "legend": {
         "tracegroupgap": 0
        },
        "template": {
         "data": {
          "bar": [
           {
            "error_x": {
             "color": "#2a3f5f"
            },
            "error_y": {
             "color": "#2a3f5f"
            },
            "marker": {
             "line": {
              "color": "#E5ECF6",
              "width": 0.5
             },
             "pattern": {
              "fillmode": "overlay",
              "size": 10,
              "solidity": 0.2
             }
            },
            "type": "bar"
           }
          ],
          "barpolar": [
           {
            "marker": {
             "line": {
              "color": "#E5ECF6",
              "width": 0.5
             },
             "pattern": {
              "fillmode": "overlay",
              "size": 10,
              "solidity": 0.2
             }
            },
            "type": "barpolar"
           }
          ],
          "carpet": [
           {
            "aaxis": {
             "endlinecolor": "#2a3f5f",
             "gridcolor": "white",
             "linecolor": "white",
             "minorgridcolor": "white",
             "startlinecolor": "#2a3f5f"
            },
            "baxis": {
             "endlinecolor": "#2a3f5f",
             "gridcolor": "white",
             "linecolor": "white",
             "minorgridcolor": "white",
             "startlinecolor": "#2a3f5f"
            },
            "type": "carpet"
           }
          ],
          "choropleth": [
           {
            "colorbar": {
             "outlinewidth": 0,
             "ticks": ""
            },
            "type": "choropleth"
           }
          ],
          "contour": [
           {
            "colorbar": {
             "outlinewidth": 0,
             "ticks": ""
            },
            "colorscale": [
             [
              0,
              "#0d0887"
             ],
             [
              0.1111111111111111,
              "#46039f"
             ],
             [
              0.2222222222222222,
              "#7201a8"
             ],
             [
              0.3333333333333333,
              "#9c179e"
             ],
             [
              0.4444444444444444,
              "#bd3786"
             ],
             [
              0.5555555555555556,
              "#d8576b"
             ],
             [
              0.6666666666666666,
              "#ed7953"
             ],
             [
              0.7777777777777778,
              "#fb9f3a"
             ],
             [
              0.8888888888888888,
              "#fdca26"
             ],
             [
              1,
              "#f0f921"
             ]
            ],
            "type": "contour"
           }
          ],
          "contourcarpet": [
           {
            "colorbar": {
             "outlinewidth": 0,
             "ticks": ""
            },
            "type": "contourcarpet"
           }
          ],
          "heatmap": [
           {
            "colorbar": {
             "outlinewidth": 0,
             "ticks": ""
            },
            "colorscale": [
             [
              0,
              "#0d0887"
             ],
             [
              0.1111111111111111,
              "#46039f"
             ],
             [
              0.2222222222222222,
              "#7201a8"
             ],
             [
              0.3333333333333333,
              "#9c179e"
             ],
             [
              0.4444444444444444,
              "#bd3786"
             ],
             [
              0.5555555555555556,
              "#d8576b"
             ],
             [
              0.6666666666666666,
              "#ed7953"
             ],
             [
              0.7777777777777778,
              "#fb9f3a"
             ],
             [
              0.8888888888888888,
              "#fdca26"
             ],
             [
              1,
              "#f0f921"
             ]
            ],
            "type": "heatmap"
           }
          ],
          "histogram": [
           {
            "marker": {
             "pattern": {
              "fillmode": "overlay",
              "size": 10,
              "solidity": 0.2
             }
            },
            "type": "histogram"
           }
          ],
          "histogram2d": [
           {
            "colorbar": {
             "outlinewidth": 0,
             "ticks": ""
            },
            "colorscale": [
             [
              0,
              "#0d0887"
             ],
             [
              0.1111111111111111,
              "#46039f"
             ],
             [
              0.2222222222222222,
              "#7201a8"
             ],
             [
              0.3333333333333333,
              "#9c179e"
             ],
             [
              0.4444444444444444,
              "#bd3786"
             ],
             [
              0.5555555555555556,
              "#d8576b"
             ],
             [
              0.6666666666666666,
              "#ed7953"
             ],
             [
              0.7777777777777778,
              "#fb9f3a"
             ],
             [
              0.8888888888888888,
              "#fdca26"
             ],
             [
              1,
              "#f0f921"
             ]
            ],
            "type": "histogram2d"
           }
          ],
          "histogram2dcontour": [
           {
            "colorbar": {
             "outlinewidth": 0,
             "ticks": ""
            },
            "colorscale": [
             [
              0,
              "#0d0887"
             ],
             [
              0.1111111111111111,
              "#46039f"
             ],
             [
              0.2222222222222222,
              "#7201a8"
             ],
             [
              0.3333333333333333,
              "#9c179e"
             ],
             [
              0.4444444444444444,
              "#bd3786"
             ],
             [
              0.5555555555555556,
              "#d8576b"
             ],
             [
              0.6666666666666666,
              "#ed7953"
             ],
             [
              0.7777777777777778,
              "#fb9f3a"
             ],
             [
              0.8888888888888888,
              "#fdca26"
             ],
             [
              1,
              "#f0f921"
             ]
            ],
            "type": "histogram2dcontour"
           }
          ],
          "mesh3d": [
           {
            "colorbar": {
             "outlinewidth": 0,
             "ticks": ""
            },
            "type": "mesh3d"
           }
          ],
          "parcoords": [
           {
            "line": {
             "colorbar": {
              "outlinewidth": 0,
              "ticks": ""
             }
            },
            "type": "parcoords"
           }
          ],
          "pie": [
           {
            "automargin": true,
            "type": "pie"
           }
          ],
          "scatter": [
           {
            "fillpattern": {
             "fillmode": "overlay",
             "size": 10,
             "solidity": 0.2
            },
            "type": "scatter"
           }
          ],
          "scatter3d": [
           {
            "line": {
             "colorbar": {
              "outlinewidth": 0,
              "ticks": ""
             }
            },
            "marker": {
             "colorbar": {
              "outlinewidth": 0,
              "ticks": ""
             }
            },
            "type": "scatter3d"
           }
          ],
          "scattercarpet": [
           {
            "marker": {
             "colorbar": {
              "outlinewidth": 0,
              "ticks": ""
             }
            },
            "type": "scattercarpet"
           }
          ],
          "scattergeo": [
           {
            "marker": {
             "colorbar": {
              "outlinewidth": 0,
              "ticks": ""
             }
            },
            "type": "scattergeo"
           }
          ],
          "scattergl": [
           {
            "marker": {
             "colorbar": {
              "outlinewidth": 0,
              "ticks": ""
             }
            },
            "type": "scattergl"
           }
          ],
          "scattermap": [
           {
            "marker": {
             "colorbar": {
              "outlinewidth": 0,
              "ticks": ""
             }
            },
            "type": "scattermap"
           }
          ],
          "scattermapbox": [
           {
            "marker": {
             "colorbar": {
              "outlinewidth": 0,
              "ticks": ""
             }
            },
            "type": "scattermapbox"
           }
          ],
          "scatterpolar": [
           {
            "marker": {
             "colorbar": {
              "outlinewidth": 0,
              "ticks": ""
             }
            },
            "type": "scatterpolar"
           }
          ],
          "scatterpolargl": [
           {
            "marker": {
             "colorbar": {
              "outlinewidth": 0,
              "ticks": ""
             }
            },
            "type": "scatterpolargl"
           }
          ],
          "scatterternary": [
           {
            "marker": {
             "colorbar": {
              "outlinewidth": 0,
              "ticks": ""
             }
            },
            "type": "scatterternary"
           }
          ],
          "surface": [
           {
            "colorbar": {
             "outlinewidth": 0,
             "ticks": ""
            },
            "colorscale": [
             [
              0,
              "#0d0887"
             ],
             [
              0.1111111111111111,
              "#46039f"
             ],
             [
              0.2222222222222222,
              "#7201a8"
             ],
             [
              0.3333333333333333,
              "#9c179e"
             ],
             [
              0.4444444444444444,
              "#bd3786"
             ],
             [
              0.5555555555555556,
              "#d8576b"
             ],
             [
              0.6666666666666666,
              "#ed7953"
             ],
             [
              0.7777777777777778,
              "#fb9f3a"
             ],
             [
              0.8888888888888888,
              "#fdca26"
             ],
             [
              1,
              "#f0f921"
             ]
            ],
            "type": "surface"
           }
          ],
          "table": [
           {
            "cells": {
             "fill": {
              "color": "#EBF0F8"
             },
             "line": {
              "color": "white"
             }
            },
            "header": {
             "fill": {
              "color": "#C8D4E3"
             },
             "line": {
              "color": "white"
             }
            },
            "type": "table"
           }
          ]
         },
         "layout": {
          "annotationdefaults": {
           "arrowcolor": "#2a3f5f",
           "arrowhead": 0,
           "arrowwidth": 1
          },
          "autotypenumbers": "strict",
          "coloraxis": {
           "colorbar": {
            "outlinewidth": 0,
            "ticks": ""
           }
          },
          "colorscale": {
           "diverging": [
            [
             0,
             "#8e0152"
            ],
            [
             0.1,
             "#c51b7d"
            ],
            [
             0.2,
             "#de77ae"
            ],
            [
             0.3,
             "#f1b6da"
            ],
            [
             0.4,
             "#fde0ef"
            ],
            [
             0.5,
             "#f7f7f7"
            ],
            [
             0.6,
             "#e6f5d0"
            ],
            [
             0.7,
             "#b8e186"
            ],
            [
             0.8,
             "#7fbc41"
            ],
            [
             0.9,
             "#4d9221"
            ],
            [
             1,
             "#276419"
            ]
           ],
           "sequential": [
            [
             0,
             "#0d0887"
            ],
            [
             0.1111111111111111,
             "#46039f"
            ],
            [
             0.2222222222222222,
             "#7201a8"
            ],
            [
             0.3333333333333333,
             "#9c179e"
            ],
            [
             0.4444444444444444,
             "#bd3786"
            ],
            [
             0.5555555555555556,
             "#d8576b"
            ],
            [
             0.6666666666666666,
             "#ed7953"
            ],
            [
             0.7777777777777778,
             "#fb9f3a"
            ],
            [
             0.8888888888888888,
             "#fdca26"
            ],
            [
             1,
             "#f0f921"
            ]
           ],
           "sequentialminus": [
            [
             0,
             "#0d0887"
            ],
            [
             0.1111111111111111,
             "#46039f"
            ],
            [
             0.2222222222222222,
             "#7201a8"
            ],
            [
             0.3333333333333333,
             "#9c179e"
            ],
            [
             0.4444444444444444,
             "#bd3786"
            ],
            [
             0.5555555555555556,
             "#d8576b"
            ],
            [
             0.6666666666666666,
             "#ed7953"
            ],
            [
             0.7777777777777778,
             "#fb9f3a"
            ],
            [
             0.8888888888888888,
             "#fdca26"
            ],
            [
             1,
             "#f0f921"
            ]
           ]
          },
          "colorway": [
           "#636efa",
           "#EF553B",
           "#00cc96",
           "#ab63fa",
           "#FFA15A",
           "#19d3f3",
           "#FF6692",
           "#B6E880",
           "#FF97FF",
           "#FECB52"
          ],
          "font": {
           "color": "#2a3f5f"
          },
          "geo": {
           "bgcolor": "white",
           "lakecolor": "white",
           "landcolor": "#E5ECF6",
           "showlakes": true,
           "showland": true,
           "subunitcolor": "white"
          },
          "hoverlabel": {
           "align": "left"
          },
          "hovermode": "closest",
          "mapbox": {
           "style": "light"
          },
          "paper_bgcolor": "white",
          "plot_bgcolor": "#E5ECF6",
          "polar": {
           "angularaxis": {
            "gridcolor": "white",
            "linecolor": "white",
            "ticks": ""
           },
           "bgcolor": "#E5ECF6",
           "radialaxis": {
            "gridcolor": "white",
            "linecolor": "white",
            "ticks": ""
           }
          },
          "scene": {
           "xaxis": {
            "backgroundcolor": "#E5ECF6",
            "gridcolor": "white",
            "gridwidth": 2,
            "linecolor": "white",
            "showbackground": true,
            "ticks": "",
            "zerolinecolor": "white"
           },
           "yaxis": {
            "backgroundcolor": "#E5ECF6",
            "gridcolor": "white",
            "gridwidth": 2,
            "linecolor": "white",
            "showbackground": true,
            "ticks": "",
            "zerolinecolor": "white"
           },
           "zaxis": {
            "backgroundcolor": "#E5ECF6",
            "gridcolor": "white",
            "gridwidth": 2,
            "linecolor": "white",
            "showbackground": true,
            "ticks": "",
            "zerolinecolor": "white"
           }
          },
          "shapedefaults": {
           "line": {
            "color": "#2a3f5f"
           }
          },
          "ternary": {
           "aaxis": {
            "gridcolor": "white",
            "linecolor": "white",
            "ticks": ""
           },
           "baxis": {
            "gridcolor": "white",
            "linecolor": "white",
            "ticks": ""
           },
           "bgcolor": "#E5ECF6",
           "caxis": {
            "gridcolor": "white",
            "linecolor": "white",
            "ticks": ""
           }
          },
          "title": {
           "x": 0.05
          },
          "xaxis": {
           "automargin": true,
           "gridcolor": "white",
           "linecolor": "white",
           "ticks": "",
           "title": {
            "standoff": 15
           },
           "zerolinecolor": "white",
           "zerolinewidth": 2
          },
          "yaxis": {
           "automargin": true,
           "gridcolor": "white",
           "linecolor": "white",
           "ticks": "",
           "title": {
            "standoff": 15
           },
           "zerolinecolor": "white",
           "zerolinewidth": 2
          }
         }
        },
        "title": {
         "text": "Regression Plot: Actual vs. Predicted Density"
        },
        "xaxis": {
         "anchor": "y",
         "domain": [
          0,
          1
         ],
         "title": {
          "text": "Actual Density"
         }
        },
        "yaxis": {
         "anchor": "x",
         "domain": [
          0,
          1
         ],
         "title": {
          "text": "Predicted Density"
         }
        }
       }
      }
     },
     "metadata": {},
     "output_type": "display_data"
    }
   ],
   "source": [
    "fig = px.scatter(x=y_pred_train, y=y_train,\n",
    "                 opacity=0.5,  # Set opacity for better visualization\n",
    "                 trendline=\"ols\",  # Add trendline using Ordinary Least Squares\n",
    "                 title=\"Regression Plot: Actual vs. Predicted Density\")\n",
    "\n",
    "# Add ideal line (y = x)\n",
    "x_range = np.linspace(min(y_test_sc), max(y_test_sc), 100)\n",
    "fig.add_scatter(x=x_range, y=x_range, mode='lines',\n",
    "                line=dict(color='red', dash='dash'),\n",
    "                name='Ideal Line (y = x)')\n",
    "\n",
    "fig.update_layout(\n",
    "    xaxis_title=\"Actual Density\",\n",
    "    yaxis_title=\"Predicted Density\"\n",
    ")\n",
    "\n",
    "fig.show()\n"
   ]
  },
  {
   "cell_type": "code",
   "execution_count": 19,
   "metadata": {},
   "outputs": [
    {
     "data": {
      "application/vnd.plotly.v1+json": {
       "config": {
        "plotlyServerURL": "https://plot.ly"
       },
       "data": [
        {
         "hovertemplate": "x=%{x}<br>y=%{y}<extra></extra>",
         "legendgroup": "",
         "marker": {
          "color": "#636efa",
          "opacity": 0.5,
          "symbol": "circle"
         },
         "mode": "markers",
         "name": "",
         "orientation": "v",
         "showlegend": false,
         "type": "scatter",
         "x": {
          "bdata": "QM4qCvrdYMAQLdOvKxRhwILQgbwNT7lAoK6CSzPjd0DGKOd0heOjQOmqRMI2HbJARP0wdwiHvUDUE9W3lW6TQOPKSspa1sBA5v4g9NHQjUDqohdW7yyEQBiNGhbgJXNA3I2/QWGmfkAA8J/gy/ZEwADwJzVMrQdAAKO1ENCrN0DgEmcgzaFwQCbelt80/7tAXM1j+p2BukCElW4TTyWYQNSgpIrYD3pA7OiFHkdahUCAKbZwtw40wLCjIWnLpGNAUKWRNWldYMCUpRovadl6QJ/fD90QQrJAZFjFQPGqpkAgUMvK7KtVwLKUfydOmMBAUDJSgBkgm0DsfrHrjFqjQJcI7zQIS7BAtVChAEjfpUARcIG2/vGnQIp5c04pkLlA5MCnNLh0jEBh9n78NjyvQOeZWjVuE7dAgPZjJSTbQ0CUUG70OaezQIzER4YpS4dAgJsQFPjiX8Awc4Xc9CJgwMD6Xq19CWHA/K/dKyNPkECAPo+tUIVHwICAdMIV0FHA4MEHbIyfUUDAExD6q7ZcwND1XcqqGGHAABP+LbNGP8CA7YUXoQROwKDYqMtOAH1APfhSE7f+oUCywMyxJEG9QPjR6lWIuapAoh4MZDYsg0BAGIlSG8tkQNiCu8bebmtAQOA6cuABX8CEQngyGs+3QCigSlFYdHpApLBwzLb5l0AA8q8fFlIQQDiCXZdBAHdAANWfxKF4LMDMHdtsPAGVQA1AT33vaJpA4hjcgg+JpUBQcMHgH5ZgwBCOb3BezbxAgBe49Uwid0B6he3KsaS1QMOOB5fPTbhA",
          "dtype": "f8"
         },
         "xaxis": "x",
         "y": {
          "bdata": "AAAAAAAAVEAAAAAAAMBSQAAAAAAAW7tAAAAAAACwfEAAAAAAAHKhQAAAAAAA6LFAAAAAAABav0AAAAAAAJyRQAAAAAAAjMJAAAAAAADYjEAAAAAAAGiDQAAAAAAAcHxAAAAAAACog0AAAAAAACBnQAAAAAAAADJAAAAAAACwcEAAAAAAAAAAQAAAAAAAo71AAAAAAADyukAAAAAAAACWQAAAAAAAAAhAAAAAAABYhkAAAAAAAIBqQAAAAAAAACJAAAAAAADAWUAAAAAAAAAAQAAAAAAA87FAAAAAAADmpEAAAAAAAMBkQAEAAAAA+MBAAAAAAADMl0AAAAAAAOKgQAAAAAAARbBAAAAAAABupEAAAAAAADCnQAAAAAAAhLhAAAAAAADwjEAAAAAAAIatQAAAAAAAyLZAAAAAAAAAMkAAAAAAANexQAAAAAAAQIdAAAAAAAAAT0AAAAAAAIBJQAAAAAAAgFNAAAAAAAAwjkAAAAAAAGBoQAAAAAAAADxAAAAAAABgcUAAAAAAAIBbQAAAAAAAQFBA+P////8fakAAAAAAAAA3QAAAAAAAcIJAAAAAAABonkAAAAAAAFC8QAAAAAAA3KhAAAAAAAAA8D8AAAAAAAAgQAAAAAAAABhAAAAAAAAASkAAAAAAAAq5QAAAAAAAAABAAAAAAAC0lUAAAAAAACBrQAAAAAAAAABAAAAAAADga0AAAAAAAFCUQAAAAAAAbJhAAAAAAABepEAAAAAAAABaQAAAAAAAXr1AAAAAAAAIgUAAAAAAAPe1QAAAAAAACrhA",
          "dtype": "f8"
         },
         "yaxis": "y"
        },
        {
         "hovertemplate": "<b>OLS trendline</b><br>y = 1.01076 * x + -9.95537<br>R<sup>2</sup>=0.990873<br><br>x=%{x}<br>y=%{y} <b>(trend)</b><extra></extra>",
         "legendgroup": "",
         "marker": {
          "color": "#636efa",
          "symbol": "circle"
         },
         "mode": "lines",
         "name": "",
         "showlegend": false,
         "type": "scatter",
         "x": {
          "bdata": "0PVdyqoYYcAQLdOvKxRhwMD6Xq19CWHAQM4qCvrdYMBQcMHgH5ZgwFClkTVpXWDAMHOF3PQiYMCAmxAU+OJfwEDgOnLgAV/AwBMQ+qu2XMAgUMvK7KtVwICAdMIV0FHAgO2FF6EETsCAPo+tUIVHwADwn+DL9kTAABP+LbNGP8CAKbZwtw40wADVn8SheCzAAPAnNUytB0AA8q8fFlIQQACjtRDQqzdAgPZjJSTbQ0DgwQdsjJ9RQLCjIWnLpGNAQBiJUhvLZEDYgrvG3m5rQOASZyDNoXBAGI0aFuAlc0A4gl2XQQB3QIAXuPVMIndAoK6CSzPjd0DUoKSK2A96QCigSlFYdHpAlKUaL2nZekCg2KjLTgB9QNyNv0Fhpn5Aoh4MZDYsg0DqohdW7yyEQOzohR5HWoVAjMRHhilLh0DkwKc0uHSMQOb+IPTR0I1A/K/dKyNPkEDUE9W3lW6TQMwd22w8AZVApLBwzLb5l0CElW4TTyWYQA1AT33vaJpAUDJSgBkgm0A9+FITt/6hQOx+seuMWqNAxijndIXjo0DiGNyCD4mlQLVQoQBI36VAZFjFQPGqpkARcIG2/vGnQPjR6lWIuapAYfZ+/DY8r0CXCO80CEuwQOmqRMI2HbJAn98P3RBCskCUUG70OaezQHqF7cqxpLVA55laNW4Tt0CEQngyGs+3QMOOB5fPTbhAgtCBvA1PuUCKeXNOKZC5QFzNY/qdgbpAJt6W3zT/u0AQjm9wXs28QLLAzLEkQb1ARP0wdwiHvUCylH8nTpjAQOPKSspa1sBA",
          "dtype": "f8"
         },
         "xaxis": "x",
         "y": {
          "bdata": "nFp7nFiGYsD1KjQezYFiwE7ufq4Bd2LA9wFIJQZLYsCYldYAZgJiwElKGhETyWHAbt58p/2NYcBmqIOE/FthwInL5Zc66mDA38aPve6CX8CwcHxKyGRYwEPhimBPflTAa4WubdCoUcByrX5eacBMwGNGwR3ZKkrAmLaYAbrIRMCZ8BDZjjo+wN7vUqkdWDjAcpAMZQjbG8Cvi4e9PlMXwFB1Q9Xr8CtA8stJDiEvPkAqEBFU7aVOQOV0hUZZnGJA5ZaMIdTFY0BspkYX43tqQNAouM9XMHBA1IXCcVm7ckCuqGnPWKB2QDSB+vvBwnZAx/A01buFd0DWkGbaXrh5QP1SBovzHXpAfuSX4hqEekDHP0lu7rB8QAv2Md2LW35AxjX/z2URg0DcxKsg4hSEQHQgETp4RYVAXsKovbM7h0CyPeHSe3OMQJLsM7lU041AKpUi/UBUkECc+ZFSTnyTQPPeTn1KE5VA7ukkRvQTmEDmbwSsBECYQB1rWy7iiZpAJpF94QRDm0BUUws1YxyiQIUdKnn3e6NA60q8amkGpEAjw6j5fLClQJyQrgmjB6ZA8wUedH3VpkBuJOIRECCoQDby/UBC76pAJcU0gF5+r0BxYjhw+G2wQDEgdIArRbJANPfaJWtqskBiA8NabNOzQFT+Yvlf1rVA7ouy4w5Jt0BjkZb8vwa4QDestoLShrhAlRnXddWKuUCHQGNtpMy5QOUvJmeywLpA+BmJuWRCvECTLP5YxhK9QPBIN5vLh71AfbVb82/OvUB1b1eXDcHAQHbIczLF/8BA",
          "dtype": "f8"
         },
         "yaxis": "y"
        },
        {
         "line": {
          "color": "red",
          "dash": "dash"
         },
         "mode": "lines",
         "name": "Ideal Line (y = x)",
         "type": "scatter",
         "x": {
          "bdata": "amQoRLrS6r98RE8Nyq3pv40kdtbZiOi/nwSdn+lj57+w5MNo+T7mv8LE6jEJGuW/1KQR+xj147/mhDjEKNDiv/dkX404q+G/CEWGVkiG4L80Slo/sMLev1gKqNHPeNy/e8r1Y+8u2r+eikP2DuXXv8JKkYgum9W/5ArfGk5R078IyyytbQfRv1gW9X4ae82/nJaQo1nnyL/kFizImFPEv1Auj9mvf7+/4C7GIi5Ytr/gXvrXWGGqv+C/0NSqJJC/4D1TBlx5lD/QnbtwsYusP2DOJm9abbc/6Ob3Em5KwD+gZlzuLt7EP1jmwMnvcck/GGYlpbAFzj/o8kTAuEzRP8Qy9y2ZltM/oHKpm3ng1T98slsJWirYP1zyDXc6dNo/ODLA5Bq+3D8UcnJS+wffP/hYEuDtqOA/5njrFt7N4T/WmMRNzvLiP8S4nYS+F+Q/sth2u6485T+g+E/ynmHmP44YKSmPhuc/fDgCYH+r6D9sWNuWb9DpP1p4tM1f9eo/SJiNBFAa7D82uGY7QD/tPyTYP3IwZO4/FPgYqSCJ7z8BDPlvCFfwP/ibZYuA6fA/7yvSpvh78T/muz7CcA7yP91Lq93ooPI/1dsX+WAz8z/La4QU2cXzP8P78C9RWPQ/u4tdS8nq9D+xG8pmQX31P6mrNoK5D/Y/nzujnTGi9j+Xyw+5qTT3P49bfNQhx/c/hevo75lZ+D99e1ULEuz4P3MLwiaKfvk/a5suQgIR+j9jK5tdeqP6P1m7B3nyNfs/UUt0lGrI+z9H2+Cv4lr8Pz9rTcta7fw/N/u55tJ//T8tiyYCSxL+PyUbkx3DpP4/G6v/ODs3/z8TO2xUs8n/P4Zl7LcVLgBAgK2ixVF3AEB89VjTjcAAQHg9D+HJCQFAdIXF7gVTAUBuzXv8QZwBQGoVMgp+5QFAZl3oF7ouAkBipZ4l9ncCQF7tVDMywQJAWDULQW4KA0BUfcFOqlMDQFDFd1zmnANATA0uaiLmA0BIVeR3Xi8EQEKdmoWaeARAPuVQk9bBBEA6LQehEgsFQDZ1va5OVAVAMb1zvIqdBUA=",
          "dtype": "f8",
          "shape": "100, 1"
         },
         "y": {
          "bdata": "amQoRLrS6r98RE8Nyq3pv40kdtbZiOi/nwSdn+lj57+w5MNo+T7mv8LE6jEJGuW/1KQR+xj147/mhDjEKNDiv/dkX404q+G/CEWGVkiG4L80Slo/sMLev1gKqNHPeNy/e8r1Y+8u2r+eikP2DuXXv8JKkYgum9W/5ArfGk5R078IyyytbQfRv1gW9X4ae82/nJaQo1nnyL/kFizImFPEv1Auj9mvf7+/4C7GIi5Ytr/gXvrXWGGqv+C/0NSqJJC/4D1TBlx5lD/QnbtwsYusP2DOJm9abbc/6Ob3Em5KwD+gZlzuLt7EP1jmwMnvcck/GGYlpbAFzj/o8kTAuEzRP8Qy9y2ZltM/oHKpm3ng1T98slsJWirYP1zyDXc6dNo/ODLA5Bq+3D8UcnJS+wffP/hYEuDtqOA/5njrFt7N4T/WmMRNzvLiP8S4nYS+F+Q/sth2u6485T+g+E/ynmHmP44YKSmPhuc/fDgCYH+r6D9sWNuWb9DpP1p4tM1f9eo/SJiNBFAa7D82uGY7QD/tPyTYP3IwZO4/FPgYqSCJ7z8BDPlvCFfwP/ibZYuA6fA/7yvSpvh78T/muz7CcA7yP91Lq93ooPI/1dsX+WAz8z/La4QU2cXzP8P78C9RWPQ/u4tdS8nq9D+xG8pmQX31P6mrNoK5D/Y/nzujnTGi9j+Xyw+5qTT3P49bfNQhx/c/hevo75lZ+D99e1ULEuz4P3MLwiaKfvk/a5suQgIR+j9jK5tdeqP6P1m7B3nyNfs/UUt0lGrI+z9H2+Cv4lr8Pz9rTcta7fw/N/u55tJ//T8tiyYCSxL+PyUbkx3DpP4/G6v/ODs3/z8TO2xUs8n/P4Zl7LcVLgBAgK2ixVF3AEB89VjTjcAAQHg9D+HJCQFAdIXF7gVTAUBuzXv8QZwBQGoVMgp+5QFAZl3oF7ouAkBipZ4l9ncCQF7tVDMywQJAWDULQW4KA0BUfcFOqlMDQFDFd1zmnANATA0uaiLmA0BIVeR3Xi8EQEKdmoWaeARAPuVQk9bBBEA6LQehEgsFQDZ1va5OVAVAMb1zvIqdBUA=",
          "dtype": "f8",
          "shape": "100, 1"
         }
        }
       ],
       "layout": {
        "legend": {
         "tracegroupgap": 0
        },
        "template": {
         "data": {
          "bar": [
           {
            "error_x": {
             "color": "#2a3f5f"
            },
            "error_y": {
             "color": "#2a3f5f"
            },
            "marker": {
             "line": {
              "color": "#E5ECF6",
              "width": 0.5
             },
             "pattern": {
              "fillmode": "overlay",
              "size": 10,
              "solidity": 0.2
             }
            },
            "type": "bar"
           }
          ],
          "barpolar": [
           {
            "marker": {
             "line": {
              "color": "#E5ECF6",
              "width": 0.5
             },
             "pattern": {
              "fillmode": "overlay",
              "size": 10,
              "solidity": 0.2
             }
            },
            "type": "barpolar"
           }
          ],
          "carpet": [
           {
            "aaxis": {
             "endlinecolor": "#2a3f5f",
             "gridcolor": "white",
             "linecolor": "white",
             "minorgridcolor": "white",
             "startlinecolor": "#2a3f5f"
            },
            "baxis": {
             "endlinecolor": "#2a3f5f",
             "gridcolor": "white",
             "linecolor": "white",
             "minorgridcolor": "white",
             "startlinecolor": "#2a3f5f"
            },
            "type": "carpet"
           }
          ],
          "choropleth": [
           {
            "colorbar": {
             "outlinewidth": 0,
             "ticks": ""
            },
            "type": "choropleth"
           }
          ],
          "contour": [
           {
            "colorbar": {
             "outlinewidth": 0,
             "ticks": ""
            },
            "colorscale": [
             [
              0,
              "#0d0887"
             ],
             [
              0.1111111111111111,
              "#46039f"
             ],
             [
              0.2222222222222222,
              "#7201a8"
             ],
             [
              0.3333333333333333,
              "#9c179e"
             ],
             [
              0.4444444444444444,
              "#bd3786"
             ],
             [
              0.5555555555555556,
              "#d8576b"
             ],
             [
              0.6666666666666666,
              "#ed7953"
             ],
             [
              0.7777777777777778,
              "#fb9f3a"
             ],
             [
              0.8888888888888888,
              "#fdca26"
             ],
             [
              1,
              "#f0f921"
             ]
            ],
            "type": "contour"
           }
          ],
          "contourcarpet": [
           {
            "colorbar": {
             "outlinewidth": 0,
             "ticks": ""
            },
            "type": "contourcarpet"
           }
          ],
          "heatmap": [
           {
            "colorbar": {
             "outlinewidth": 0,
             "ticks": ""
            },
            "colorscale": [
             [
              0,
              "#0d0887"
             ],
             [
              0.1111111111111111,
              "#46039f"
             ],
             [
              0.2222222222222222,
              "#7201a8"
             ],
             [
              0.3333333333333333,
              "#9c179e"
             ],
             [
              0.4444444444444444,
              "#bd3786"
             ],
             [
              0.5555555555555556,
              "#d8576b"
             ],
             [
              0.6666666666666666,
              "#ed7953"
             ],
             [
              0.7777777777777778,
              "#fb9f3a"
             ],
             [
              0.8888888888888888,
              "#fdca26"
             ],
             [
              1,
              "#f0f921"
             ]
            ],
            "type": "heatmap"
           }
          ],
          "histogram": [
           {
            "marker": {
             "pattern": {
              "fillmode": "overlay",
              "size": 10,
              "solidity": 0.2
             }
            },
            "type": "histogram"
           }
          ],
          "histogram2d": [
           {
            "colorbar": {
             "outlinewidth": 0,
             "ticks": ""
            },
            "colorscale": [
             [
              0,
              "#0d0887"
             ],
             [
              0.1111111111111111,
              "#46039f"
             ],
             [
              0.2222222222222222,
              "#7201a8"
             ],
             [
              0.3333333333333333,
              "#9c179e"
             ],
             [
              0.4444444444444444,
              "#bd3786"
             ],
             [
              0.5555555555555556,
              "#d8576b"
             ],
             [
              0.6666666666666666,
              "#ed7953"
             ],
             [
              0.7777777777777778,
              "#fb9f3a"
             ],
             [
              0.8888888888888888,
              "#fdca26"
             ],
             [
              1,
              "#f0f921"
             ]
            ],
            "type": "histogram2d"
           }
          ],
          "histogram2dcontour": [
           {
            "colorbar": {
             "outlinewidth": 0,
             "ticks": ""
            },
            "colorscale": [
             [
              0,
              "#0d0887"
             ],
             [
              0.1111111111111111,
              "#46039f"
             ],
             [
              0.2222222222222222,
              "#7201a8"
             ],
             [
              0.3333333333333333,
              "#9c179e"
             ],
             [
              0.4444444444444444,
              "#bd3786"
             ],
             [
              0.5555555555555556,
              "#d8576b"
             ],
             [
              0.6666666666666666,
              "#ed7953"
             ],
             [
              0.7777777777777778,
              "#fb9f3a"
             ],
             [
              0.8888888888888888,
              "#fdca26"
             ],
             [
              1,
              "#f0f921"
             ]
            ],
            "type": "histogram2dcontour"
           }
          ],
          "mesh3d": [
           {
            "colorbar": {
             "outlinewidth": 0,
             "ticks": ""
            },
            "type": "mesh3d"
           }
          ],
          "parcoords": [
           {
            "line": {
             "colorbar": {
              "outlinewidth": 0,
              "ticks": ""
             }
            },
            "type": "parcoords"
           }
          ],
          "pie": [
           {
            "automargin": true,
            "type": "pie"
           }
          ],
          "scatter": [
           {
            "fillpattern": {
             "fillmode": "overlay",
             "size": 10,
             "solidity": 0.2
            },
            "type": "scatter"
           }
          ],
          "scatter3d": [
           {
            "line": {
             "colorbar": {
              "outlinewidth": 0,
              "ticks": ""
             }
            },
            "marker": {
             "colorbar": {
              "outlinewidth": 0,
              "ticks": ""
             }
            },
            "type": "scatter3d"
           }
          ],
          "scattercarpet": [
           {
            "marker": {
             "colorbar": {
              "outlinewidth": 0,
              "ticks": ""
             }
            },
            "type": "scattercarpet"
           }
          ],
          "scattergeo": [
           {
            "marker": {
             "colorbar": {
              "outlinewidth": 0,
              "ticks": ""
             }
            },
            "type": "scattergeo"
           }
          ],
          "scattergl": [
           {
            "marker": {
             "colorbar": {
              "outlinewidth": 0,
              "ticks": ""
             }
            },
            "type": "scattergl"
           }
          ],
          "scattermap": [
           {
            "marker": {
             "colorbar": {
              "outlinewidth": 0,
              "ticks": ""
             }
            },
            "type": "scattermap"
           }
          ],
          "scattermapbox": [
           {
            "marker": {
             "colorbar": {
              "outlinewidth": 0,
              "ticks": ""
             }
            },
            "type": "scattermapbox"
           }
          ],
          "scatterpolar": [
           {
            "marker": {
             "colorbar": {
              "outlinewidth": 0,
              "ticks": ""
             }
            },
            "type": "scatterpolar"
           }
          ],
          "scatterpolargl": [
           {
            "marker": {
             "colorbar": {
              "outlinewidth": 0,
              "ticks": ""
             }
            },
            "type": "scatterpolargl"
           }
          ],
          "scatterternary": [
           {
            "marker": {
             "colorbar": {
              "outlinewidth": 0,
              "ticks": ""
             }
            },
            "type": "scatterternary"
           }
          ],
          "surface": [
           {
            "colorbar": {
             "outlinewidth": 0,
             "ticks": ""
            },
            "colorscale": [
             [
              0,
              "#0d0887"
             ],
             [
              0.1111111111111111,
              "#46039f"
             ],
             [
              0.2222222222222222,
              "#7201a8"
             ],
             [
              0.3333333333333333,
              "#9c179e"
             ],
             [
              0.4444444444444444,
              "#bd3786"
             ],
             [
              0.5555555555555556,
              "#d8576b"
             ],
             [
              0.6666666666666666,
              "#ed7953"
             ],
             [
              0.7777777777777778,
              "#fb9f3a"
             ],
             [
              0.8888888888888888,
              "#fdca26"
             ],
             [
              1,
              "#f0f921"
             ]
            ],
            "type": "surface"
           }
          ],
          "table": [
           {
            "cells": {
             "fill": {
              "color": "#EBF0F8"
             },
             "line": {
              "color": "white"
             }
            },
            "header": {
             "fill": {
              "color": "#C8D4E3"
             },
             "line": {
              "color": "white"
             }
            },
            "type": "table"
           }
          ]
         },
         "layout": {
          "annotationdefaults": {
           "arrowcolor": "#2a3f5f",
           "arrowhead": 0,
           "arrowwidth": 1
          },
          "autotypenumbers": "strict",
          "coloraxis": {
           "colorbar": {
            "outlinewidth": 0,
            "ticks": ""
           }
          },
          "colorscale": {
           "diverging": [
            [
             0,
             "#8e0152"
            ],
            [
             0.1,
             "#c51b7d"
            ],
            [
             0.2,
             "#de77ae"
            ],
            [
             0.3,
             "#f1b6da"
            ],
            [
             0.4,
             "#fde0ef"
            ],
            [
             0.5,
             "#f7f7f7"
            ],
            [
             0.6,
             "#e6f5d0"
            ],
            [
             0.7,
             "#b8e186"
            ],
            [
             0.8,
             "#7fbc41"
            ],
            [
             0.9,
             "#4d9221"
            ],
            [
             1,
             "#276419"
            ]
           ],
           "sequential": [
            [
             0,
             "#0d0887"
            ],
            [
             0.1111111111111111,
             "#46039f"
            ],
            [
             0.2222222222222222,
             "#7201a8"
            ],
            [
             0.3333333333333333,
             "#9c179e"
            ],
            [
             0.4444444444444444,
             "#bd3786"
            ],
            [
             0.5555555555555556,
             "#d8576b"
            ],
            [
             0.6666666666666666,
             "#ed7953"
            ],
            [
             0.7777777777777778,
             "#fb9f3a"
            ],
            [
             0.8888888888888888,
             "#fdca26"
            ],
            [
             1,
             "#f0f921"
            ]
           ],
           "sequentialminus": [
            [
             0,
             "#0d0887"
            ],
            [
             0.1111111111111111,
             "#46039f"
            ],
            [
             0.2222222222222222,
             "#7201a8"
            ],
            [
             0.3333333333333333,
             "#9c179e"
            ],
            [
             0.4444444444444444,
             "#bd3786"
            ],
            [
             0.5555555555555556,
             "#d8576b"
            ],
            [
             0.6666666666666666,
             "#ed7953"
            ],
            [
             0.7777777777777778,
             "#fb9f3a"
            ],
            [
             0.8888888888888888,
             "#fdca26"
            ],
            [
             1,
             "#f0f921"
            ]
           ]
          },
          "colorway": [
           "#636efa",
           "#EF553B",
           "#00cc96",
           "#ab63fa",
           "#FFA15A",
           "#19d3f3",
           "#FF6692",
           "#B6E880",
           "#FF97FF",
           "#FECB52"
          ],
          "font": {
           "color": "#2a3f5f"
          },
          "geo": {
           "bgcolor": "white",
           "lakecolor": "white",
           "landcolor": "#E5ECF6",
           "showlakes": true,
           "showland": true,
           "subunitcolor": "white"
          },
          "hoverlabel": {
           "align": "left"
          },
          "hovermode": "closest",
          "mapbox": {
           "style": "light"
          },
          "paper_bgcolor": "white",
          "plot_bgcolor": "#E5ECF6",
          "polar": {
           "angularaxis": {
            "gridcolor": "white",
            "linecolor": "white",
            "ticks": ""
           },
           "bgcolor": "#E5ECF6",
           "radialaxis": {
            "gridcolor": "white",
            "linecolor": "white",
            "ticks": ""
           }
          },
          "scene": {
           "xaxis": {
            "backgroundcolor": "#E5ECF6",
            "gridcolor": "white",
            "gridwidth": 2,
            "linecolor": "white",
            "showbackground": true,
            "ticks": "",
            "zerolinecolor": "white"
           },
           "yaxis": {
            "backgroundcolor": "#E5ECF6",
            "gridcolor": "white",
            "gridwidth": 2,
            "linecolor": "white",
            "showbackground": true,
            "ticks": "",
            "zerolinecolor": "white"
           },
           "zaxis": {
            "backgroundcolor": "#E5ECF6",
            "gridcolor": "white",
            "gridwidth": 2,
            "linecolor": "white",
            "showbackground": true,
            "ticks": "",
            "zerolinecolor": "white"
           }
          },
          "shapedefaults": {
           "line": {
            "color": "#2a3f5f"
           }
          },
          "ternary": {
           "aaxis": {
            "gridcolor": "white",
            "linecolor": "white",
            "ticks": ""
           },
           "baxis": {
            "gridcolor": "white",
            "linecolor": "white",
            "ticks": ""
           },
           "bgcolor": "#E5ECF6",
           "caxis": {
            "gridcolor": "white",
            "linecolor": "white",
            "ticks": ""
           }
          },
          "title": {
           "x": 0.05
          },
          "xaxis": {
           "automargin": true,
           "gridcolor": "white",
           "linecolor": "white",
           "ticks": "",
           "title": {
            "standoff": 15
           },
           "zerolinecolor": "white",
           "zerolinewidth": 2
          },
          "yaxis": {
           "automargin": true,
           "gridcolor": "white",
           "linecolor": "white",
           "ticks": "",
           "title": {
            "standoff": 15
           },
           "zerolinecolor": "white",
           "zerolinewidth": 2
          }
         }
        },
        "title": {
         "text": "Regression Plot: Actual vs. Predicted Density"
        },
        "xaxis": {
         "anchor": "y",
         "domain": [
          0,
          1
         ],
         "title": {
          "text": "Actual Density"
         }
        },
        "yaxis": {
         "anchor": "x",
         "domain": [
          0,
          1
         ],
         "title": {
          "text": "Predicted Density"
         }
        }
       }
      }
     },
     "metadata": {},
     "output_type": "display_data"
    }
   ],
   "source": [
    "fig = px.scatter(x=y_pred_test, y=y_test,\n",
    "                 opacity=0.5,  # Set opacity for better visualization\n",
    "                 trendline=\"ols\",  # Add trendline using Ordinary Least Squares\n",
    "                 title=\"Regression Plot: Actual vs. Predicted Density\")\n",
    "\n",
    "# Add ideal line (y = x)\n",
    "x_range = np.linspace(min(y_test_sc), max(y_test_sc), 100)\n",
    "fig.add_scatter(x=x_range, y=x_range, mode='lines',\n",
    "                line=dict(color='red', dash='dash'),\n",
    "                name='Ideal Line (y = x)')\n",
    "\n",
    "fig.update_layout(\n",
    "    xaxis_title=\"Actual Density\",\n",
    "    yaxis_title=\"Predicted Density\"\n",
    ")\n",
    "\n",
    "fig.show()"
   ]
  },
  {
   "cell_type": "code",
   "execution_count": 20,
   "metadata": {},
   "outputs": [
    {
     "data": {
      "application/vnd.plotly.v1+json": {
       "config": {
        "plotlyServerURL": "https://plot.ly"
       },
       "data": [
        {
         "hovertemplate": "x=%{x}<br>y=%{y}<extra></extra>",
         "legendgroup": "",
         "marker": {
          "color": "#636efa",
          "opacity": 0.5,
          "symbol": "circle"
         },
         "mode": "markers",
         "name": "",
         "orientation": "v",
         "showlegend": false,
         "type": "scatter",
         "x": {
          "bdata": "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",
          "dtype": "f8"
         },
         "xaxis": "x",
         "y": {
          "bdata": "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",
          "dtype": "f8"
         },
         "yaxis": "y"
        },
        {
         "mode": "markers",
         "opacity": 0.5,
         "type": "scatter",
         "x": {
          "bdata": "46WbxCCw0j9CYOXQItvRP/p+arx0k+w/y6FFtvP93D9GtvP91HjlP28Sg8DKoek/6SYxCKwc7j/ByqFFtvPhP4XrUbgehe8/9ihcj8L14D+wcmiR7XzfPylcj8L1KNw/FK5H4XoU3j+4HoXrUbjWP05iEFg5tMg/VOOlm8Qg2D/4U+Olm8TAP8UgsHJoke0/oBov3SQG7T/hehSuR+HiP+F6FK5H4bo/AiuHFtnO3z8IrBxaZDvXPy/dJAaBlcM/MzMzMzMz0z+R7Xw/NV66PxkEVg4tsuk/EoPAyqFF5j9xPQrXo3DVP1yPwvUoXO8/BoGVQ4ts4z8dWmQ730/lP83MzMzMzOg/PzVeukkM5j85tMh2vp/mP3npJjEIrOw/zczMzMzM4D97FK5H4XroP4PAyqFFtus/sp3vp8ZLxz/n+6nx0k3qPylcj8L1KOA/+n5qvHST0D9OYhBYObTQP5HtfD81XtI/SOF6FK5H4T9kO99PjZfWP30/NV66Scw/9ihcj8L12D99PzVeuknUPz81XrpJDNI/YOXQItv51j/ZzvdT46XLP23n+6nx0t0/TDeJQWDl5D9qvHSTGATuP1yPwvUoXOc/2/l+arx0sz+HFtnO91PDP+xRuB6F68E/UrgehetR0D8AAAAAAADsPzm0yHa+n7o/DAIrhxbZ4j9YObTIdr7XPyGwcmiR7bw/XI/C9Shc1z8Sg8DKoUXiP7Kd76fGS+M/wcqhRbbz5T81XrpJDALTP0Jg5dAi2+0/d76fGi/d3D+JQWDl0CLrP/7UeOkmMew/",
          "dtype": "f8"
         },
         "y": {
          "bdata": "AAAAAAAAVEAAAAAAAMBSQAAAAAAAW7tAAAAAAACwfEAAAAAAAHKhQAAAAAAA6LFAAAAAAABav0AAAAAAAJyRQAAAAAAAjMJAAAAAAADYjEAAAAAAAGiDQAAAAAAAcHxAAAAAAACog0AAAAAAACBnQAAAAAAAADJAAAAAAACwcEAAAAAAAAAAQAAAAAAAo71AAAAAAADyukAAAAAAAACWQAAAAAAAAAhAAAAAAABYhkAAAAAAAIBqQAAAAAAAACJAAAAAAADAWUAAAAAAAAAAQAAAAAAA87FAAAAAAADmpEAAAAAAAMBkQAEAAAAA+MBAAAAAAADMl0AAAAAAAOKgQAAAAAAARbBAAAAAAABupEAAAAAAADCnQAAAAAAAhLhAAAAAAADwjEAAAAAAAIatQAAAAAAAyLZAAAAAAAAAMkAAAAAAANexQAAAAAAAQIdAAAAAAAAAT0AAAAAAAIBJQAAAAAAAgFNAAAAAAAAwjkAAAAAAAGBoQAAAAAAAADxAAAAAAABgcUAAAAAAAIBbQAAAAAAAQFBA+P////8fakAAAAAAAAA3QAAAAAAAcIJAAAAAAABonkAAAAAAAFC8QAAAAAAA3KhAAAAAAAAA8D8AAAAAAAAgQAAAAAAAABhAAAAAAAAASkAAAAAAAAq5QAAAAAAAAABAAAAAAAC0lUAAAAAAACBrQAAAAAAAAABAAAAAAADga0AAAAAAAFCUQAAAAAAAbJhAAAAAAABepEAAAAAAAABaQAAAAAAAXr1AAAAAAAAIgUAAAAAAAPe1QAAAAAAACrhA",
          "dtype": "f8"
         }
        }
       ],
       "layout": {
        "legend": {
         "tracegroupgap": 0
        },
        "template": {
         "data": {
          "bar": [
           {
            "error_x": {
             "color": "#2a3f5f"
            },
            "error_y": {
             "color": "#2a3f5f"
            },
            "marker": {
             "line": {
              "color": "#E5ECF6",
              "width": 0.5
             },
             "pattern": {
              "fillmode": "overlay",
              "size": 10,
              "solidity": 0.2
             }
            },
            "type": "bar"
           }
          ],
          "barpolar": [
           {
            "marker": {
             "line": {
              "color": "#E5ECF6",
              "width": 0.5
             },
             "pattern": {
              "fillmode": "overlay",
              "size": 10,
              "solidity": 0.2
             }
            },
            "type": "barpolar"
           }
          ],
          "carpet": [
           {
            "aaxis": {
             "endlinecolor": "#2a3f5f",
             "gridcolor": "white",
             "linecolor": "white",
             "minorgridcolor": "white",
             "startlinecolor": "#2a3f5f"
            },
            "baxis": {
             "endlinecolor": "#2a3f5f",
             "gridcolor": "white",
             "linecolor": "white",
             "minorgridcolor": "white",
             "startlinecolor": "#2a3f5f"
            },
            "type": "carpet"
           }
          ],
          "choropleth": [
           {
            "colorbar": {
             "outlinewidth": 0,
             "ticks": ""
            },
            "type": "choropleth"
           }
          ],
          "contour": [
           {
            "colorbar": {
             "outlinewidth": 0,
             "ticks": ""
            },
            "colorscale": [
             [
              0,
              "#0d0887"
             ],
             [
              0.1111111111111111,
              "#46039f"
             ],
             [
              0.2222222222222222,
              "#7201a8"
             ],
             [
              0.3333333333333333,
              "#9c179e"
             ],
             [
              0.4444444444444444,
              "#bd3786"
             ],
             [
              0.5555555555555556,
              "#d8576b"
             ],
             [
              0.6666666666666666,
              "#ed7953"
             ],
             [
              0.7777777777777778,
              "#fb9f3a"
             ],
             [
              0.8888888888888888,
              "#fdca26"
             ],
             [
              1,
              "#f0f921"
             ]
            ],
            "type": "contour"
           }
          ],
          "contourcarpet": [
           {
            "colorbar": {
             "outlinewidth": 0,
             "ticks": ""
            },
            "type": "contourcarpet"
           }
          ],
          "heatmap": [
           {
            "colorbar": {
             "outlinewidth": 0,
             "ticks": ""
            },
            "colorscale": [
             [
              0,
              "#0d0887"
             ],
             [
              0.1111111111111111,
              "#46039f"
             ],
             [
              0.2222222222222222,
              "#7201a8"
             ],
             [
              0.3333333333333333,
              "#9c179e"
             ],
             [
              0.4444444444444444,
              "#bd3786"
             ],
             [
              0.5555555555555556,
              "#d8576b"
             ],
             [
              0.6666666666666666,
              "#ed7953"
             ],
             [
              0.7777777777777778,
              "#fb9f3a"
             ],
             [
              0.8888888888888888,
              "#fdca26"
             ],
             [
              1,
              "#f0f921"
             ]
            ],
            "type": "heatmap"
           }
          ],
          "histogram": [
           {
            "marker": {
             "pattern": {
              "fillmode": "overlay",
              "size": 10,
              "solidity": 0.2
             }
            },
            "type": "histogram"
           }
          ],
          "histogram2d": [
           {
            "colorbar": {
             "outlinewidth": 0,
             "ticks": ""
            },
            "colorscale": [
             [
              0,
              "#0d0887"
             ],
             [
              0.1111111111111111,
              "#46039f"
             ],
             [
              0.2222222222222222,
              "#7201a8"
             ],
             [
              0.3333333333333333,
              "#9c179e"
             ],
             [
              0.4444444444444444,
              "#bd3786"
             ],
             [
              0.5555555555555556,
              "#d8576b"
             ],
             [
              0.6666666666666666,
              "#ed7953"
             ],
             [
              0.7777777777777778,
              "#fb9f3a"
             ],
             [
              0.8888888888888888,
              "#fdca26"
             ],
             [
              1,
              "#f0f921"
             ]
            ],
            "type": "histogram2d"
           }
          ],
          "histogram2dcontour": [
           {
            "colorbar": {
             "outlinewidth": 0,
             "ticks": ""
            },
            "colorscale": [
             [
              0,
              "#0d0887"
             ],
             [
              0.1111111111111111,
              "#46039f"
             ],
             [
              0.2222222222222222,
              "#7201a8"
             ],
             [
              0.3333333333333333,
              "#9c179e"
             ],
             [
              0.4444444444444444,
              "#bd3786"
             ],
             [
              0.5555555555555556,
              "#d8576b"
             ],
             [
              0.6666666666666666,
              "#ed7953"
             ],
             [
              0.7777777777777778,
              "#fb9f3a"
             ],
             [
              0.8888888888888888,
              "#fdca26"
             ],
             [
              1,
              "#f0f921"
             ]
            ],
            "type": "histogram2dcontour"
           }
          ],
          "mesh3d": [
           {
            "colorbar": {
             "outlinewidth": 0,
             "ticks": ""
            },
            "type": "mesh3d"
           }
          ],
          "parcoords": [
           {
            "line": {
             "colorbar": {
              "outlinewidth": 0,
              "ticks": ""
             }
            },
            "type": "parcoords"
           }
          ],
          "pie": [
           {
            "automargin": true,
            "type": "pie"
           }
          ],
          "scatter": [
           {
            "fillpattern": {
             "fillmode": "overlay",
             "size": 10,
             "solidity": 0.2
            },
            "type": "scatter"
           }
          ],
          "scatter3d": [
           {
            "line": {
             "colorbar": {
              "outlinewidth": 0,
              "ticks": ""
             }
            },
            "marker": {
             "colorbar": {
              "outlinewidth": 0,
              "ticks": ""
             }
            },
            "type": "scatter3d"
           }
          ],
          "scattercarpet": [
           {
            "marker": {
             "colorbar": {
              "outlinewidth": 0,
              "ticks": ""
             }
            },
            "type": "scattercarpet"
           }
          ],
          "scattergeo": [
           {
            "marker": {
             "colorbar": {
              "outlinewidth": 0,
              "ticks": ""
             }
            },
            "type": "scattergeo"
           }
          ],
          "scattergl": [
           {
            "marker": {
             "colorbar": {
              "outlinewidth": 0,
              "ticks": ""
             }
            },
            "type": "scattergl"
           }
          ],
          "scattermap": [
           {
            "marker": {
             "colorbar": {
              "outlinewidth": 0,
              "ticks": ""
             }
            },
            "type": "scattermap"
           }
          ],
          "scattermapbox": [
           {
            "marker": {
             "colorbar": {
              "outlinewidth": 0,
              "ticks": ""
             }
            },
            "type": "scattermapbox"
           }
          ],
          "scatterpolar": [
           {
            "marker": {
             "colorbar": {
              "outlinewidth": 0,
              "ticks": ""
             }
            },
            "type": "scatterpolar"
           }
          ],
          "scatterpolargl": [
           {
            "marker": {
             "colorbar": {
              "outlinewidth": 0,
              "ticks": ""
             }
            },
            "type": "scatterpolargl"
           }
          ],
          "scatterternary": [
           {
            "marker": {
             "colorbar": {
              "outlinewidth": 0,
              "ticks": ""
             }
            },
            "type": "scatterternary"
           }
          ],
          "surface": [
           {
            "colorbar": {
             "outlinewidth": 0,
             "ticks": ""
            },
            "colorscale": [
             [
              0,
              "#0d0887"
             ],
             [
              0.1111111111111111,
              "#46039f"
             ],
             [
              0.2222222222222222,
              "#7201a8"
             ],
             [
              0.3333333333333333,
              "#9c179e"
             ],
             [
              0.4444444444444444,
              "#bd3786"
             ],
             [
              0.5555555555555556,
              "#d8576b"
             ],
             [
              0.6666666666666666,
              "#ed7953"
             ],
             [
              0.7777777777777778,
              "#fb9f3a"
             ],
             [
              0.8888888888888888,
              "#fdca26"
             ],
             [
              1,
              "#f0f921"
             ]
            ],
            "type": "surface"
           }
          ],
          "table": [
           {
            "cells": {
             "fill": {
              "color": "#EBF0F8"
             },
             "line": {
              "color": "white"
             }
            },
            "header": {
             "fill": {
              "color": "#C8D4E3"
             },
             "line": {
              "color": "white"
             }
            },
            "type": "table"
           }
          ]
         },
         "layout": {
          "annotationdefaults": {
           "arrowcolor": "#2a3f5f",
           "arrowhead": 0,
           "arrowwidth": 1
          },
          "autotypenumbers": "strict",
          "coloraxis": {
           "colorbar": {
            "outlinewidth": 0,
            "ticks": ""
           }
          },
          "colorscale": {
           "diverging": [
            [
             0,
             "#8e0152"
            ],
            [
             0.1,
             "#c51b7d"
            ],
            [
             0.2,
             "#de77ae"
            ],
            [
             0.3,
             "#f1b6da"
            ],
            [
             0.4,
             "#fde0ef"
            ],
            [
             0.5,
             "#f7f7f7"
            ],
            [
             0.6,
             "#e6f5d0"
            ],
            [
             0.7,
             "#b8e186"
            ],
            [
             0.8,
             "#7fbc41"
            ],
            [
             0.9,
             "#4d9221"
            ],
            [
             1,
             "#276419"
            ]
           ],
           "sequential": [
            [
             0,
             "#0d0887"
            ],
            [
             0.1111111111111111,
             "#46039f"
            ],
            [
             0.2222222222222222,
             "#7201a8"
            ],
            [
             0.3333333333333333,
             "#9c179e"
            ],
            [
             0.4444444444444444,
             "#bd3786"
            ],
            [
             0.5555555555555556,
             "#d8576b"
            ],
            [
             0.6666666666666666,
             "#ed7953"
            ],
            [
             0.7777777777777778,
             "#fb9f3a"
            ],
            [
             0.8888888888888888,
             "#fdca26"
            ],
            [
             1,
             "#f0f921"
            ]
           ],
           "sequentialminus": [
            [
             0,
             "#0d0887"
            ],
            [
             0.1111111111111111,
             "#46039f"
            ],
            [
             0.2222222222222222,
             "#7201a8"
            ],
            [
             0.3333333333333333,
             "#9c179e"
            ],
            [
             0.4444444444444444,
             "#bd3786"
            ],
            [
             0.5555555555555556,
             "#d8576b"
            ],
            [
             0.6666666666666666,
             "#ed7953"
            ],
            [
             0.7777777777777778,
             "#fb9f3a"
            ],
            [
             0.8888888888888888,
             "#fdca26"
            ],
            [
             1,
             "#f0f921"
            ]
           ]
          },
          "colorway": [
           "#636efa",
           "#EF553B",
           "#00cc96",
           "#ab63fa",
           "#FFA15A",
           "#19d3f3",
           "#FF6692",
           "#B6E880",
           "#FF97FF",
           "#FECB52"
          ],
          "font": {
           "color": "#2a3f5f"
          },
          "geo": {
           "bgcolor": "white",
           "lakecolor": "white",
           "landcolor": "#E5ECF6",
           "showlakes": true,
           "showland": true,
           "subunitcolor": "white"
          },
          "hoverlabel": {
           "align": "left"
          },
          "hovermode": "closest",
          "mapbox": {
           "style": "light"
          },
          "paper_bgcolor": "white",
          "plot_bgcolor": "#E5ECF6",
          "polar": {
           "angularaxis": {
            "gridcolor": "white",
            "linecolor": "white",
            "ticks": ""
           },
           "bgcolor": "#E5ECF6",
           "radialaxis": {
            "gridcolor": "white",
            "linecolor": "white",
            "ticks": ""
           }
          },
          "scene": {
           "xaxis": {
            "backgroundcolor": "#E5ECF6",
            "gridcolor": "white",
            "gridwidth": 2,
            "linecolor": "white",
            "showbackground": true,
            "ticks": "",
            "zerolinecolor": "white"
           },
           "yaxis": {
            "backgroundcolor": "#E5ECF6",
            "gridcolor": "white",
            "gridwidth": 2,
            "linecolor": "white",
            "showbackground": true,
            "ticks": "",
            "zerolinecolor": "white"
           },
           "zaxis": {
            "backgroundcolor": "#E5ECF6",
            "gridcolor": "white",
            "gridwidth": 2,
            "linecolor": "white",
            "showbackground": true,
            "ticks": "",
            "zerolinecolor": "white"
           }
          },
          "shapedefaults": {
           "line": {
            "color": "#2a3f5f"
           }
          },
          "ternary": {
           "aaxis": {
            "gridcolor": "white",
            "linecolor": "white",
            "ticks": ""
           },
           "baxis": {
            "gridcolor": "white",
            "linecolor": "white",
            "ticks": ""
           },
           "bgcolor": "#E5ECF6",
           "caxis": {
            "gridcolor": "white",
            "linecolor": "white",
            "ticks": ""
           }
          },
          "title": {
           "x": 0.05
          },
          "xaxis": {
           "automargin": true,
           "gridcolor": "white",
           "linecolor": "white",
           "ticks": "",
           "title": {
            "standoff": 15
           },
           "zerolinecolor": "white",
           "zerolinewidth": 2
          },
          "yaxis": {
           "automargin": true,
           "gridcolor": "white",
           "linecolor": "white",
           "ticks": "",
           "title": {
            "standoff": 15
           },
           "zerolinecolor": "white",
           "zerolinewidth": 2
          }
         }
        },
        "title": {
         "text": "Regression Plot: Actual vs. Predicted Density"
        },
        "xaxis": {
         "anchor": "y",
         "domain": [
          0,
          1
         ],
         "title": {
          "text": "x"
         }
        },
        "yaxis": {
         "anchor": "x",
         "domain": [
          0,
          1
         ],
         "title": {
          "text": "y"
         }
        }
       }
      }
     },
     "metadata": {},
     "output_type": "display_data"
    }
   ],
   "source": [
    "\n",
    "fig = px.scatter(x=X_train, y=y_train,\n",
    "                 opacity=0.5,  # Set opacity for better visualization\n",
    "                 title=\"Regression Plot: Actual vs. Predicted Density\")\n",
    "\n",
    "fig.add_scatter(x=X_test, y=y_test,\n",
    "                 opacity=0.5, mode='markers')  # Set opacity for better visualization)\n",
    "\n",
    "fig.show()"
   ]
  },
  {
   "cell_type": "code",
   "execution_count": null,
   "metadata": {},
   "outputs": [],
   "source": []
  }
 ],
 "metadata": {
  "kernelspec": {
   "display_name": "pds_standard",
   "language": "python",
   "name": "python3"
  },
  "language_info": {
   "codemirror_mode": {
    "name": "ipython",
    "version": 3
   },
   "file_extension": ".py",
   "mimetype": "text/x-python",
   "name": "python",
   "nbconvert_exporter": "python",
   "pygments_lexer": "ipython3",
   "version": "3.12.9"
  }
 },
 "nbformat": 4,
 "nbformat_minor": 2
}
